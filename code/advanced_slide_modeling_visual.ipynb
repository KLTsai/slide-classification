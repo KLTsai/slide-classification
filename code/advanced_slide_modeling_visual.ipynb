{
 "cells": [
  {
   "cell_type": "markdown",
   "metadata": {
    "toc": true
   },
   "source": [
    "<h1>Table of Contents<span class=\"tocSkip\"></span></h1>\n",
    "<div class=\"toc\"><ul class=\"toc-item\"><li><span><a href=\"#Parameters\" data-toc-modified-id=\"Parameters-1\"><span class=\"toc-item-num\">1&nbsp;&nbsp;</span>Parameters</a></span></li><li><span><a href=\"#Load-JSON-files-and-correspond-images\" data-toc-modified-id=\"Load-JSON-files-and-correspond-images-2\"><span class=\"toc-item-num\">2&nbsp;&nbsp;</span>Load JSON files and correspond images</a></span></li><li><span><a href=\"#Customize-UNITYDataset\" data-toc-modified-id=\"Customize-UNITYDataset-3\"><span class=\"toc-item-num\">3&nbsp;&nbsp;</span>Customize UNITYDataset</a></span></li><li><span><a href=\"#Advanced-model-construction\" data-toc-modified-id=\"Advanced-model-construction-4\"><span class=\"toc-item-num\">4&nbsp;&nbsp;</span>Advanced model construction</a></span><ul class=\"toc-item\"><li><span><a href=\"#Models'-parameters\" data-toc-modified-id=\"Models'-parameters-4.1\"><span class=\"toc-item-num\">4.1&nbsp;&nbsp;</span>Models' parameters</a></span></li><li><span><a href=\"#Training-process\" data-toc-modified-id=\"Training-process-4.2\"><span class=\"toc-item-num\">4.2&nbsp;&nbsp;</span>Training process</a></span></li></ul></li><li><span><a href=\"#Saving-model\" data-toc-modified-id=\"Saving-model-5\"><span class=\"toc-item-num\">5&nbsp;&nbsp;</span>Saving model</a></span></li><li><span><a href=\"#Validate-model\" data-toc-modified-id=\"Validate-model-6\"><span class=\"toc-item-num\">6&nbsp;&nbsp;</span>Validate model</a></span></li><li><span><a href=\"#Load-trained-model-to-predict\" data-toc-modified-id=\"Load-trained-model-to-predict-7\"><span class=\"toc-item-num\">7&nbsp;&nbsp;</span>Load trained model to predict</a></span></li><li><span><a href=\"#Visualization-from-runs\" data-toc-modified-id=\"Visualization-from-runs-8\"><span class=\"toc-item-num\">8&nbsp;&nbsp;</span>Visualization from <code>runs</code></a></span></li><li><span><a href=\"#Creating-a-performance-benchmark\" data-toc-modified-id=\"Creating-a-performance-benchmark-9\"><span class=\"toc-item-num\">9&nbsp;&nbsp;</span>Creating a performance benchmark</a></span></li></ul></div>"
   ]
  },
  {
   "cell_type": "markdown",
   "metadata": {
    "id": "QCl7rKJiWX8c"
   },
   "source": [
    "# Parameters"
   ]
  },
  {
   "cell_type": "code",
   "execution_count": 1,
   "metadata": {
    "colab": {
     "base_uri": "https://localhost:8080/"
    },
    "id": "nEvDCxYDyOdl",
    "outputId": "d82ec7d8-14e0-4d0f-f853-a70182db12cd"
   },
   "outputs": [
    {
     "name": "stdout",
     "output_type": "stream",
     "text": [
      "a_vis_e9_b4_lr2.5e-4\n",
      "No GPU available, using the CPU instead.\n"
     ]
    }
   ],
   "source": [
    "import torch\n",
    "\n",
    "def sci_format(number_in_scientific_notation):\n",
    "  # Convert the number to a string in scientific notation\n",
    "  number_str = \"{:.1e}\".format(number_in_scientific_notation)\n",
    "\n",
    "  # Check if the exponent contains a leading zero\n",
    "  if \"e-0\" in number_str:\n",
    "      # Remove the leading zero from the exponent\n",
    "      formatted_exponent = number_str.replace(\"e-0\", \"e-\")\n",
    "  else:\n",
    "      formatted_exponent = number_str\n",
    "\n",
    "  # Check if the formatted exponent has a decimal point\n",
    "  if \".\" in formatted_exponent:\n",
    "      # Remove the decimal point and extra zeros from the exponent\n",
    "      formatted_number_str = formatted_exponent.replace(\".0e\", \"e\").replace(\"0e\", \"e\")\n",
    "  else:\n",
    "      formatted_number_str = formatted_exponent\n",
    "  return formatted_number_str\n",
    "\n",
    "# parameters for adjestment\n",
    "labels_json = 'backup_23148_4374.json'\n",
    "# type of image ('vis' or 'mono')\n",
    "split_ = 'vis'\n",
    "# The DataLoader needs to know our batch size for training, so we specify it\n",
    "# here. For fine-tuning ViT on a specific task, the authors recommend a batch\n",
    "# size of 16 or 32.\n",
    "batch_size = 4\n",
    "# Number of training epochs. The BERT authors recommend between 2 and 4.\n",
    "# Depends on training criterian\n",
    "epochs = 9\n",
    "\n",
    "learning_rate = 2.5e-4 # args.learning_rate - default is 5e-5, our notebook would adjust\n",
    "lr_format = sci_format(learning_rate)\n",
    "\n",
    "# training records\n",
    "# a = advance, text = textual approachs, e = epoch, b = batch, lr = learning rate\n",
    "runs_name = f'a_{split_}_e{epochs}_b{batch_size}_lr{lr_format}'\n",
    "eps = 1e-7 # args.adam_epsilon  - default is 1e-8.\n",
    "\n",
    "print(runs_name)\n",
    "# Saving training process steps and validation process steps\n",
    "runs_output = f\"./output/runs/{runs_name}\"\n",
    "# Saving best-practices: if you use defaults names for the model, you can reload it using from_pretrained()\n",
    "output_dir = f'./output/checkpoints/{runs_name}'\n",
    "\n",
    "# If there's a GPU available...\n",
    "if torch.cuda.is_available():\n",
    "\n",
    "    # Tell PyTorch to use the GPU.\n",
    "    device = torch.device(\"cuda\")\n",
    "\n",
    "    print('There are %d GPU(s) available.' % torch.cuda.device_count())\n",
    "\n",
    "    print('We will use the GPU:', torch.cuda.get_device_name(0))\n",
    "\n",
    "# If not...\n",
    "else:\n",
    "    print('No GPU available, using the CPU instead.')\n",
    "    device = torch.device(\"cpu\")\n"
   ]
  },
  {
   "cell_type": "markdown",
   "metadata": {
    "id": "4FFwnRzH9qK4"
   },
   "source": [
    "# Load JSON files and correspond images"
   ]
  },
  {
   "cell_type": "code",
   "execution_count": 2,
   "metadata": {
    "id": "AHt8HRJa-ClZ"
   },
   "outputs": [],
   "source": [
    "import glob\n",
    "import numpy as np\n",
    "import pandas as pd\n",
    "import torch\n",
    "import ast\n",
    "import re\n",
    "import os\n",
    "from torch.utils.data import Dataset, DataLoader\n",
    "from torch.utils.data import random_split\n",
    "from PIL import Image\n",
    "\n",
    "def convert_to_list(data):\n",
    "    return ast.literal_eval(data)\n",
    "\n",
    "\n",
    "current_path = os.getcwd()\n",
    "text_path = os.path.join(current_path, 'alignment_pptx_list.csv')\n",
    "# Since it take too much time on traversal ppt files, Easily to import the dataframe from the csv file\n",
    "df_da = pd.read_csv(text_path, converters={'shape_type': convert_to_list})\n",
    "df_da = df_da[~df_da['contents'].isnull()]"
   ]
  },
  {
   "cell_type": "code",
   "execution_count": 3,
   "metadata": {
    "colab": {
     "base_uri": "https://localhost:8080/"
    },
    "id": "CJo9vemG-G7W",
    "outputId": "569e1f57-3fab-4fea-bf37-1e40d5dbd8af"
   },
   "outputs": [
    {
     "name": "stdout",
     "output_type": "stream",
     "text": [
      "<class 'pandas.core.frame.DataFrame'>\n",
      "Int64Index: 23148 entries, 0 to 26467\n",
      "Data columns (total 5 columns):\n",
      " #   Column      Non-Null Count  Dtype \n",
      "---  ------      --------------  ----- \n",
      " 0   file_name   23148 non-null  object\n",
      " 1   page_num    23148 non-null  int64 \n",
      " 2   shape_type  23148 non-null  object\n",
      " 3   contents    23148 non-null  object\n",
      " 4   word_count  23148 non-null  int64 \n",
      "dtypes: int64(2), object(3)\n",
      "memory usage: 1.1+ MB\n"
     ]
    }
   ],
   "source": [
    "# filter out less than 4 words\n",
    "df_da['word_count'] = df_da['contents'].apply(lambda x: len(str(x).split()) if pd.notna(x) else 0)\n",
    "df_few_words = df_da[~(df_da['word_count'] <= 4)]\n",
    "df_few_words.info()"
   ]
  },
  {
   "cell_type": "markdown",
   "metadata": {
    "id": "bkwtumeZ_xzi"
   },
   "source": [
    "- In this procedure, we would like to handle image names in JSON downloaded from **Label-Studio**. Since image names in **Label-Studio** get garbled when they exceed a certain length, we need to refine them.\n",
    "\n",
    "- We only deal with **22348** (KTR number) so far, the rest of nummbers ignore as following cells.  "
   ]
  },
  {
   "cell_type": "code",
   "execution_count": null,
   "metadata": {
    "colab": {
     "base_uri": "https://localhost:8080/"
    },
    "id": "pKJveydn-Jc-",
    "outputId": "54efd05a-c24d-469e-bf37-98f0a776cc9a",
    "scrolled": true
   },
   "outputs": [],
   "source": [
    "df_json = pd.read_json(os.path.join(current_path, 'output', 'LABELS', labels_json))\n",
    "# have done for annotations\n",
    "df_json = df_json[df_json['annotations'].apply(lambda x: len(x) != 0)]\n",
    "# annotation results exist\n",
    "df_json = df_json[df_json['annotations'].apply(lambda x: len(x[0]['result']) != 0)]\n",
    "# 22348 for 13th slide\n",
    "count = 13\n",
    "\n",
    "df_few_words['label'] = ''\n",
    "\n",
    "for idx, row in enumerate(df_json.iterrows()):\n",
    "  slide = row[1]\n",
    "  image_path = slide['data']['image']\n",
    "  choice = slide['annotations'][0]['result'][0]['value']['choices'][0]\n",
    "  # print(file_path, choice)\n",
    "  if image_path.find('22348')!=-1:\n",
    "    # print(image_path, choice)\n",
    "    new_image_name = image_path.split('.')[0] + '_' + str(count) + '.PNG'\n",
    "    # update new name that matches length limitation\n",
    "    slide['data']['image'] = new_image_name\n",
    "    image_path = new_image_name\n",
    "    print(image_path)\n",
    "    count += 1\n",
    "\n",
    "  # get page number\n",
    "  if image_path.split('.')[0].split('_')[-1].isdigit():\n",
    "    page = int(image_path.split('.')[0].split('_')[-1])\n",
    "  else:\n",
    "    page = 0\n",
    "\n",
    "  # given 'Angebot\\ktr' as a condition\n",
    "  ktr = image_path.split('-')[1].split('_')[0]\n",
    "  ktr = 'Angebot\\\\'+ ktr\n",
    "  ktr = re.escape(ktr)\n",
    "\n",
    "  # some issues that it should modify manually\n",
    "  if (ktr == '22348' and page == 13):\n",
    "    df_few_words.loc[(df_few_words['file_name'].str.contains(ktr)) & (df_few_words['page_num'] == page), 'label'] = 'Initial Situation'\n",
    "    continue\n",
    "  elif (ktr == '22348' and page == 14):\n",
    "    df_few_words.loc[(df_few_words['file_name'].str.contains(ktr)) & (df_few_words['page_num'] == page), 'label'] = 'Target Situation'\n",
    "    continue\n",
    "\n",
    "  df_few_words.loc[(df_few_words['file_name'].str.contains(ktr)) & (df_few_words['page_num'] == page), 'label'] = choice\n",
    "\n",
    "df_few_words.info()\n"
   ]
  },
  {
   "cell_type": "markdown",
   "metadata": {
    "id": "vsknk2Wg6z5x"
   },
   "source": [
    "# Customize UNITYDataset"
   ]
  },
  {
   "cell_type": "markdown",
   "metadata": {
    "id": "96SX1e1kAboC"
   },
   "source": [
    "Since we need to customise our dataset that can be used in pytorch, `JSON` file provides annotations and image file names"
   ]
  },
  {
   "cell_type": "code",
   "execution_count": null,
   "metadata": {
    "colab": {
     "base_uri": "https://localhost:8080/"
    },
    "id": "8zXdpW0rng5D",
    "outputId": "b095bd26-ee3b-4f99-8639-b3f502ff9613",
    "scrolled": false
   },
   "outputs": [],
   "source": [
    "import os\n",
    "import random\n",
    "import pandas as pd\n",
    "import torch\n",
    "import torchvision.transforms as trns\n",
    "from PIL import Image\n",
    "from torch.utils.data import Dataset, DataLoader, SubsetRandomSampler\n",
    "from decimal import Decimal\n",
    "\n",
    "class UNITYDataset(Dataset):\n",
    "    def __init__(self, transform, split='vis', img_size=384):\n",
    "        self.data = []\n",
    "        self.png_dict = {}\n",
    "        self.img_size = img_size\n",
    "        self.transform = transform\n",
    "        self.split = split\n",
    "        self.imgs_path = f'./output/mmocr_pre/{self.split}'\n",
    "        file_list = [file for file in os.listdir(self.imgs_path)]\n",
    "        # print(file_list)\n",
    "        # create dictionary\n",
    "        for i in file_list:\n",
    "          ktr, page = i.split('/')[-1].split('_')[0], i.split('/')[-1].split('_')[-1].split('.')[0]\n",
    "          png_page = int(page)\n",
    "          self.png_dict[(ktr, png_page)] = i\n",
    "\n",
    "        # since the string names are too long, we would like to ignore them. So pick snippet as key words\n",
    "        long_name_list = ['20830_Further_Support_Enhancing']\n",
    "        # corressponding\n",
    "        for row in df_json.iterrows():\n",
    "          jump = False\n",
    "          image_path = row[1]['data']['image']\n",
    "          for long_name in long_name_list:\n",
    "            if long_name in image_path:\n",
    "              # print(f'ignore: {image_path}')\n",
    "              jump = True\n",
    "              break\n",
    "\n",
    "          # ignore long string file name\n",
    "          if jump:\n",
    "            continue\n",
    "          print(image_path)\n",
    "\n",
    "          ktr = image_path.split('-')[1].split('_')[0]\n",
    "          page_num = int(image_path.split('/')[-1].split('.')[0].split('_')[-1])\n",
    "          choice = row[1]['annotations'][0]['result'][0]['value']['choices'][0]\n",
    "          # we do not consider 'Others' category\n",
    "          if choice!= 'Others':\n",
    "            self.data.append([self.png_dict[(ktr, page_num)], choice])\n",
    "            # print(self.png_dict[(ktr, page_num)], choice)\n",
    "\n",
    "\n",
    "        self.class_map = {'Competencies': 0,\n",
    "                          'Consultant Profile':1,\n",
    "                          'Initial & Target Situation':2,\n",
    "                          'Initial Situation':3,\n",
    "                          'Offer Title':4,\n",
    "                          'Project Calculation':5,\n",
    "                          'Reference Details':6,\n",
    "                          'Reference Overview':7,\n",
    "                          'Target Situation':8,\n",
    "                          'Working Package Description':9,\n",
    "                          'Working Package Examples':10,\n",
    "                          'Working Package Overview':11,\n",
    "                    }\n",
    "\n",
    "        self.img_dim = (self.img_size, self.img_size)\n",
    "\n",
    "    def __len__(self):\n",
    "        return len(self.data)\n",
    "\n",
    "    def __getitem__(self, idx):\n",
    "        img_path, label_name = self.data[idx]\n",
    "        read_path = os.path.join(self.imgs_path, img_path)\n",
    "\n",
    "        if self.split == 'vis':\n",
    "            img = Image.open(read_path).convert('RGB')\n",
    "        elif self.split == 'mono':\n",
    "            img = Image.open(read_path).convert('L')\n",
    "            img = Image.merge(\"RGB\", [img]*3)\n",
    "\n",
    "        if self.transform is not None:\n",
    "            img = self.transform(img)\n",
    "\n",
    "        class_id = self.class_map[label_name]\n",
    "\n",
    "        return img, class_id\n",
    "\n",
    "\n",
    "def collate_fn(batch):\n",
    "    return {\n",
    "        'pixel_values': torch.stack([x[0] for x in batch]),\n",
    "        'labels': torch.tensor([x[1] for x in batch])\n",
    "    }\n",
    "\n",
    "\n",
    "def create_datasets(train_transform, test_transform, batch_size=4, train_ratio=0.8, random_seed=42):\n",
    "    # Set the random seed for reproducibility\n",
    "    np.random.seed(random_seed)\n",
    "\n",
    "    # Create the dataset with the specified transform\n",
    "    dataset = UNITYDataset(transform=train_transform, split=split_, img_size=384)\n",
    "    train_ratio = str(train_ratio)\n",
    "    val_ratio = float((Decimal('1.0') - Decimal(train_ratio))/2)\n",
    "    train_ratio = float(train_ratio)\n",
    "    # Calculate the split indices\n",
    "    num_samples = len(dataset)\n",
    "    num_train_samples = int(num_samples * train_ratio)\n",
    "    num_val_samples = int(num_samples * val_ratio)\n",
    "\n",
    "    indices = list(range(num_samples))\n",
    "    np.random.shuffle(indices)  # Shuffle the indices using the same random seed\n",
    "\n",
    "    train_indices = indices[:num_train_samples]\n",
    "    val_indices = indices[num_train_samples:num_train_samples+num_val_samples]\n",
    "    test_indices = indices[num_train_samples+num_val_samples:]\n",
    "\n",
    "    print(f'train: {len(train_indices)}')\n",
    "    print(f'validation: {len(val_indices)}')\n",
    "    print(f'test:{len(test_indices)}')\n",
    "\n",
    "    # Create train, validation, and test samplers\n",
    "    train_sampler = SubsetRandomSampler(train_indices)\n",
    "    val_sampler = SubsetRandomSampler(val_indices)\n",
    "    test_sampler = SubsetRandomSampler(test_indices)\n",
    "\n",
    "    # Create data loaders for train, validation, and test datasets\n",
    "    train_loader = DataLoader(dataset, batch_size=batch_size, sampler=train_sampler, collate_fn=collate_fn, num_workers=2)\n",
    "    val_dataset = UNITYDataset(transform=test_transform, split=split_, img_size=384)\n",
    "    val_loader = DataLoader(val_dataset, batch_size=batch_size, sampler=val_sampler, collate_fn=collate_fn, num_workers=2)\n",
    "    test_dataset = UNITYDataset(transform=test_transform, split=split_, img_size=384)\n",
    "    test_loader = DataLoader(test_dataset, batch_size=batch_size, sampler=test_sampler, collate_fn=collate_fn, num_workers=2)\n",
    "\n",
    "    label2id = {}\n",
    "    id2label = {}\n",
    "\n",
    "    for class_name, id in dataset.class_map.items():\n",
    "        label2id[class_name] = id\n",
    "        id2label[id] = class_name\n",
    "\n",
    "    return train_loader, val_loader, test_loader, label2id, id2label\n",
    "# ////////////////////////////////////////////////////////////////////////////////////////////////////////////////////////////////\n",
    "\n",
    "# Define the transformations for train and test datasets\n",
    "train_transform = trns.Compose([\n",
    "    trns.Resize((384, 384)),\n",
    "    trns.RandomHorizontalFlip(p=0.5),\n",
    "    trns.RandomResizedCrop((384, 384), scale=(0.8, 1.0), ratio=(0.75, 1.3333333333333333), interpolation=2),\n",
    "    trns.ToTensor(),\n",
    "    trns.Normalize(mean=[0.5, 0.5, 0.5], std=[0.5, 0.5, 0.5]),\n",
    "])\n",
    "\n",
    "test_transform = trns.Compose([\n",
    "    trns.Resize((384, 384)),\n",
    "    trns.ToTensor(),\n",
    "    trns.Normalize(mean=[0.5, 0.5, 0.5], std=[0.5, 0.5, 0.5]),\n",
    "])\n",
    "\n",
    "# Create train and test datasets with the specified train_ratio\n",
    "train_dataloader, val_dataloader, test_dataloader, label2id, id2label = create_datasets(train_transform, test_transform, batch_size, train_ratio=0.8)\n",
    "\n",
    "# save tensor for performance evaluation\n",
    "if split_ == 'vis':\n",
    "  torch.save(test_dataloader, './output/others/vis_test_dataloader.pth')\n",
    "else:\n",
    "  torch.save(test_dataloader, './output/others/mono_test_dataloader.pth')"
   ]
  },
  {
   "cell_type": "markdown",
   "metadata": {
    "id": "mFXJCczwYPMR"
   },
   "source": [
    "# Advanced model construction"
   ]
  },
  {
   "cell_type": "code",
   "execution_count": null,
   "metadata": {
    "id": "5kDtswxg5FE2"
   },
   "outputs": [],
   "source": [
    "# import pytorch_lightning as pl\n",
    "from transformers import ViTForImageClassification, AdamW\n",
    "from torch.optim import Adam\n",
    "import torch.nn as nn"
   ]
  },
  {
   "cell_type": "code",
   "execution_count": null,
   "metadata": {
    "colab": {
     "base_uri": "https://localhost:8080/"
    },
    "id": "rMTUoo81QdPu",
    "outputId": "46d31385-567d-4b27-e35a-c3a21ae07a6e"
   },
   "outputs": [
    {
     "name": "stderr",
     "output_type": "stream",
     "text": [
      "Some weights of ViTForImageClassification were not initialized from the model checkpoint at kakaobrain/vit-large-patch16-384 and are newly initialized because the shapes did not match:\n",
      "- classifier.weight: found shape torch.Size([1000, 1024]) in the checkpoint and torch.Size([12, 1024]) in the model instantiated\n",
      "- classifier.bias: found shape torch.Size([1000]) in the checkpoint and torch.Size([12]) in the model instantiated\n",
      "You should probably TRAIN this model on a down-stream task to be able to use it for predictions and inference.\n"
     ]
    },
    {
     "name": "stdout",
     "output_type": "stream",
     "text": [
      "ViTForImageClassification(\n",
      "  (vit): ViTModel(\n",
      "    (embeddings): ViTEmbeddings(\n",
      "      (patch_embeddings): ViTPatchEmbeddings(\n",
      "        (projection): Conv2d(3, 1024, kernel_size=(16, 16), stride=(16, 16))\n",
      "      )\n",
      "      (dropout): Dropout(p=0.0, inplace=False)\n",
      "    )\n",
      "    (encoder): ViTEncoder(\n",
      "      (layer): ModuleList(\n",
      "        (0-23): 24 x ViTLayer(\n",
      "          (attention): ViTAttention(\n",
      "            (attention): ViTSelfAttention(\n",
      "              (query): Linear(in_features=1024, out_features=1024, bias=True)\n",
      "              (key): Linear(in_features=1024, out_features=1024, bias=True)\n",
      "              (value): Linear(in_features=1024, out_features=1024, bias=True)\n",
      "              (dropout): Dropout(p=0.0, inplace=False)\n",
      "            )\n",
      "            (output): ViTSelfOutput(\n",
      "              (dense): Linear(in_features=1024, out_features=1024, bias=True)\n",
      "              (dropout): Dropout(p=0.0, inplace=False)\n",
      "            )\n",
      "          )\n",
      "          (intermediate): ViTIntermediate(\n",
      "            (dense): Linear(in_features=1024, out_features=4096, bias=True)\n",
      "            (intermediate_act_fn): NewGELUActivation()\n",
      "          )\n",
      "          (output): ViTOutput(\n",
      "            (dense): Linear(in_features=4096, out_features=1024, bias=True)\n",
      "            (dropout): Dropout(p=0.0, inplace=False)\n",
      "          )\n",
      "          (layernorm_before): LayerNorm((1024,), eps=1e-06, elementwise_affine=True)\n",
      "          (layernorm_after): LayerNorm((1024,), eps=1e-06, elementwise_affine=True)\n",
      "        )\n",
      "      )\n",
      "    )\n",
      "    (layernorm): LayerNorm((1024,), eps=1e-06, elementwise_affine=True)\n",
      "  )\n",
      "  (classifier): Linear(in_features=1024, out_features=12, bias=True)\n",
      ")\n"
     ]
    }
   ],
   "source": [
    "model = ViTForImageClassification.from_pretrained('kakaobrain/vit-large-patch16-384',\n",
    "                                                  num_labels=12,\n",
    "                                                  ignore_mismatched_sizes=True,\n",
    "                                                  id2label=id2label,\n",
    "                                                  label2id=label2id,\n",
    "                                                  output_attentions = False, # Whether the model returns attentions weights.\n",
    "                                                  output_hidden_states = False, # Whether the model returns all hidden-states\n",
    "                                            )\n",
    "model.cuda()\n",
    "print(model)"
   ]
  },
  {
   "cell_type": "markdown",
   "metadata": {
    "id": "tMj_Rq5mXlbm"
   },
   "source": [
    "## Models' parameters"
   ]
  },
  {
   "cell_type": "code",
   "execution_count": null,
   "metadata": {
    "colab": {
     "base_uri": "https://localhost:8080/"
    },
    "id": "86Ua0phJRSIV",
    "outputId": "8de7a630-e160-4cde-f30e-f090fed0f224"
   },
   "outputs": [
    {
     "name": "stdout",
     "output_type": "stream",
     "text": [
      "The ViT model has 392 different named parameters.\n",
      "\n",
      "==== Embedding Layer ====\n",
      "\n",
      "vit.embeddings.cls_token                                (1, 1, 1024)\n",
      "vit.embeddings.position_embeddings                      (1, 577, 1024)\n",
      "vit.embeddings.patch_embeddings.projection.weight       (1024, 3, 16, 16)\n",
      "vit.embeddings.patch_embeddings.projection.bias              (1024,)\n",
      "\n",
      "==== First Transformer ====\n",
      "\n",
      "vit.encoder.layer.0.attention.attention.query.weight    (1024, 1024)\n",
      "vit.encoder.layer.0.attention.attention.query.bias           (1024,)\n",
      "vit.encoder.layer.0.attention.attention.key.weight      (1024, 1024)\n",
      "vit.encoder.layer.0.attention.attention.key.bias             (1024,)\n",
      "vit.encoder.layer.0.attention.attention.value.weight    (1024, 1024)\n",
      "vit.encoder.layer.0.attention.attention.value.bias           (1024,)\n",
      "vit.encoder.layer.0.attention.output.dense.weight       (1024, 1024)\n",
      "vit.encoder.layer.0.attention.output.dense.bias              (1024,)\n",
      "vit.encoder.layer.0.intermediate.dense.weight           (4096, 1024)\n",
      "vit.encoder.layer.0.intermediate.dense.bias                  (4096,)\n",
      "vit.encoder.layer.0.output.dense.weight                 (1024, 4096)\n",
      "vit.encoder.layer.0.output.dense.bias                        (1024,)\n",
      "vit.encoder.layer.0.layernorm_before.weight                  (1024,)\n",
      "vit.encoder.layer.0.layernorm_before.bias                    (1024,)\n",
      "vit.encoder.layer.0.layernorm_after.weight                   (1024,)\n",
      "vit.encoder.layer.0.layernorm_after.bias                     (1024,)\n",
      "\n",
      "==== Output Layer ====\n",
      "\n",
      "vit.layernorm.weight                                         (1024,)\n",
      "vit.layernorm.bias                                           (1024,)\n",
      "classifier.weight                                         (12, 1024)\n",
      "classifier.bias                                                (12,)\n"
     ]
    }
   ],
   "source": [
    "# Get all of the model's parameters as a list of tuples.\n",
    "params = list(model.named_parameters())\n",
    "\n",
    "print('The ViT model has {:} different named parameters.\\n'.format(len(params)))\n",
    "\n",
    "print('==== Embedding Layer ====\\n')\n",
    "\n",
    "for p in params[0:4]:\n",
    "    print(\"{:<55} {:>12}\".format(p[0], str(tuple(p[1].size()))))\n",
    "\n",
    "print('\\n==== First Transformer ====\\n')\n",
    "\n",
    "for p in params[4:20]:\n",
    "    print(\"{:<55} {:>12}\".format(p[0], str(tuple(p[1].size()))))\n",
    "\n",
    "print('\\n==== Output Layer ====\\n')\n",
    "\n",
    "for p in params[-4:]:\n",
    "    print(\"{:<55} {:>12}\".format(p[0], str(tuple(p[1].size()))))"
   ]
  },
  {
   "cell_type": "code",
   "execution_count": null,
   "metadata": {
    "colab": {
     "base_uri": "https://localhost:8080/"
    },
    "id": "1IHK9TzRRYIf",
    "outputId": "49a9293a-bd0f-466b-a0ee-7cb932c62ca1"
   },
   "outputs": [
    {
     "name": "stderr",
     "output_type": "stream",
     "text": [
      "/usr/local/lib/python3.10/dist-packages/transformers/optimization.py:411: FutureWarning: This implementation of AdamW is deprecated and will be removed in a future version. Use the PyTorch implementation torch.optim.AdamW instead, or set `no_deprecation_warning=True` to disable this warning\n",
      "  warnings.warn(\n"
     ]
    }
   ],
   "source": [
    "from transformers import get_linear_schedule_with_warmup\n",
    "\n",
    "# Note: AdamW is a class from the huggingface library (as opposed to pytorch)\n",
    "# I believe the 'W' stands for 'Weight Decay fix\"\n",
    "optimizer = AdamW(model.parameters(),\n",
    "                  lr = learning_rate[0], # args.learning_rate - default is 5e-5, our notebook had 2e-5\n",
    "                  eps = eps # args.adam_epsilon  - default is 1e-8.\n",
    "                )\n",
    "\n",
    "# Total number of training steps is [number of batches] x [number of epochs].\n",
    "# (Note that this is not the same as the number of training samples).\n",
    "total_steps = len(train_dataloader) * epochs\n",
    "\n",
    "# Create the learning rate scheduler.\n",
    "scheduler = get_linear_schedule_with_warmup(optimizer,\n",
    "                                            num_warmup_steps = 0, # Default value in run_glue.py\n",
    "                                            num_training_steps = total_steps)\n"
   ]
  },
  {
   "cell_type": "code",
   "execution_count": null,
   "metadata": {
    "id": "976DHlFwRwDQ"
   },
   "outputs": [],
   "source": [
    "import time\n",
    "import datetime\n",
    "# Function to calculate the accuracy of our predictions vs labels\n",
    "def flat_accuracy(preds, labels):\n",
    "    pred_flat = np.argmax(preds, axis=1).flatten()\n",
    "    labels_flat = labels.flatten()\n",
    "    return np.sum(pred_flat == labels_flat) / len(labels_flat)\n",
    "\n",
    "def format_time(elapsed):\n",
    "    '''\n",
    "    Takes a time in seconds and returns a string hh:mm:ss\n",
    "    '''\n",
    "    # Round to the nearest second.\n",
    "    elapsed_rounded = int(round((elapsed)))\n",
    "\n",
    "    # Format as hh:mm:ss\n",
    "    return str(datetime.timedelta(seconds=elapsed_rounded))"
   ]
  },
  {
   "cell_type": "markdown",
   "metadata": {
    "id": "FYzn4NhlYUx_"
   },
   "source": [
    "## Training process"
   ]
  },
  {
   "cell_type": "code",
   "execution_count": null,
   "metadata": {
    "colab": {
     "base_uri": "https://localhost:8080/",
     "height": 1000
    },
    "id": "Eyv59vVoR4YY",
    "outputId": "4afa6609-707a-4587-b6c9-ccfca863b88e",
    "scrolled": false
   },
   "outputs": [],
   "source": [
    "import random\n",
    "import numpy as np\n",
    "from torch.utils.tensorboard import SummaryWriter\n",
    "\n",
    "writer = SummaryWriter(runs_output)\n",
    "\n",
    "# This training code is based on the `run_glue.py` script here:\n",
    "# https://github.com/huggingface/transformers/blob/5bfcd0485ece086ebcbed2d008813037968a9e58/examples/run_glue.py#L128\n",
    "\n",
    "\n",
    "# Define early stopping variables\n",
    "early_stop = False\n",
    "best_val_loss = float('inf')  # Initialize with a high value\n",
    "patience = 4  # Number of epochs to wait before stopping if no improvement\n",
    "no_improvement_count = 0  # Counter for epochs with no improvement\n",
    "\n",
    "# Set the seed value all over the place to make this reproducible.\n",
    "seed_val = 42\n",
    "\n",
    "random.seed(seed_val)\n",
    "np.random.seed(seed_val)\n",
    "torch.manual_seed(seed_val)\n",
    "torch.cuda.manual_seed_all(seed_val)\n",
    "\n",
    "# Measure the total training time for the whole run.\n",
    "total_t0 = time.time()\n",
    "\n",
    "# For each epoch...\n",
    "for epoch_i in range(0, epochs):\n",
    "\n",
    "    # ========================================\n",
    "    #               Training\n",
    "    # ========================================\n",
    "\n",
    "    # Perform one full pass over the training set.\n",
    "\n",
    "    print(\"\")\n",
    "    print('======== Epoch {:} / {:} ========'.format(epoch_i + 1, epochs))\n",
    "    print('Training...')\n",
    "\n",
    "    # Measure how long the training epoch takes.\n",
    "    t0 = time.time()\n",
    "\n",
    "    # Reset the total loss for this epoch.\n",
    "    total_train_loss = 0\n",
    "\n",
    "    # Put the model into training mode. Don't be mislead--the call to\n",
    "    # `train` just changes the *mode*, it doesn't *perform* the training.\n",
    "    # `dropout` and `batchnorm` layers behave differently during training\n",
    "    # vs. test (source: https://stackoverflow.com/questions/51433378/what-does-model-train-do-in-pytorch)\n",
    "    model.train()\n",
    "\n",
    "    for step, batch in enumerate(train_dataloader):\n",
    "\n",
    "        # Unpack this training batch from our dataloader.\n",
    "        #\n",
    "        # As we unpack the batch, we'll also copy each tensor to the GPU using the\n",
    "        # `to` method.\n",
    "        #\n",
    "        # `batch` contains three pytorch tensors:\n",
    "        #   [0]: input ids\n",
    "        #   [1]: attention masks\n",
    "        #   [2]: labels\n",
    "        b_pixels = batch['pixel_values'].to(device)\n",
    "        # b_input_mask = batch[1].to(device)\n",
    "        b_labels = batch['labels'].to(device)\n",
    "\n",
    "        # Always clear any previously calculated gradients before performing a\n",
    "        # backward pass. PyTorch doesn't do this automatically because\n",
    "        # accumulating the gradients is \"convenient while training RNNs\".\n",
    "        # (source: https://stackoverflow.com/questions/48001598/why-do-we-need-to-call-zero-grad-in-pytorch)\n",
    "        model.zero_grad()\n",
    "\n",
    "        # Perform a forward pass (evaluate the model on this training batch).\n",
    "        # The documentation for this `model` function is here:\n",
    "        # https://huggingface.co/transformers/v2.2.0/model_doc/bert.html#transformers.BertForSequenceClassification\n",
    "        # It returns different numbers of parameters depending on what arguments\n",
    "        # arge given and what flags are set. For our useage here, it returns\n",
    "        # the loss (because we provided labels) and the \"logits\"--the model\n",
    "        # outputs prior to activation.\n",
    "        outputs = model(b_pixels,\n",
    "                        labels=b_labels)\n",
    "\n",
    "        loss = outputs.loss\n",
    "        logits = outputs.logits\n",
    "\n",
    "        # Perform a backward pass to calculate the gradients.\n",
    "        loss.backward()\n",
    "\n",
    "        # Clip the norm of the gradients to 1.0.\n",
    "        # This is to help prevent the \"exploding gradients\" problem.\n",
    "        torch.nn.utils.clip_grad_norm_(model.parameters(), 1.0)\n",
    "\n",
    "        # Update parameters and take a step using the computed gradient.\n",
    "        # The optimizer dictates the \"update rule\"--how the parameters are\n",
    "        # modified based on their gradients, the learning rate, etc.\n",
    "        optimizer.step()\n",
    "\n",
    "        # Update the learning rate.\n",
    "        scheduler.step()\n",
    "\n",
    "        # Accumulate the training loss over all of the batches so that we can\n",
    "        # calculate the average loss at the end. `loss` is a Tensor containing a\n",
    "        # single value; the `.item()` function just returns the Python value\n",
    "        # from the tensor.\n",
    "        total_train_loss += loss.item()\n",
    "\n",
    "\n",
    "        # if step % 40 == 39: # every 40 mini-batches....\n",
    "        if step % 40 == 0 and not step == 0:\n",
    "          # Calculate elapsed time in minutes.\n",
    "          elapsed = format_time(time.time() - t0)\n",
    "          # Report progress.\n",
    "          print('  Batch {:>5,}  of  {:>5,}.    Elapsed: {:}.'.format(step, len(train_dataloader), elapsed))\n",
    "\n",
    "          # ========================================\n",
    "          #               Validation\n",
    "          # ========================================\n",
    "          # After the completion of each training epoch, measure our performance on\n",
    "          # our validation set.\n",
    "          print(\"\")\n",
    "          print(f\"Running Validation...({step // 40})\")\n",
    "\n",
    "          t1 = time.time()\n",
    "\n",
    "          # Put the model in evaluation mode--the dropout layers behave differently\n",
    "          # during evaluation.\n",
    "          model.eval()\n",
    "\n",
    "          # Tracking variables\n",
    "          total_eval_accuracy = 0\n",
    "          total_eval_loss = 0\n",
    "          predictions = []\n",
    "          true_labels = []\n",
    "\n",
    "          # Evaluate data for one epoch\n",
    "          for batch in val_dataloader:\n",
    "\n",
    "              # Unpack this training batch from our dataloader.\n",
    "              #\n",
    "              # As we unpack the batch, we'll also copy each tensor to the GPU using\n",
    "              # the `to` method.\n",
    "              #\n",
    "              # `batch` contains three pytorch tensors:\n",
    "              #   [0]: input ids\n",
    "              #   [1]: attention masks\n",
    "              #   [2]: labels\n",
    "              b_pixels = batch['pixel_values'].to(device)\n",
    "              b_labels = batch['labels'].to(device)\n",
    "\n",
    "              # Tell pytorch not to bother with constructing the compute graph during\n",
    "              # the forward pass, since this is only needed for backprop (training).\n",
    "              with torch.no_grad():\n",
    "\n",
    "                  # Forward pass, calculate logit predictions.\n",
    "                  # token_type_ids is the same as the \"segment ids\", which\n",
    "                  # differentiates sentence 1 and 2 in 2-sentence tasks.\n",
    "                  # The documentation for this `model` function is here:\n",
    "                  # https://huggingface.co/transformers/v2.2.0/model_doc/bert.html#transformers.BertForSequenceClassification\n",
    "                  # Get the \"logits\" output by the model. The \"logits\" are the output\n",
    "                  # values prior to applying an activation function like the softmax.\n",
    "\n",
    "                  outputs = model(b_pixels,\n",
    "                                  labels=b_labels)\n",
    "\n",
    "                  loss = outputs.loss\n",
    "                  logits = outputs.logits\n",
    "\n",
    "              # Accumulate the validation loss.\n",
    "              total_eval_loss += loss.item()\n",
    "\n",
    "              # Move logits and labels to CPU\n",
    "              logits = logits.detach().cpu().numpy()\n",
    "              label_ids = b_labels.to('cpu').numpy()\n",
    "\n",
    "              # Accumulate the predictions and true labels\n",
    "              predictions.extend(np.argmax(logits, axis=1))\n",
    "              true_labels.extend(label_ids)\n",
    "\n",
    "              # Calculate the accuracy for this batch of test sentences, and\n",
    "              # accumulate it over all batches.\n",
    "              total_eval_accuracy += flat_accuracy(logits, label_ids)\n",
    "\n",
    "\n",
    "\n",
    "          # Calculate the average loss over mini-batches.\n",
    "          avg_train_loss = total_train_loss / 40\n",
    "\n",
    "          # Calculate the average loss over all of the batches.\n",
    "          avg_val_loss = total_eval_loss / len(val_dataloader)\n",
    "\n",
    "\n",
    "          # Report the final accuracy for this validation run.\n",
    "          avg_val_accuracy = total_eval_accuracy / len(val_dataloader)\n",
    "          print(\"  Accuracy: {0:.2f}\".format(avg_val_accuracy))\n",
    "\n",
    "          # Measure how long the validation run took.\n",
    "          validation_time = format_time(time.time() - t1)\n",
    "\n",
    "          print(\"  Validation Loss: {0:.2f}\".format(avg_val_loss))\n",
    "          print(\"  Validation took: {:}\".format(validation_time))\n",
    "\n",
    "          # Log the running loss averaged per batch\n",
    "          writer.add_scalars('Training vs. Validation Loss',\n",
    "                            { 'Training' : avg_train_loss, 'Validation' : avg_val_loss },\n",
    "                                epoch_i * len(train_dataloader) + step)\n",
    "\n",
    "          total_train_loss = 0.0\n",
    "\n",
    "          # Check if validation loss improved\n",
    "          if avg_val_loss < best_val_loss:\n",
    "              best_val_loss = avg_val_loss\n",
    "              no_improvement_count = 0\n",
    "          else:\n",
    "              no_improvement_count += 1\n",
    "\n",
    "          # Check if early stopping condition is met\n",
    "          if (no_improvement_count >= patience) and early_stop:\n",
    "              print(f\"Early stopping after {epoch_i + 1} epochs without improvement.\")\n",
    "              break  # Exit the training loop\n",
    "\n",
    "\n",
    "    # Measure how long this epoch took.\n",
    "    training_time = format_time(time.time() - t0)\n",
    "    print(\"\")\n",
    "    print(\"  Average training loss: {0:.2f}\".format(avg_train_loss))\n",
    "    print(\"  Training epcoh took: {:}\".format(training_time))\n",
    "\n",
    "    # Check if early stopping condition is met\n",
    "    if (no_improvement_count >= patience) and early_stop:\n",
    "      print(f\"Early stopping after {epoch_i + 1} epochs without improvement.\")\n",
    "      break  # Exit the training loop\n",
    "\n",
    "\n",
    "print('Finished Training')\n",
    "print(\"Total training took {:} (h:mm:ss)\".format(format_time(time.time()-total_t0)))"
   ]
  },
  {
   "cell_type": "markdown",
   "metadata": {
    "id": "3XgTiYtH9hS6"
   },
   "source": [
    "# Saving model"
   ]
  },
  {
   "cell_type": "code",
   "execution_count": null,
   "metadata": {
    "id": "kRpp0meh9mFx"
   },
   "outputs": [],
   "source": [
    "# Create output directory if needed\n",
    "if not os.path.exists(output_dir):\n",
    "    os.makedirs(output_dir)\n",
    "\n",
    "print(\"Saving model to %s\" % output_dir)\n",
    "\n",
    "# Save a trained model, configuration and tokenizer using `save_pretrained()`.\n",
    "# They can then be reloaded using `from_pretrained()`\n",
    "model_to_save = model.module if hasattr(model, 'module') else model  # Take care of distributed/parallel training\n",
    "model_to_save.save_pretrained(output_dir)\n",
    "# tokenizer.save_pretrained(output_dir)\n",
    "\n",
    "# Good practice: save your training arguments together with the trained model\n",
    "# torch.save(args, os.path.join(output_dir, 'training_args.bin'))"
   ]
  },
  {
   "cell_type": "markdown",
   "metadata": {
    "id": "HJ3eVZa-ZY45"
   },
   "source": [
    "# Validate model"
   ]
  },
  {
   "cell_type": "code",
   "execution_count": null,
   "metadata": {
    "id": "BevmJa35mDMu"
   },
   "outputs": [],
   "source": [
    "from sklearn.metrics import classification_report\n",
    "# Convert the predictions and true labels to numpy arrays\n",
    "predictions = np.array(predictions)\n",
    "true_labels = np.array(true_labels)\n",
    "\n",
    "# Generate the classification report\n",
    "report = classification_report(true_labels, predictions, target_names=['Competencies[0]',\n",
    "                                                                      'Consultant Profile[1]',\n",
    "                                                                      'Initial & Target Situation[2]',\n",
    "                                                                      'Initial Situation[3]',\n",
    "                                                                      'Offer Title[4]',\n",
    "                                                                      'Project Calculation[5]',\n",
    "                                                                      'Reference Details[6]',\n",
    "                                                                      'Reference Overview[7]',\n",
    "                                                                      'Target Situation[8]',\n",
    "                                                                      'Working Package Description[9]',\n",
    "                                                                      'Working Package Examples[10]',\n",
    "                                                                      'Working Package Overview[11]'])\n",
    "\n",
    "# Print the classification report\n",
    "print(report)"
   ]
  },
  {
   "cell_type": "markdown",
   "metadata": {
    "id": "JMd0eht--iC4"
   },
   "source": [
    "# Load trained model to predict"
   ]
  },
  {
   "cell_type": "code",
   "execution_count": null,
   "metadata": {
    "colab": {
     "base_uri": "https://localhost:8080/"
    },
    "id": "W7wzrExc-i_f",
    "outputId": "cbe3f787-caf9-485b-bc44-a0def3094345"
   },
   "outputs": [
    {
     "data": {
      "text/plain": [
       "ViTForImageClassification(\n",
       "  (vit): ViTModel(\n",
       "    (embeddings): ViTEmbeddings(\n",
       "      (patch_embeddings): ViTPatchEmbeddings(\n",
       "        (projection): Conv2d(3, 1024, kernel_size=(16, 16), stride=(16, 16))\n",
       "      )\n",
       "      (dropout): Dropout(p=0.0, inplace=False)\n",
       "    )\n",
       "    (encoder): ViTEncoder(\n",
       "      (layer): ModuleList(\n",
       "        (0-23): 24 x ViTLayer(\n",
       "          (attention): ViTAttention(\n",
       "            (attention): ViTSelfAttention(\n",
       "              (query): Linear(in_features=1024, out_features=1024, bias=True)\n",
       "              (key): Linear(in_features=1024, out_features=1024, bias=True)\n",
       "              (value): Linear(in_features=1024, out_features=1024, bias=True)\n",
       "              (dropout): Dropout(p=0.0, inplace=False)\n",
       "            )\n",
       "            (output): ViTSelfOutput(\n",
       "              (dense): Linear(in_features=1024, out_features=1024, bias=True)\n",
       "              (dropout): Dropout(p=0.0, inplace=False)\n",
       "            )\n",
       "          )\n",
       "          (intermediate): ViTIntermediate(\n",
       "            (dense): Linear(in_features=1024, out_features=4096, bias=True)\n",
       "            (intermediate_act_fn): NewGELUActivation()\n",
       "          )\n",
       "          (output): ViTOutput(\n",
       "            (dense): Linear(in_features=4096, out_features=1024, bias=True)\n",
       "            (dropout): Dropout(p=0.0, inplace=False)\n",
       "          )\n",
       "          (layernorm_before): LayerNorm((1024,), eps=1e-06, elementwise_affine=True)\n",
       "          (layernorm_after): LayerNorm((1024,), eps=1e-06, elementwise_affine=True)\n",
       "        )\n",
       "      )\n",
       "    )\n",
       "    (layernorm): LayerNorm((1024,), eps=1e-06, elementwise_affine=True)\n",
       "  )\n",
       "  (classifier): Linear(in_features=1024, out_features=12, bias=True)\n",
       ")"
      ]
     },
     "execution_count": 61,
     "metadata": {},
     "output_type": "execute_result"
    }
   ],
   "source": [
    "from transformers import ViTForImageClassification\n",
    "# Load a trained model and vocabulary that you have fine-tuned\n",
    "model = ViTForImageClassification.from_pretrained(output_dir)\n",
    "\n",
    "# Copy the model to the GPU.\n",
    "model.to(device)"
   ]
  },
  {
   "cell_type": "code",
   "execution_count": null,
   "metadata": {
    "colab": {
     "base_uri": "https://localhost:8080/"
    },
    "id": "pt5QTlB9NdVf",
    "outputId": "3770cef9-3bbd-4b5d-b89f-4f719848715c",
    "scrolled": false
   },
   "outputs": [],
   "source": [
    "from sklearn.metrics import classification_report\n",
    "# Prediction on test set\n",
    "# print('Predicting labels for {:,} test sentences...'.format(test_size))\n",
    "\n",
    "# Put model in evaluation mode\n",
    "model.eval()\n",
    "\n",
    "# Tracking variables\n",
    "predictions , true_labels = [], []\n",
    "\n",
    "# Predict\n",
    "for batch in test_dataloader:\n",
    "  # Add batch to GPU\n",
    "  # batch = tuple(t.to(device) for t in batch)\n",
    "\n",
    "  # Unpack the inputs from our dataloader\n",
    "  # b_input_ids, b_input_mask, b_labels = batch\n",
    "\n",
    "  b_pixels = batch['pixel_values'].to(device)\n",
    "  b_labels = batch['labels'].to(device)\n",
    "\n",
    "  # Telling the model not to compute or store gradients, saving memory and\n",
    "  # speeding up prediction\n",
    "  with torch.no_grad():\n",
    "      # Forward pass, calculate logit predictions\n",
    "      outputs = model(b_pixels,\n",
    "                      labels=b_labels)\n",
    "\n",
    "\n",
    "  loss = outputs.loss\n",
    "  logits = outputs.logits\n",
    "\n",
    "  # Move logits and labels to CPU\n",
    "  logits = logits.detach().cpu().numpy()\n",
    "  label_ids = b_labels.to('cpu').numpy()\n",
    "\n",
    "  # Store predictions and true labels\n",
    "  # predictions.extend(np.argmax(logits, axis=1))\n",
    "  # true_labels.extend(label_ids)\n",
    "  predictions.append(logits)\n",
    "  true_labels.append(label_ids)\n",
    "\n",
    "print('    DONE.')\n",
    "\n",
    "# print('Positive samples: %d of %d (%.2f%%)' % (df.label.sum(), len(df.label), (df.label.sum() / len(df.label) * 100.0)))\n",
    "\n",
    "print(predictions)\n",
    "print(true_labels)"
   ]
  },
  {
   "cell_type": "code",
   "execution_count": null,
   "metadata": {
    "colab": {
     "base_uri": "https://localhost:8080/",
     "height": 564
    },
    "id": "JBmKlnx7M4-z",
    "outputId": "bb4dcdbc-ff8e-49bb-c1f2-9df6a112aa5d"
   },
   "outputs": [
    {
     "data": {
      "image/png": "[encoded data removed]",
      "text/plain": [
       "<Figure size 1000x600 with 1 Axes>"
      ]
     },
     "metadata": {},
     "output_type": "display_data"
    }
   ],
   "source": [
    "from sklearn.manifold import TSNE\n",
    "import matplotlib.pyplot as plt\n",
    "import seaborn as sns\n",
    "# Concatenate the embeddings and labels\n",
    "embeddings = np.concatenate(predictions)\n",
    "hue_labels = np.concatenate(true_labels)\n",
    "\n",
    "# Apply t-SNE for dimensionality reduction\n",
    "tsne = TSNE(n_components=2, random_state=42)\n",
    "embeddings_2d = tsne.fit_transform(embeddings)\n",
    "\n",
    "# Map true labels to corresponding class names\n",
    "class_names = ['Competencies[0]', 'Consultant Profile[1]', 'Initial & Target Situation[2]',\n",
    "               'Initial Situation[3]', 'Offer Title[4]', 'Project Calculation[5]',\n",
    "               'Reference Details[6]', 'Reference Overview[7]', 'Target Situation[8]',\n",
    "               'Working Package Description[9]', 'Working Package Examples[10]',\n",
    "               'Working Package Overview[11]']\n",
    "\n",
    "# Create a colormap for different classes\n",
    "cmap = sns.color_palette(\"husl\", n_colors=len(class_names))\n",
    "\n",
    "# Use Seaborn to visualize the embeddings\n",
    "plt.figure(figsize=(10, 6), facecolor='lightgray')\n",
    "sns.scatterplot(x=embeddings_2d[:, 0], y=embeddings_2d[:, 1], hue=hue_labels,\n",
    "                palette=cmap, legend='full',)\n",
    "plt.xlabel('t-SNE Dimension 1')\n",
    "plt.ylabel('t-SNE Dimension 2')\n",
    "plt.title('t-SNE Visualization of ViT Embeddings')\n",
    "plt.grid(True)\n",
    "sns.despine()  # Remove spines from plot\n",
    "\n",
    "# Move the legend to the bottom right corner\n",
    "plt.legend(title='True Labels', labels=class_names, fontsize='small', loc='lower left')\n",
    "\n",
    "plt.show()"
   ]
  },
  {
   "cell_type": "code",
   "execution_count": null,
   "metadata": {
    "colab": {
     "base_uri": "https://localhost:8080/",
     "height": 1000
    },
    "id": "ArIEQp8MA6Oz",
    "outputId": "b3f9fde3-e602-4157-c837-94f448e20d31",
    "scrolled": false
   },
   "outputs": [],
   "source": [
    "import matplotlib.pyplot as plt\n",
    "%matplotlib inline\n",
    "import seaborn as sns\n",
    "from sklearn.metrics import matthews_corrcoef\n",
    "\n",
    "matthews_set = []\n",
    "\n",
    "ground_true = []\n",
    "preds = []\n",
    "# Evaluate each test batch using Matthew's correlation coefficient\n",
    "print('Calculating Matthews Corr. Coef. for each batch...')\n",
    "\n",
    "# For each input BATCH...\n",
    "for i in range(len(true_labels)):\n",
    "\n",
    "  # The predictions for this batch are a 2-column ndarray (one column for \"0\"\n",
    "  # and one column for \"1\"). Pick the label with the highest value and turn this\n",
    "  # in to a list of 0s and 1s.\n",
    "  pred_labels_i = np.argmax(predictions[i], axis=1).flatten()\n",
    "\n",
    "  # Calculate and store the coef for this batch.\n",
    "  matthews = matthews_corrcoef(true_labels[i], pred_labels_i)\n",
    "  matthews_set.append(matthews)\n",
    "  print(pred_labels_i)\n",
    "  print(true_labels[i])\n",
    "  print('------')\n",
    "  # extend for checking every label\n",
    "  ground_true.extend(pred_labels_i)\n",
    "  preds.extend(true_labels[i])\n",
    "\n",
    "# Create a barplot showing the MCC score for each batch of test samples.\n",
    "ax = sns.barplot(x=list(range(len(matthews_set))), y=matthews_set, ci=None)\n",
    "\n",
    "plt.title('MCC Score per Batch')\n",
    "plt.ylabel('MCC Score (-1 to +1)')\n",
    "plt.xlabel('Batch #')\n",
    "\n",
    "plt.show()"
   ]
  },
  {
   "cell_type": "code",
   "execution_count": null,
   "metadata": {
    "colab": {
     "base_uri": "https://localhost:8080/"
    },
    "id": "9gi4BNwqA8ya",
    "outputId": "5cc1bb10-e9a5-445d-98a8-63a82c301e8e"
   },
   "outputs": [
    {
     "name": "stdout",
     "output_type": "stream",
     "text": [
      "Total MCC: 0.705\n"
     ]
    }
   ],
   "source": [
    "# Combine the results across all batches.\n",
    "flat_predictions = np.concatenate(predictions, axis=0)\n",
    "\n",
    "# For each sample, pick the label (0 or 1) with the higher score.\n",
    "flat_predictions = np.argmax(flat_predictions, axis=1).flatten()\n",
    "\n",
    "# Combine the correct labels for each batch into a single list.\n",
    "flat_true_labels = np.concatenate(true_labels, axis=0)\n",
    "\n",
    "# Calculate the MCC\n",
    "mcc = matthews_corrcoef(flat_true_labels, flat_predictions)\n",
    "\n",
    "print('Total MCC: %.3f' % mcc)"
   ]
  },
  {
   "cell_type": "code",
   "execution_count": null,
   "metadata": {
    "colab": {
     "base_uri": "https://localhost:8080/"
    },
    "id": "in8YVCbRA-ni",
    "outputId": "84871f72-7c06-4fb5-e7c7-bce7c5c1adfd"
   },
   "outputs": [
    {
     "name": "stdout",
     "output_type": "stream",
     "text": [
      "                                precision    recall  f1-score   support\n",
      "\n",
      "               Competencies[0]     0.5238    0.6875    0.5946        16\n",
      "         Consultant Profile[1]     0.9667    0.7632    0.8529        38\n",
      " Initial & Target Situation[2]     0.7188    0.6571    0.6866        35\n",
      "          Initial Situation[3]     0.1111    0.5000    0.1818         2\n",
      "                Offer Title[4]     0.9583    0.8214    0.8846        28\n",
      "        Project Calculation[5]     0.7500    0.8000    0.7742        30\n",
      "          Reference Details[6]     0.7593    0.8723    0.8119        47\n",
      "         Reference Overview[7]     0.8000    0.5714    0.6667        21\n",
      "           Target Situation[8]     0.0000    0.0000    0.0000         0\n",
      "Working Package Description[9]     0.8500    0.7727    0.8095        66\n",
      "  Working Package Examples[10]     0.7714    0.6923    0.7297        78\n",
      "  Working Package Overview[11]     0.4500    0.6000    0.5143        15\n",
      "\n",
      "                      accuracy                         0.7394       376\n",
      "                     macro avg     0.6383    0.6448    0.6256       376\n",
      "                  weighted avg     0.7855    0.7394    0.7567       376\n",
      "\n"
     ]
    },
    {
     "name": "stderr",
     "output_type": "stream",
     "text": [
      "/usr/local/lib/python3.10/dist-packages/sklearn/metrics/_classification.py:1344: UndefinedMetricWarning: Recall and F-score are ill-defined and being set to 0.0 in labels with no true samples. Use `zero_division` parameter to control this behavior.\n",
      "  _warn_prf(average, modifier, msg_start, len(result))\n",
      "/usr/local/lib/python3.10/dist-packages/sklearn/metrics/_classification.py:1344: UndefinedMetricWarning: Recall and F-score are ill-defined and being set to 0.0 in labels with no true samples. Use `zero_division` parameter to control this behavior.\n",
      "  _warn_prf(average, modifier, msg_start, len(result))\n",
      "/usr/local/lib/python3.10/dist-packages/sklearn/metrics/_classification.py:1344: UndefinedMetricWarning: Recall and F-score are ill-defined and being set to 0.0 in labels with no true samples. Use `zero_division` parameter to control this behavior.\n",
      "  _warn_prf(average, modifier, msg_start, len(result))\n"
     ]
    }
   ],
   "source": [
    "# Generate the classification report\n",
    "test_report = classification_report(ground_true, preds, digits = 4,target_names=['Competencies[0]',\n",
    "                                                                  'Consultant Profile[1]',\n",
    "                                                                  'Initial & Target Situation[2]',\n",
    "                                                                  'Initial Situation[3]',\n",
    "                                                                  'Offer Title[4]',\n",
    "                                                                  'Project Calculation[5]',\n",
    "                                                                  'Reference Details[6]',\n",
    "                                                                  'Reference Overview[7]',\n",
    "                                                                  'Target Situation[8]',\n",
    "                                                                  'Working Package Description[9]',\n",
    "                                                                  'Working Package Examples[10]',\n",
    "                                                                  'Working Package Overview[11]'])\n",
    "\n",
    "# Print the classification report\n",
    "print(test_report)"
   ]
  },
  {
   "cell_type": "markdown",
   "metadata": {
    "id": "DEmkovzRBMIG"
   },
   "source": [
    "# Visualization from `runs`"
   ]
  },
  {
   "cell_type": "code",
   "execution_count": null,
   "metadata": {
    "id": "V35k__hSe3qk"
   },
   "outputs": [],
   "source": [
    "# %load_ext tensorboard\n",
    "# %tensorboard --logdir=./RWTH_master_code/runs --port=444"
   ]
  },
  {
   "cell_type": "code",
   "execution_count": null,
   "metadata": {
    "id": "h3zgwpLPY_pp"
   },
   "outputs": [],
   "source": []
  }
 ],
 "metadata": {
  "colab": {
   "provenance": [],
   "toc_visible": true
  },
  "kernelspec": {
   "display_name": "Python 3 (ipykernel)",
   "language": "python",
   "name": "python3"
  },
  "language_info": {
   "codemirror_mode": {
    "name": "ipython",
    "version": 3
   },
   "file_extension": ".py",
   "mimetype": "text/x-python",
   "name": "python",
   "nbconvert_exporter": "python",
   "pygments_lexer": "ipython3",
   "version": "3.9.16"
  },
  "toc": {
   "base_numbering": 1,
   "nav_menu": {},
   "number_sections": true,
   "sideBar": true,
   "skip_h1_title": false,
   "title_cell": "Table of Contents",
   "title_sidebar": "Contents",
   "toc_cell": true,
   "toc_position": {
    "height": "calc(100% - 180px)",
    "left": "10px",
    "top": "150px",
    "width": "292.679px"
   },
   "toc_section_display": true,
   "toc_window_display": true
  }
 },
 "nbformat": 4,
 "nbformat_minor": 1
}
