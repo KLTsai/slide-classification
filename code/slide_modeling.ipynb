{
 "cells": [
  {
   "attachments": {},
   "cell_type": "markdown",
   "metadata": {
    "toc": true
   },
   "source": [
    "<h1>Table of Contents<span class=\"tocSkip\"></span></h1>\n",
    "<div class=\"toc\"><ul class=\"toc-item\"><li><span><a href=\"#Load-alignment-data\" data-toc-modified-id=\"Load-alignment-data-1\"><span class=\"toc-item-num\">1&nbsp;&nbsp;</span>Load alignment data</a></span></li><li><span><a href=\"#Copy-filtered-slide-images-to-new-folder\" data-toc-modified-id=\"Copy-filtered-slide-images-to-new-folder-2\"><span class=\"toc-item-num\">2&nbsp;&nbsp;</span>Copy filtered-slide images to new folder</a></span></li><li><span><a href=\"#Using-docarray-to-construct\" data-toc-modified-id=\"Using-docarray-to-construct-3\"><span class=\"toc-item-num\">3&nbsp;&nbsp;</span>Using <code>docarray</code> to construct</a></span></li><li><span><a href=\"#Baseline-models-construction\" data-toc-modified-id=\"Baseline-models-construction-4\"><span class=\"toc-item-num\">4&nbsp;&nbsp;</span>Baseline models construction</a></span></li><li><span><a href=\"#Training-set-and-Testing-set-spilt\" data-toc-modified-id=\"Training-set-and-Testing-set-spilt-5\"><span class=\"toc-item-num\">5&nbsp;&nbsp;</span>Training set and Testing set spilt</a></span></li><li><span><a href=\"#Model-Implementation(Baseline)\" data-toc-modified-id=\"Model-Implementation(Baseline)-6\"><span class=\"toc-item-num\">6&nbsp;&nbsp;</span>Model Implementation(Baseline)</a></span><ul class=\"toc-item\"><li><span><a href=\"#Textual-approach\" data-toc-modified-id=\"Textual-approach-6.1\"><span class=\"toc-item-num\">6.1&nbsp;&nbsp;</span>Textual approach</a></span><ul class=\"toc-item\"><li><span><a href=\"#Naive-Bayes-(Textual)\" data-toc-modified-id=\"Naive-Bayes-(Textual)-6.1.1\"><span class=\"toc-item-num\">6.1.1&nbsp;&nbsp;</span>Naive Bayes (Textual)</a></span></li><li><span><a href=\"#Evaluation-Textual-Results\" data-toc-modified-id=\"Evaluation-Textual-Results-6.1.2\"><span class=\"toc-item-num\">6.1.2&nbsp;&nbsp;</span>Evaluation Textual Results</a></span></li></ul></li><li><span><a href=\"#Visual-approach\" data-toc-modified-id=\"Visual-approach-6.2\"><span class=\"toc-item-num\">6.2&nbsp;&nbsp;</span>Visual approach</a></span><ul class=\"toc-item\"><li><span><a href=\"#Naive-Bayes-(Visual)\" data-toc-modified-id=\"Naive-Bayes-(Visual)-6.2.1\"><span class=\"toc-item-num\">6.2.1&nbsp;&nbsp;</span>Naive Bayes (Visual)</a></span></li><li><span><a href=\"#Evaluation-Visual-Results\" data-toc-modified-id=\"Evaluation-Visual-Results-6.2.2\"><span class=\"toc-item-num\">6.2.2&nbsp;&nbsp;</span>Evaluation Visual Results</a></span></li></ul></li><li><span><a href=\"#Multi-modal-approach\" data-toc-modified-id=\"Multi-modal-approach-6.3\"><span class=\"toc-item-num\">6.3&nbsp;&nbsp;</span>Multi-modal approach</a></span><ul class=\"toc-item\"><li><span><a href=\"#Naive-Bayes-(Multi-modal)\" data-toc-modified-id=\"Naive-Bayes-(Multi-modal)-6.3.1\"><span class=\"toc-item-num\">6.3.1&nbsp;&nbsp;</span>Naive Bayes (Multi-modal)</a></span></li><li><span><a href=\"#Evaluation-Multi-modal-Results\" data-toc-modified-id=\"Evaluation-Multi-modal-Results-6.3.2\"><span class=\"toc-item-num\">6.3.2&nbsp;&nbsp;</span>Evaluation Multi-modal Results</a></span></li></ul></li></ul></li></ul></div>"
   ]
  },
  {
   "cell_type": "code",
   "execution_count": 1,
   "metadata": {},
   "outputs": [],
   "source": [
    "from typing import List\n",
    "from docarray import dataclass, Document, DocumentArray\n",
    "from docarray.typing import Image, Text, JSON, URI\n",
    "import ast\n",
    "import pandas as pd\n",
    "import os\n",
    "import numpy as np\n",
    "import platform\n",
    "import shutil\n",
    "\n",
    "is_windows = platform.system().lower() == 'windows'\n",
    "if is_windows:\n",
    "    source_dir = \"C:\\\\Users\\\\Kun\\\\Desktop\" \n",
    "else:\n",
    "    source_dir = \"/Users/kun-lin/Desktop\"\n",
    "source_dir = os.path.join(source_dir, f\"Angebot\")\n",
    "dest_dir = \"output\"\n",
    "PPTtoImg_dir = os.path.join(dest_dir, f\"PPTtoImg\")\n",
    "fWordImg_dir = os.path.join(dest_dir, f\"FewWordImg\")\n",
    "ct_fWordImg_dir = os.path.join(fWordImg_dir, f\"CT_FewWordImg\")\n",
    "topshapetype_dir = os.path.join(dest_dir, f\"TopShapeTypeImg\")\n",
    "labels_dir = os.path.join(dest_dir, f\"LABELS\")\n",
    "checkpoint_path = os.path.join(dest_dir, f\"checkpoints\")\n",
    "\n",
    "if not os.path.exists(dest_dir):\n",
    "    os.makedirs(dest_dir)\n",
    "if not os.path.exists(PPTtoImg_dir):\n",
    "    os.makedirs(PPTtoImg_dir)\n",
    "if not os.path.exists(fWordImg_dir):\n",
    "    os.makedirs(fWordImg_dir)\n",
    "if not os.path.exists(ct_fWordImg_dir):\n",
    "    os.makedirs(ct_fWordImg_dir)  \n",
    "if not os.path.exists(topshapetype_dir):\n",
    "    os.makedirs(topshapetype_dir)\n",
    "if not os.path.exists(labels_dir):\n",
    "    os.makedirs(labels_dir)\n",
    "if not os.path.exists(checkpoint_path):\n",
    "    os.makedirs(checkpoint_path)"
   ]
  },
  {
   "attachments": {},
   "cell_type": "markdown",
   "metadata": {},
   "source": [
    "# Load alignment data"
   ]
  },
  {
   "cell_type": "code",
   "execution_count": 2,
   "metadata": {},
   "outputs": [
    {
     "name": "stdout",
     "output_type": "stream",
     "text": [
      "<class 'pandas.core.frame.DataFrame'>\n",
      "Int64Index: 26468 entries, 0 to 26467\n",
      "Data columns (total 4 columns):\n",
      " #   Column      Non-Null Count  Dtype \n",
      "---  ------      --------------  ----- \n",
      " 0   file_name   26468 non-null  object\n",
      " 1   page_num    26468 non-null  int64 \n",
      " 2   shape_type  26468 non-null  object\n",
      " 3   contents    26468 non-null  object\n",
      "dtypes: int64(1), object(3)\n",
      "memory usage: 1.0+ MB\n"
     ]
    }
   ],
   "source": [
    "\n",
    "def convert_to_list(data):\n",
    "    return ast.literal_eval(data)\n",
    "# Since it take too much time on traversal ppt files, Easily to import the dataframe from the csv file\n",
    "df_da = pd.read_csv('alignment_pptx_list.csv', converters={'shape_type': convert_to_list})\n",
    "# for Mac OS\n",
    "if not is_windows:\n",
    "    df_da['file_name'] = df_da['file_name'].apply(lambda x: x.replace('C\\\\Users\\\\Kun\\\\Desktop\\\\Angebot', source_dir))\n",
    "    df_da['file_name'] = df_da['file_name'].apply(lambda x: x.replace('\\\\', '/'))\n",
    "\n",
    "df_da = df_da[~df_da['contents'].isnull()]\n",
    "df_da.info()"
   ]
  },
  {
   "cell_type": "code",
   "execution_count": 3,
   "metadata": {},
   "outputs": [
    {
     "name": "stdout",
     "output_type": "stream",
     "text": [
      "<class 'pandas.core.frame.DataFrame'>\n",
      "Int64Index: 23148 entries, 0 to 26467\n",
      "Data columns (total 5 columns):\n",
      " #   Column      Non-Null Count  Dtype \n",
      "---  ------      --------------  ----- \n",
      " 0   file_name   23148 non-null  object\n",
      " 1   page_num    23148 non-null  int64 \n",
      " 2   shape_type  23148 non-null  object\n",
      " 3   contents    23148 non-null  object\n",
      " 4   word_count  23148 non-null  int64 \n",
      "dtypes: int64(2), object(3)\n",
      "memory usage: 1.1+ MB\n"
     ]
    }
   ],
   "source": [
    "# filter out less than 4 words\n",
    "df_da['word_count'] = df_da['contents'].apply(lambda x: len(str(x).split()) if pd.notna(x) else 0)\n",
    "df_few_words = df_da[~(df_da['word_count'] <= 4)]\n",
    "df_few_words.info()"
   ]
  },
  {
   "cell_type": "code",
   "execution_count": 4,
   "metadata": {},
   "outputs": [
    {
     "data": {
      "text/plain": [
       "Others                         544\n",
       "Working Package Examples       202\n",
       "Working Package Description    190\n",
       "Reference Details              137\n",
       "Consultant Profile             106\n",
       "Offer Title                     91\n",
       "Working Package Overview        90\n",
       "Project Calculation             85\n",
       "Initial & Target Situation      60\n",
       "Reference Overview              43\n",
       "Competencies                    42\n",
       "Target Situation                17\n",
       "Initial Situation               13\n",
       "Name: choice, dtype: int64"
      ]
     },
     "execution_count": 4,
     "metadata": {},
     "output_type": "execute_result"
    }
   ],
   "source": [
    "df_json = pd.read_json(os.path.join(labels_dir, \"1620_annotations.json\"))\n",
    "df_json['choice'].value_counts()"
   ]
  },
  {
   "cell_type": "code",
   "execution_count": 5,
   "metadata": {},
   "outputs": [],
   "source": [
    "df_json['page_num'] = df_json['image'].apply(lambda x: int(x.split('.')[0].split('_')[-1]))\n",
    "df_json['image'] = df_json['image'].apply(lambda x: x.split('.')[0].split('-')[1])\n"
   ]
  },
  {
   "cell_type": "code",
   "execution_count": 6,
   "metadata": {},
   "outputs": [
    {
     "data": {
      "text/plain": [
       "'9578_9578_PPM_Rollout_project_outline_16'"
      ]
     },
     "execution_count": 6,
     "metadata": {},
     "output_type": "execute_result"
    }
   ],
   "source": [
    "df_json['image'][0]"
   ]
  },
  {
   "cell_type": "code",
   "execution_count": 7,
   "metadata": {},
   "outputs": [
    {
     "name": "stderr",
     "output_type": "stream",
     "text": [
      "C:\\Users\\Kun\\AppData\\Local\\Temp\\ipykernel_13220\\297909455.py:2: SettingWithCopyWarning: \n",
      "A value is trying to be set on a copy of a slice from a DataFrame.\n",
      "Try using .loc[row_indexer,col_indexer] = value instead\n",
      "\n",
      "See the caveats in the documentation: https://pandas.pydata.org/pandas-docs/stable/user_guide/indexing.html#returning-a-view-versus-a-copy\n",
      "  df_few_words['label'] = ''\n"
     ]
    }
   ],
   "source": [
    "# be aware of path difference between Windows and Mac OS\n",
    "df_few_words['label'] = ''\n",
    "\n",
    "for i in range(len(df_json)):\n",
    "    item = df_json.iloc[i]\n",
    "    f_name = item['image']\n",
    "    page = int(df_json.at[i, 'page_num'])\n",
    "    ktr = f_name.split('_')[0]\n",
    "\n",
    "    df_few_words.loc[(df_few_words['file_name'].str.contains(ktr)) & (df_few_words['page_num'] == page), 'label'] = item['choice']"
   ]
  },
  {
   "cell_type": "code",
   "execution_count": 8,
   "metadata": {},
   "outputs": [
    {
     "name": "stdout",
     "output_type": "stream",
     "text": [
      "<class 'pandas.core.frame.DataFrame'>\n",
      "Int64Index: 23148 entries, 0 to 26467\n",
      "Data columns (total 6 columns):\n",
      " #   Column      Non-Null Count  Dtype \n",
      "---  ------      --------------  ----- \n",
      " 0   file_name   23148 non-null  object\n",
      " 1   page_num    23148 non-null  int64 \n",
      " 2   shape_type  23148 non-null  object\n",
      " 3   contents    23148 non-null  object\n",
      " 4   word_count  23148 non-null  int64 \n",
      " 5   label       23148 non-null  object\n",
      "dtypes: int64(2), object(4)\n",
      "memory usage: 1.2+ MB\n"
     ]
    }
   ],
   "source": [
    "df_few_words.info()"
   ]
  },
  {
   "cell_type": "code",
   "execution_count": 9,
   "metadata": {},
   "outputs": [
    {
     "data": {
      "text/plain": [
       "                               21528\n",
       "Others                           544\n",
       "Working Package Examples         202\n",
       "Working Package Description      190\n",
       "Reference Details                137\n",
       "Consultant Profile               106\n",
       "Offer Title                       91\n",
       "Working Package Overview          90\n",
       "Project Calculation               85\n",
       "Initial & Target Situation        60\n",
       "Reference Overview                43\n",
       "Competencies                      42\n",
       "Target Situation                  17\n",
       "Initial Situation                 13\n",
       "Name: label, dtype: int64"
      ]
     },
     "execution_count": 9,
     "metadata": {},
     "output_type": "execute_result"
    }
   ],
   "source": [
    "df_few_words['label'].value_counts()"
   ]
  },
  {
   "attachments": {},
   "cell_type": "markdown",
   "metadata": {},
   "source": [
    "# Copy filtered-slide images to new folder "
   ]
  },
  {
   "cell_type": "code",
   "execution_count": null,
   "metadata": {},
   "outputs": [],
   "source": [
    "def delete_png_files(directory):\n",
    "    for filename in os.listdir(directory):\n",
    "        filepath = os.path.join(directory, filename)\n",
    "        if os.path.isfile(filepath) and filename.lower().endswith(\".PNG\"):\n",
    "            os.remove(filepath)"
   ]
  },
  {
   "cell_type": "code",
   "execution_count": 7,
   "metadata": {},
   "outputs": [],
   "source": [
    "# copy filtered-data to new folder(FewWordImg)\n",
    "delete_png_files(fWordImg_dir)\n",
    "uni_path = df_few_words['file_name'].unique()\n",
    "\n",
    "for path in uni_path:\n",
    "    for idx, row in df_few_words[df_few_words['file_name'] == path].iterrows():\n",
    "        # print(row['file_name'])\n",
    "        exec_path = os.path.abspath(PPTtoImg_dir)  # image output path\n",
    "        if is_windows:\n",
    "            # for windows OS\n",
    "            ktr = row['file_name'].split('\\\\')[-2]\n",
    "        else:\n",
    "            # for Mac OS\n",
    "            ktr = row['file_name'].split('/')[-2]\n",
    "        name = os.path.basename(row['file_name'])\n",
    "        name = name.split('.')[0]\n",
    "        name = '_'.join([ktr, name, \"%d.PNG\" % row['page_num']])\n",
    "        imgpath = os.path.join(exec_path, name)\n",
    "        \n",
    "        # from PPTtoImg to FewWordImg\n",
    "        shutil.copy(imgpath, os.path.join(os.getcwd(), fWordImg_dir))"
   ]
  },
  {
   "attachments": {},
   "cell_type": "markdown",
   "metadata": {},
   "source": [
    "> This process is to ignore **Chapter Covers** images so that we make them labeling easier"
   ]
  },
  {
   "attachments": {},
   "cell_type": "markdown",
   "metadata": {},
   "source": [
    "# Using `docarray` to construct"
   ]
  },
  {
   "cell_type": "code",
   "execution_count": 10,
   "metadata": {},
   "outputs": [],
   "source": [
    "@dataclass\n",
    "class MySlide:\n",
    "    Content: Text #chunk\n",
    "    ImgPath: Image #chunk\n",
    "    ShapeType: List[str] #tag\n",
    "    PageNum: int #tag\n",
    "    Label: str #tag\n",
    "\n",
    "@dataclass\n",
    "class MyPPT:\n",
    "    FileName: Text\n",
    "    Slide: List[MySlide]\n",
    "\n",
    "group_slide = DocumentArray()\n",
    "uni_path = df_few_words['file_name'].unique()\n",
    "\n",
    "for path in uni_path:\n",
    "    for idx, row in df_few_words[df_few_words['file_name'] == path].iterrows():\n",
    "        # print(row['file_name'])\n",
    "        exec_path = os.path.abspath(fWordImg_dir)  # filter-images output path\n",
    "        if is_windows:\n",
    "            # for windows OS\n",
    "            ktr = row['file_name'].split('\\\\')[-2]\n",
    "        else:\n",
    "            # for Mac OS\n",
    "            ktr = row['file_name'].split('/')[-2]\n",
    "        name = os.path.basename(row['file_name'])\n",
    "        name = name.split('.')[0]\n",
    "        name = '_'.join([ktr, name, \"%d.PNG\" % row['page_num']])\n",
    "        imgpath = os.path.join(exec_path, name)\n",
    "        # imgpath = os.path.join(image_dir_path, )\n",
    "        \n",
    "        m = MySlide(\n",
    "                    Content = row['contents'],\n",
    "                    ImgPath = imgpath,\n",
    "                    ShapeType = row['shape_type'],\n",
    "                    PageNum = row['page_num'],\n",
    "                    Label = row['label']\n",
    "                )\n",
    "        \n",
    "        group_slide.append(Document(m))\n",
    "            \n",
    "docPPT = Document(MyPPT(FileName = path, Slide = group_slide))"
   ]
  },
  {
   "cell_type": "code",
   "execution_count": 11,
   "metadata": {},
   "outputs": [],
   "source": [
    "docPPT_1620 = Document(MyPPT(FileName=docPPT.FileName, Slide=[d for d in docPPT.Slide if d.tags['Label'] != ''and d.tags['Label'] != 'Others']))"
   ]
  },
  {
   "attachments": {},
   "cell_type": "markdown",
   "metadata": {},
   "source": [
    "# Baseline models construction"
   ]
  },
  {
   "cell_type": "code",
   "execution_count": 12,
   "metadata": {},
   "outputs": [],
   "source": [
    "from sklearn.pipeline import Pipeline\n",
    "from sklearn.naive_bayes import MultinomialNB\n",
    "from sklearn.ensemble import RandomForestClassifier\n",
    "from sklearn.preprocessing import MultiLabelBinarizer\n",
    "from sklearn.preprocessing import LabelEncoder\n",
    "from sklearn.compose import ColumnTransformer\n",
    "from sklearn.feature_extraction.text import CountVectorizer\n",
    "from sklearn.feature_extraction.text import TfidfTransformer\n",
    "from sklearn.feature_extraction.text import TfidfVectorizer\n",
    "from sklearn.feature_selection import chi2\n",
    "from sklearn.feature_selection import SelectKBest\n",
    "from sklearn.model_selection import StratifiedKFold, RepeatedStratifiedKFold, cross_val_score, train_test_split, GridSearchCV\n",
    "\n",
    "from sklearn import metrics\n",
    "from sklearn.metrics import classification_report\n",
    "from sklearn.metrics import accuracy_score, f1_score, confusion_matrix\n",
    "from sklearn.metrics import roc_curve, auc, roc_auc_score\n",
    "from sklearn.metrics import log_loss\n",
    "\n",
    "import matplotlib.pyplot as plt\n",
    "import seaborn as sns"
   ]
  },
  {
   "cell_type": "code",
   "execution_count": 13,
   "metadata": {},
   "outputs": [],
   "source": [
    "# This function will print the metrcis for diffeent model\n",
    "def print_model_report(y_test, prediction, ML_modelName):\n",
    "    print(\"Model report for: \"+ ML_modelName + \"\\n\")\n",
    "    print(classification_report(y_test, prediction, digits=4))\n",
    "    \n",
    "    \n",
    "# Show confusion matrix plot\n",
    "def plot_confusion_matrix(y_test, prediction, ML_modelName, cmap):\n",
    "    cm = confusion_matrix(y_test, prediction)\n",
    "    \n",
    "    ax = sns.heatmap(cm, \n",
    "              annot=True, \n",
    "              annot_kws={'size':18,'weight':'normal'},\n",
    "              fmt='.20g', \n",
    "              cmap=cmap, \n",
    "              cbar_kws={'shrink':1},\n",
    "              linewidths=2)\n",
    "    \n",
    "    plt.title(\"Confusion Matrix for: \" + ML_modelName)\n",
    "    plt.ylabel(\"Actual Label\")\n",
    "    plt.xlabel(\"Predict Label\")\n",
    "    cbar = ax.collections[0].colorbar\n",
    "    plt.show()\n",
    "    \n",
    "    \n",
    "def stratifiedVD(X_train, y_train, ex_model):\n",
    "    #StratifiedKFold is a variation of KFold\n",
    "    SKF = StratifiedKFold(n_splits=10, random_state=42, shuffle=True).split(X_train, y_train)\n",
    "    \n",
    "    score_list = []\n",
    "    for k, (train, test) in enumerate(SKF):\n",
    "\n",
    "        print(train.shape, test.shape)\n",
    "        # instantiate the model\n",
    "        ex_model.fit(X_train.iloc[train], y_train.iloc[train])\n",
    "        # calculate the score each fold\n",
    "        score = ex_model.score(X_train.iloc[test], y_train.iloc[test])\n",
    "        score_list.append(score)\n",
    "\n",
    "        print(f'Fold: {k+1:2d}, Class dist.: {np.bincount(y_train.iloc[train])}, Acc: {score:.3f}')    \n",
    "\n",
    "    print(f'\\nCV accuracy: {np.mean(score_list):.3f} +/- {np.std(score_list):.3f}')\n",
    "    \n",
    "\n",
    "def evaluate_model(X, y, pipline):\n",
    "    # instantiate the model\n",
    "    RSKF = RepeatedStratifiedKFold(n_splits=10, random_state=42, n_repeats=3)\n",
    "    scores = cross_val_score(pipline, X, y, cv= RSKF, scoring='accuracy', n_jobs=-1)\n",
    "    return scores\n",
    "\n",
    "\n",
    "def roc_auc_score_multiclass(actual_class, pred_class, average = \"macro\"):\n",
    "    \n",
    "    #creating a set of all the unique classes using the actual class list\n",
    "    unique_class = set(actual_class)\n",
    "    roc_auc_dict = {}\n",
    "    for per_class in unique_class:\n",
    "        \n",
    "        #creating a list of all the classes except the current class \n",
    "        other_class = [x for x in unique_class if x != per_class]\n",
    "\n",
    "        #marking the current class as 1 and all other classes as 0\n",
    "        new_actual_class = [0 if x in other_class else 1 for x in actual_class]\n",
    "        new_pred_class = [0 if x in other_class else 1 for x in pred_class]\n",
    "\n",
    "        #using the sklearn metrics method to calculate the roc_auc_score\n",
    "        # roc_auc = roc_auc_score(new_actual_class, new_pred_class, average = average)\n",
    "        roc_auc = roc_auc_score(new_actual_class, new_pred_class, average= average , multi_class=\"ovr\")\n",
    "\n",
    "        roc_auc_dict[per_class] = roc_auc\n",
    "\n",
    "    return roc_auc_dict"
   ]
  },
  {
   "attachments": {},
   "cell_type": "markdown",
   "metadata": {},
   "source": [
    "# Training set and Testing set spilt"
   ]
  },
  {
   "cell_type": "code",
   "execution_count": 14,
   "metadata": {},
   "outputs": [],
   "source": [
    "dict_augment = {'ori':docPPT.Slide, 'slide_1620':docPPT_1620.Slide}"
   ]
  },
  {
   "cell_type": "code",
   "execution_count": 15,
   "metadata": {},
   "outputs": [
    {
     "name": "stdout",
     "output_type": "stream",
     "text": [
      "ori (23148,) (23148,) (23148,)\n",
      "slide_1620 (1076,) (1076,) (1076,)\n"
     ]
    }
   ],
   "source": [
    "# given textual or visual information as X variable and the category as y variable\n",
    "def get_X_y_set(dict_aug):\n",
    "    dict_ = dict()\n",
    "    for str, da in dict_aug.items():\n",
    "        X_text = da['@.[Content]'].to_dataframe().text\n",
    "        X_shape = pd.Series([slide.tags['ShapeType'] for slide in da])\n",
    "        y = pd.Series([slide.tags['Label'] for slide in da])\n",
    "        print(str, X_text.shape, X_shape.shape, y.shape)\n",
    "        dict_[str] = pd.DataFrame({'X_text': X_text, 'X_shape': X_shape, 'y': y})\n",
    "        \n",
    "    return dict_\n",
    "\n",
    "dict_X_y = get_X_y_set(dict_augment)"
   ]
  },
  {
   "cell_type": "code",
   "execution_count": 16,
   "metadata": {},
   "outputs": [
    {
     "data": {
      "text/html": [
       "<div>\n",
       "<style scoped>\n",
       "    .dataframe tbody tr th:only-of-type {\n",
       "        vertical-align: middle;\n",
       "    }\n",
       "\n",
       "    .dataframe tbody tr th {\n",
       "        vertical-align: top;\n",
       "    }\n",
       "\n",
       "    .dataframe thead th {\n",
       "        text-align: right;\n",
       "    }\n",
       "</style>\n",
       "<table border=\"1\" class=\"dataframe\">\n",
       "  <thead>\n",
       "    <tr style=\"text-align: right;\">\n",
       "      <th></th>\n",
       "      <th>X_text</th>\n",
       "      <th>X_shape</th>\n",
       "      <th>y</th>\n",
       "    </tr>\n",
       "  </thead>\n",
       "  <tbody>\n",
       "    <tr>\n",
       "      <th>0</th>\n",
       "      <td>iCert 20 Change Management  Design Sprint  Sup...</td>\n",
       "      <td>[PICTURE, FREEFORM, TEXT_BOX]</td>\n",
       "      <td>Offer Title</td>\n",
       "    </tr>\n",
       "    <tr>\n",
       "      <th>1</th>\n",
       "      <td>Thematic Focus Transformation change managemen...</td>\n",
       "      <td>[LINE, PICTURE, PLACEHOLDER, AUTO_SHAPE, TEXT_...</td>\n",
       "      <td>Consultant Profile</td>\n",
       "    </tr>\n",
       "    <tr>\n",
       "      <th>2</th>\n",
       "      <td>Secure Life Cycle Management LCM Process Enclo...</td>\n",
       "      <td>[PICTURE, PLACEHOLDER, AUTO_SHAPE, TEXT_BOX, E...</td>\n",
       "      <td>Offer Title</td>\n",
       "    </tr>\n",
       "    <tr>\n",
       "      <th>3</th>\n",
       "      <td>Hamilton provides intelligent ventilation prod...</td>\n",
       "      <td>[LINE, PICTURE, PLACEHOLDER, AUTO_SHAPE, FREEF...</td>\n",
       "      <td>Initial &amp; Target Situation</td>\n",
       "    </tr>\n",
       "    <tr>\n",
       "      <th>4</th>\n",
       "      <td>Impulse and Process Review of todays LCM proce...</td>\n",
       "      <td>[PICTURE, PLACEHOLDER, AUTO_SHAPE, FREEFORM, G...</td>\n",
       "      <td>Working Package Description</td>\n",
       "    </tr>\n",
       "    <tr>\n",
       "      <th>...</th>\n",
       "      <td>...</td>\n",
       "      <td>...</td>\n",
       "      <td>...</td>\n",
       "    </tr>\n",
       "    <tr>\n",
       "      <th>1071</th>\n",
       "      <td>1397 Bayer HealthCare Strategic Project Portfo...</td>\n",
       "      <td>[PICTURE, AUTO_SHAPE, FREEFORM, GROUP, TEXT_BOX]</td>\n",
       "      <td>Reference Overview</td>\n",
       "    </tr>\n",
       "    <tr>\n",
       "      <th>1072</th>\n",
       "      <td>6079 Heinrich Meintrup Executive Vice Presiden...</td>\n",
       "      <td>[TEXT_BOX, AUTO_SHAPE]</td>\n",
       "      <td>Reference Details</td>\n",
       "    </tr>\n",
       "    <tr>\n",
       "      <th>1073</th>\n",
       "      <td>9561 Analysis and critical review of the curre...</td>\n",
       "      <td>[TEXT_BOX, AUTO_SHAPE]</td>\n",
       "      <td>Reference Details</td>\n",
       "    </tr>\n",
       "    <tr>\n",
       "      <th>1074</th>\n",
       "      <td>PPMRail project KnorrBremse is consolidating a...</td>\n",
       "      <td>[LINE, PICTURE, PLACEHOLDER, AUTO_SHAPE, FREEF...</td>\n",
       "      <td>Initial &amp; Target Situation</td>\n",
       "    </tr>\n",
       "    <tr>\n",
       "      <th>1075</th>\n",
       "      <td>Evaluate the scope of the implemented function...</td>\n",
       "      <td>[PICTURE, PLACEHOLDER, AUTO_SHAPE, FREEFORM, G...</td>\n",
       "      <td>Working Package Overview</td>\n",
       "    </tr>\n",
       "  </tbody>\n",
       "</table>\n",
       "<p>1076 rows × 3 columns</p>\n",
       "</div>"
      ],
      "text/plain": [
       "                                                 X_text  \\\n",
       "0     iCert 20 Change Management  Design Sprint  Sup...   \n",
       "1     Thematic Focus Transformation change managemen...   \n",
       "2     Secure Life Cycle Management LCM Process Enclo...   \n",
       "3     Hamilton provides intelligent ventilation prod...   \n",
       "4     Impulse and Process Review of todays LCM proce...   \n",
       "...                                                 ...   \n",
       "1071  1397 Bayer HealthCare Strategic Project Portfo...   \n",
       "1072  6079 Heinrich Meintrup Executive Vice Presiden...   \n",
       "1073  9561 Analysis and critical review of the curre...   \n",
       "1074  PPMRail project KnorrBremse is consolidating a...   \n",
       "1075  Evaluate the scope of the implemented function...   \n",
       "\n",
       "                                                X_shape  \\\n",
       "0                         [PICTURE, FREEFORM, TEXT_BOX]   \n",
       "1     [LINE, PICTURE, PLACEHOLDER, AUTO_SHAPE, TEXT_...   \n",
       "2     [PICTURE, PLACEHOLDER, AUTO_SHAPE, TEXT_BOX, E...   \n",
       "3     [LINE, PICTURE, PLACEHOLDER, AUTO_SHAPE, FREEF...   \n",
       "4     [PICTURE, PLACEHOLDER, AUTO_SHAPE, FREEFORM, G...   \n",
       "...                                                 ...   \n",
       "1071   [PICTURE, AUTO_SHAPE, FREEFORM, GROUP, TEXT_BOX]   \n",
       "1072                             [TEXT_BOX, AUTO_SHAPE]   \n",
       "1073                             [TEXT_BOX, AUTO_SHAPE]   \n",
       "1074  [LINE, PICTURE, PLACEHOLDER, AUTO_SHAPE, FREEF...   \n",
       "1075  [PICTURE, PLACEHOLDER, AUTO_SHAPE, FREEFORM, G...   \n",
       "\n",
       "                                y  \n",
       "0                     Offer Title  \n",
       "1              Consultant Profile  \n",
       "2                     Offer Title  \n",
       "3      Initial & Target Situation  \n",
       "4     Working Package Description  \n",
       "...                           ...  \n",
       "1071           Reference Overview  \n",
       "1072            Reference Details  \n",
       "1073            Reference Details  \n",
       "1074   Initial & Target Situation  \n",
       "1075     Working Package Overview  \n",
       "\n",
       "[1076 rows x 3 columns]"
      ]
     },
     "execution_count": 16,
     "metadata": {},
     "output_type": "execute_result"
    }
   ],
   "source": [
    "dict_X_y['slide_1620']"
   ]
  },
  {
   "cell_type": "code",
   "execution_count": 17,
   "metadata": {},
   "outputs": [
    {
     "data": {
      "text/plain": [
       "Working Package Examples       202\n",
       "Working Package Description    190\n",
       "Reference Details              137\n",
       "Consultant Profile             106\n",
       "Offer Title                     91\n",
       "Working Package Overview        90\n",
       "Project Calculation             85\n",
       "Initial & Target Situation      60\n",
       "Reference Overview              43\n",
       "Competencies                    42\n",
       "Target Situation                17\n",
       "Initial Situation               13\n",
       "Name: y, dtype: int64"
      ]
     },
     "execution_count": 17,
     "metadata": {},
     "output_type": "execute_result"
    }
   ],
   "source": [
    "keys = 'slide_1620'\n",
    "dict_X_y[keys]['y'].value_counts()"
   ]
  },
  {
   "cell_type": "code",
   "execution_count": 18,
   "metadata": {},
   "outputs": [
    {
     "data": {
      "text/plain": [
       "['X_text', 'X_shape']"
      ]
     },
     "execution_count": 18,
     "metadata": {},
     "output_type": "execute_result"
    }
   ],
   "source": [
    "labelencoder = LabelEncoder()\n",
    "dict_X_y[keys]['y'] = labelencoder.fit_transform(dict_X_y[keys]['y'])\n",
    "df_features = pd.DataFrame.from_dict(dict_X_y[keys])\n",
    "features = [c for c in df_features.columns.values if c not in ['y']]\n",
    "features"
   ]
  },
  {
   "cell_type": "code",
   "execution_count": 19,
   "metadata": {},
   "outputs": [],
   "source": [
    "# Train and Test data splits\n",
    "X_train, X_test, y_train, y_test = train_test_split(df_features[features], df_features['y'], test_size=0.2,\n",
    "                                                    stratify=df_features['y'], random_state=42, shuffle=True)"
   ]
  },
  {
   "cell_type": "code",
   "execution_count": 80,
   "metadata": {},
   "outputs": [
    {
     "data": {
      "text/plain": [
       "10    202\n",
       "9     190\n",
       "6     137\n",
       "1     106\n",
       "4      91\n",
       "11     90\n",
       "5      85\n",
       "2      60\n",
       "7      43\n",
       "0      42\n",
       "8      17\n",
       "3      13\n",
       "Name: y, dtype: int64"
      ]
     },
     "execution_count": 80,
     "metadata": {},
     "output_type": "execute_result"
    }
   ],
   "source": [
    "dict_X_y[keys]['y'].value_counts()"
   ]
  },
  {
   "attachments": {},
   "cell_type": "markdown",
   "metadata": {},
   "source": [
    "# Model Implementation(Baseline)"
   ]
  },
  {
   "attachments": {},
   "cell_type": "markdown",
   "metadata": {},
   "source": [
    "## Textual approach"
   ]
  },
  {
   "cell_type": "code",
   "execution_count": 67,
   "metadata": {},
   "outputs": [],
   "source": [
    "# bag of words for chi square\n",
    "# vectorize_cal = CountVectorizer(max_df= 0.85, min_df=2)\n",
    "vectorize_cal = CountVectorizer()\n",
    "sparse_matrix = vectorize_cal.fit_transform(X_train['X_text'], y_train)\n",
    "\n",
    "df_bow=pd.DataFrame(sparse_matrix.toarray(), columns=vectorize_cal.get_feature_names_out())\n",
    "\n",
    "k_best_cal = SelectKBest(score_func = chi2, k = 1000)\n",
    "best_matrix = k_best_cal.fit(df_bow, y_train)\n",
    "\n",
    "cols = best_matrix.get_support(indices=True)\n",
    "features_df_new = df_bow.iloc[:,cols]\n",
    "features_df_new.index = X_train['X_text'].index\n"
   ]
  },
  {
   "attachments": {},
   "cell_type": "markdown",
   "metadata": {},
   "source": [
    "### Naive Bayes (Textual)"
   ]
  },
  {
   "cell_type": "code",
   "execution_count": 81,
   "metadata": {},
   "outputs": [],
   "source": [
    "pipeline_nb_t = Pipeline([('vect', CountVectorizer()),\n",
    "                          ('chi', SelectKBest(score_func = chi2, k = 1000)),\n",
    "                          ('tfidf', TfidfTransformer()),\n",
    "                          ('model', MultinomialNB())])\n",
    "\n",
    "\n",
    "model_nb_t = pipeline_nb_t.fit(X_train['X_text'], y_train)\n"
   ]
  },
  {
   "attachments": {},
   "cell_type": "markdown",
   "metadata": {},
   "source": [
    "### Evaluation Textual Results"
   ]
  },
  {
   "cell_type": "code",
   "execution_count": 82,
   "metadata": {},
   "outputs": [
    {
     "name": "stdout",
     "output_type": "stream",
     "text": [
      "(774,) (86,)\n",
      "Fold:  1, Class dist.: [ 31  77  44   9  65  61  98  30  13 136 145  65], Acc: 0.628\n",
      "(774,) (86,)\n",
      "Fold:  2, Class dist.: [ 31  77  44   9  65  61  98  30  13 136 145  65], Acc: 0.686\n",
      "(774,) (86,)\n",
      "Fold:  3, Class dist.: [ 30  77  43   9  65  61  99  31  13 137 144  65], Acc: 0.744\n",
      "(774,) (86,)\n",
      "Fold:  4, Class dist.: [ 30  76  43   9  66  61  98  31  13 137 145  65], Acc: 0.616\n",
      "(774,) (86,)\n",
      "Fold:  5, Class dist.: [ 30  76  43   9  66  61  98  31  13 137 145  65], Acc: 0.651\n",
      "(774,) (86,)\n",
      "Fold:  6, Class dist.: [ 30  76  43   9  66  61  98  31  13 137 145  65], Acc: 0.663\n",
      "(774,) (86,)\n",
      "Fold:  7, Class dist.: [ 31  76  43   9  66  61  98  31  12 137 145  65], Acc: 0.733\n",
      "(774,) (86,)\n",
      "Fold:  8, Class dist.: [ 31  76  43   9  66  61  98  31  12 137 145  65], Acc: 0.651\n",
      "(774,) (86,)\n",
      "Fold:  9, Class dist.: [ 31  77  43   9  66  62  98  30  12 137 145  64], Acc: 0.616\n",
      "(774,) (86,)\n",
      "Fold: 10, Class dist.: [ 31  77  43   9  66  62  98  30  12 137 145  64], Acc: 0.581\n",
      "\n",
      "CV accuracy: 0.657 +/- 0.049\n"
     ]
    }
   ],
   "source": [
    "stratifiedVD(X_train['X_text'], y_train, model_nb_t)"
   ]
  },
  {
   "cell_type": "code",
   "execution_count": 70,
   "metadata": {},
   "outputs": [],
   "source": [
    "pred_nb_t = model_nb_t.predict(X_test['X_text'])"
   ]
  },
  {
   "cell_type": "code",
   "execution_count": 71,
   "metadata": {},
   "outputs": [
    {
     "name": "stdout",
     "output_type": "stream",
     "text": [
      "Model report for: Naive Bayes (Textual)\n",
      "\n",
      "              precision    recall  f1-score   support\n",
      "\n",
      "           0     1.0000    0.1250    0.2222         8\n",
      "           1     0.8261    0.9048    0.8636        21\n",
      "           2     0.0000    0.0000    0.0000        12\n",
      "           3     0.0000    0.0000    0.0000         3\n",
      "           4     1.0000    1.0000    1.0000        18\n",
      "           5     1.0000    1.0000    1.0000        17\n",
      "           6     0.6111    0.3929    0.4783        28\n",
      "           7     0.0000    0.0000    0.0000         9\n",
      "           8     0.0000    0.0000    0.0000         3\n",
      "           9     0.4615    0.9474    0.6207        38\n",
      "          10     0.5091    0.6829    0.5833        41\n",
      "          11     1.0000    0.2778    0.4348        18\n",
      "\n",
      "    accuracy                         0.6250       216\n",
      "   macro avg     0.5340    0.4442    0.4336       216\n",
      "weighted avg     0.6198    0.6250    0.5724       216\n",
      "\n"
     ]
    },
    {
     "name": "stderr",
     "output_type": "stream",
     "text": [
      "c:\\Users\\Kun\\miniconda3\\envs\\UNITY39\\lib\\site-packages\\sklearn\\metrics\\_classification.py:1344: UndefinedMetricWarning: Precision and F-score are ill-defined and being set to 0.0 in labels with no predicted samples. Use `zero_division` parameter to control this behavior.\n",
      "  _warn_prf(average, modifier, msg_start, len(result))\n",
      "c:\\Users\\Kun\\miniconda3\\envs\\UNITY39\\lib\\site-packages\\sklearn\\metrics\\_classification.py:1344: UndefinedMetricWarning: Precision and F-score are ill-defined and being set to 0.0 in labels with no predicted samples. Use `zero_division` parameter to control this behavior.\n",
      "  _warn_prf(average, modifier, msg_start, len(result))\n",
      "c:\\Users\\Kun\\miniconda3\\envs\\UNITY39\\lib\\site-packages\\sklearn\\metrics\\_classification.py:1344: UndefinedMetricWarning: Precision and F-score are ill-defined and being set to 0.0 in labels with no predicted samples. Use `zero_division` parameter to control this behavior.\n",
      "  _warn_prf(average, modifier, msg_start, len(result))\n"
     ]
    },
    {
     "data": {
      "image/png": "[encoded data removed]",
      "text/plain": [
       "<Figure size 640x480 with 2 Axes>"
      ]
     },
     "metadata": {},
     "output_type": "display_data"
    },
    {
     "data": {
      "text/plain": [
       "{0: 0.5625,\n",
       " 1: 0.942124542124542,\n",
       " 2: 0.49754901960784315,\n",
       " 3: 0.5,\n",
       " 4: 1.0,\n",
       " 5: 1.0,\n",
       " 6: 0.6778115501519757,\n",
       " 7: 0.5,\n",
       " 8: 0.5,\n",
       " 9: 0.855706682436428,\n",
       " 10: 0.7643205574912894,\n",
       " 11: 0.6388888888888888}"
      ]
     },
     "execution_count": 71,
     "metadata": {},
     "output_type": "execute_result"
    }
   ],
   "source": [
    "print_model_report(y_test, pred_nb_t, \"Naive Bayes (Textual)\")\n",
    "plot_confusion_matrix(y_test, pred_nb_t, \"Naive Bayes (Textual)\", plt.cm.Oranges)\n",
    "roc_auc_score_multiclass(y_test, pred_nb_t)"
   ]
  },
  {
   "attachments": {},
   "cell_type": "markdown",
   "metadata": {},
   "source": [
    "## Visual approach"
   ]
  },
  {
   "cell_type": "code",
   "execution_count": 55,
   "metadata": {},
   "outputs": [
    {
     "data": {
      "text/html": [
       "<div>\n",
       "<style scoped>\n",
       "    .dataframe tbody tr th:only-of-type {\n",
       "        vertical-align: middle;\n",
       "    }\n",
       "\n",
       "    .dataframe tbody tr th {\n",
       "        vertical-align: top;\n",
       "    }\n",
       "\n",
       "    .dataframe thead th {\n",
       "        text-align: right;\n",
       "    }\n",
       "</style>\n",
       "<table border=\"1\" class=\"dataframe\">\n",
       "  <thead>\n",
       "    <tr style=\"text-align: right;\">\n",
       "      <th></th>\n",
       "      <th>AUTO_SHAPE</th>\n",
       "      <th>CALLOUT</th>\n",
       "      <th>CANVAS</th>\n",
       "      <th>CHART</th>\n",
       "      <th>COMMENT</th>\n",
       "      <th>DIAGRAM</th>\n",
       "      <th>EMBEDDED_OLE_OBJECT</th>\n",
       "      <th>FORM_CONTROL</th>\n",
       "      <th>FREEFORM</th>\n",
       "      <th>GROUP</th>\n",
       "      <th>...</th>\n",
       "      <th>MEDIA</th>\n",
       "      <th>OLE_CONTROL_OBJECT</th>\n",
       "      <th>PICTURE</th>\n",
       "      <th>PLACEHOLDER</th>\n",
       "      <th>SCRIPT_ANCHOR</th>\n",
       "      <th>TABLE</th>\n",
       "      <th>TEXT_BOX</th>\n",
       "      <th>TEXT_EFFECT</th>\n",
       "      <th>WEB_VIDEO</th>\n",
       "      <th>MIXED</th>\n",
       "    </tr>\n",
       "  </thead>\n",
       "  <tbody>\n",
       "    <tr>\n",
       "      <th>1034</th>\n",
       "      <td>1</td>\n",
       "      <td>0</td>\n",
       "      <td>0</td>\n",
       "      <td>0</td>\n",
       "      <td>0</td>\n",
       "      <td>0</td>\n",
       "      <td>0</td>\n",
       "      <td>0</td>\n",
       "      <td>0</td>\n",
       "      <td>0</td>\n",
       "      <td>...</td>\n",
       "      <td>0</td>\n",
       "      <td>0</td>\n",
       "      <td>1</td>\n",
       "      <td>0</td>\n",
       "      <td>0</td>\n",
       "      <td>0</td>\n",
       "      <td>0</td>\n",
       "      <td>0</td>\n",
       "      <td>0</td>\n",
       "      <td>0</td>\n",
       "    </tr>\n",
       "    <tr>\n",
       "      <th>467</th>\n",
       "      <td>1</td>\n",
       "      <td>0</td>\n",
       "      <td>0</td>\n",
       "      <td>0</td>\n",
       "      <td>0</td>\n",
       "      <td>0</td>\n",
       "      <td>1</td>\n",
       "      <td>0</td>\n",
       "      <td>0</td>\n",
       "      <td>1</td>\n",
       "      <td>...</td>\n",
       "      <td>0</td>\n",
       "      <td>0</td>\n",
       "      <td>1</td>\n",
       "      <td>0</td>\n",
       "      <td>0</td>\n",
       "      <td>0</td>\n",
       "      <td>1</td>\n",
       "      <td>0</td>\n",
       "      <td>0</td>\n",
       "      <td>0</td>\n",
       "    </tr>\n",
       "    <tr>\n",
       "      <th>473</th>\n",
       "      <td>1</td>\n",
       "      <td>0</td>\n",
       "      <td>0</td>\n",
       "      <td>0</td>\n",
       "      <td>0</td>\n",
       "      <td>0</td>\n",
       "      <td>1</td>\n",
       "      <td>0</td>\n",
       "      <td>0</td>\n",
       "      <td>1</td>\n",
       "      <td>...</td>\n",
       "      <td>0</td>\n",
       "      <td>0</td>\n",
       "      <td>1</td>\n",
       "      <td>1</td>\n",
       "      <td>0</td>\n",
       "      <td>0</td>\n",
       "      <td>1</td>\n",
       "      <td>0</td>\n",
       "      <td>0</td>\n",
       "      <td>0</td>\n",
       "    </tr>\n",
       "    <tr>\n",
       "      <th>638</th>\n",
       "      <td>1</td>\n",
       "      <td>0</td>\n",
       "      <td>0</td>\n",
       "      <td>0</td>\n",
       "      <td>0</td>\n",
       "      <td>0</td>\n",
       "      <td>0</td>\n",
       "      <td>0</td>\n",
       "      <td>0</td>\n",
       "      <td>0</td>\n",
       "      <td>...</td>\n",
       "      <td>0</td>\n",
       "      <td>0</td>\n",
       "      <td>1</td>\n",
       "      <td>1</td>\n",
       "      <td>0</td>\n",
       "      <td>0</td>\n",
       "      <td>1</td>\n",
       "      <td>0</td>\n",
       "      <td>0</td>\n",
       "      <td>0</td>\n",
       "    </tr>\n",
       "    <tr>\n",
       "      <th>765</th>\n",
       "      <td>1</td>\n",
       "      <td>0</td>\n",
       "      <td>0</td>\n",
       "      <td>0</td>\n",
       "      <td>0</td>\n",
       "      <td>0</td>\n",
       "      <td>0</td>\n",
       "      <td>0</td>\n",
       "      <td>1</td>\n",
       "      <td>1</td>\n",
       "      <td>...</td>\n",
       "      <td>0</td>\n",
       "      <td>0</td>\n",
       "      <td>0</td>\n",
       "      <td>1</td>\n",
       "      <td>0</td>\n",
       "      <td>0</td>\n",
       "      <td>1</td>\n",
       "      <td>0</td>\n",
       "      <td>0</td>\n",
       "      <td>0</td>\n",
       "    </tr>\n",
       "    <tr>\n",
       "      <th>...</th>\n",
       "      <td>...</td>\n",
       "      <td>...</td>\n",
       "      <td>...</td>\n",
       "      <td>...</td>\n",
       "      <td>...</td>\n",
       "      <td>...</td>\n",
       "      <td>...</td>\n",
       "      <td>...</td>\n",
       "      <td>...</td>\n",
       "      <td>...</td>\n",
       "      <td>...</td>\n",
       "      <td>...</td>\n",
       "      <td>...</td>\n",
       "      <td>...</td>\n",
       "      <td>...</td>\n",
       "      <td>...</td>\n",
       "      <td>...</td>\n",
       "      <td>...</td>\n",
       "      <td>...</td>\n",
       "      <td>...</td>\n",
       "      <td>...</td>\n",
       "    </tr>\n",
       "    <tr>\n",
       "      <th>152</th>\n",
       "      <td>1</td>\n",
       "      <td>0</td>\n",
       "      <td>0</td>\n",
       "      <td>0</td>\n",
       "      <td>0</td>\n",
       "      <td>0</td>\n",
       "      <td>0</td>\n",
       "      <td>0</td>\n",
       "      <td>0</td>\n",
       "      <td>0</td>\n",
       "      <td>...</td>\n",
       "      <td>0</td>\n",
       "      <td>0</td>\n",
       "      <td>0</td>\n",
       "      <td>1</td>\n",
       "      <td>0</td>\n",
       "      <td>0</td>\n",
       "      <td>1</td>\n",
       "      <td>0</td>\n",
       "      <td>0</td>\n",
       "      <td>0</td>\n",
       "    </tr>\n",
       "    <tr>\n",
       "      <th>971</th>\n",
       "      <td>0</td>\n",
       "      <td>0</td>\n",
       "      <td>0</td>\n",
       "      <td>0</td>\n",
       "      <td>0</td>\n",
       "      <td>0</td>\n",
       "      <td>0</td>\n",
       "      <td>0</td>\n",
       "      <td>1</td>\n",
       "      <td>0</td>\n",
       "      <td>...</td>\n",
       "      <td>0</td>\n",
       "      <td>0</td>\n",
       "      <td>1</td>\n",
       "      <td>0</td>\n",
       "      <td>0</td>\n",
       "      <td>0</td>\n",
       "      <td>1</td>\n",
       "      <td>0</td>\n",
       "      <td>0</td>\n",
       "      <td>0</td>\n",
       "    </tr>\n",
       "    <tr>\n",
       "      <th>938</th>\n",
       "      <td>1</td>\n",
       "      <td>0</td>\n",
       "      <td>0</td>\n",
       "      <td>0</td>\n",
       "      <td>0</td>\n",
       "      <td>0</td>\n",
       "      <td>1</td>\n",
       "      <td>0</td>\n",
       "      <td>1</td>\n",
       "      <td>1</td>\n",
       "      <td>...</td>\n",
       "      <td>0</td>\n",
       "      <td>0</td>\n",
       "      <td>1</td>\n",
       "      <td>1</td>\n",
       "      <td>0</td>\n",
       "      <td>0</td>\n",
       "      <td>0</td>\n",
       "      <td>0</td>\n",
       "      <td>0</td>\n",
       "      <td>0</td>\n",
       "    </tr>\n",
       "    <tr>\n",
       "      <th>702</th>\n",
       "      <td>0</td>\n",
       "      <td>0</td>\n",
       "      <td>0</td>\n",
       "      <td>0</td>\n",
       "      <td>0</td>\n",
       "      <td>0</td>\n",
       "      <td>1</td>\n",
       "      <td>0</td>\n",
       "      <td>0</td>\n",
       "      <td>0</td>\n",
       "      <td>...</td>\n",
       "      <td>0</td>\n",
       "      <td>0</td>\n",
       "      <td>0</td>\n",
       "      <td>1</td>\n",
       "      <td>0</td>\n",
       "      <td>0</td>\n",
       "      <td>1</td>\n",
       "      <td>0</td>\n",
       "      <td>0</td>\n",
       "      <td>0</td>\n",
       "    </tr>\n",
       "    <tr>\n",
       "      <th>572</th>\n",
       "      <td>1</td>\n",
       "      <td>0</td>\n",
       "      <td>0</td>\n",
       "      <td>0</td>\n",
       "      <td>0</td>\n",
       "      <td>0</td>\n",
       "      <td>0</td>\n",
       "      <td>0</td>\n",
       "      <td>0</td>\n",
       "      <td>1</td>\n",
       "      <td>...</td>\n",
       "      <td>0</td>\n",
       "      <td>0</td>\n",
       "      <td>1</td>\n",
       "      <td>1</td>\n",
       "      <td>0</td>\n",
       "      <td>0</td>\n",
       "      <td>0</td>\n",
       "      <td>0</td>\n",
       "      <td>0</td>\n",
       "      <td>0</td>\n",
       "    </tr>\n",
       "  </tbody>\n",
       "</table>\n",
       "<p>860 rows × 26 columns</p>\n",
       "</div>"
      ],
      "text/plain": [
       "      AUTO_SHAPE  CALLOUT  CANVAS  CHART  COMMENT  DIAGRAM  \\\n",
       "1034           1        0       0      0        0        0   \n",
       "467            1        0       0      0        0        0   \n",
       "473            1        0       0      0        0        0   \n",
       "638            1        0       0      0        0        0   \n",
       "765            1        0       0      0        0        0   \n",
       "...          ...      ...     ...    ...      ...      ...   \n",
       "152            1        0       0      0        0        0   \n",
       "971            0        0       0      0        0        0   \n",
       "938            1        0       0      0        0        0   \n",
       "702            0        0       0      0        0        0   \n",
       "572            1        0       0      0        0        0   \n",
       "\n",
       "      EMBEDDED_OLE_OBJECT  FORM_CONTROL  FREEFORM  GROUP  ...  MEDIA  \\\n",
       "1034                    0             0         0      0  ...      0   \n",
       "467                     1             0         0      1  ...      0   \n",
       "473                     1             0         0      1  ...      0   \n",
       "638                     0             0         0      0  ...      0   \n",
       "765                     0             0         1      1  ...      0   \n",
       "...                   ...           ...       ...    ...  ...    ...   \n",
       "152                     0             0         0      0  ...      0   \n",
       "971                     0             0         1      0  ...      0   \n",
       "938                     1             0         1      1  ...      0   \n",
       "702                     1             0         0      0  ...      0   \n",
       "572                     0             0         0      1  ...      0   \n",
       "\n",
       "      OLE_CONTROL_OBJECT  PICTURE  PLACEHOLDER  SCRIPT_ANCHOR  TABLE  \\\n",
       "1034                   0        1            0              0      0   \n",
       "467                    0        1            0              0      0   \n",
       "473                    0        1            1              0      0   \n",
       "638                    0        1            1              0      0   \n",
       "765                    0        0            1              0      0   \n",
       "...                  ...      ...          ...            ...    ...   \n",
       "152                    0        0            1              0      0   \n",
       "971                    0        1            0              0      0   \n",
       "938                    0        1            1              0      0   \n",
       "702                    0        0            1              0      0   \n",
       "572                    0        1            1              0      0   \n",
       "\n",
       "      TEXT_BOX  TEXT_EFFECT  WEB_VIDEO  MIXED  \n",
       "1034         0            0          0      0  \n",
       "467          1            0          0      0  \n",
       "473          1            0          0      0  \n",
       "638          1            0          0      0  \n",
       "765          1            0          0      0  \n",
       "...        ...          ...        ...    ...  \n",
       "152          1            0          0      0  \n",
       "971          1            0          0      0  \n",
       "938          0            0          0      0  \n",
       "702          1            0          0      0  \n",
       "572          0            0          0      0  \n",
       "\n",
       "[860 rows x 26 columns]"
      ]
     },
     "execution_count": 55,
     "metadata": {},
     "output_type": "execute_result"
    }
   ],
   "source": [
    "types = ['AUTO_SHAPE', 'CALLOUT', 'CANVAS', 'CHART',\n",
    "        'COMMENT', 'DIAGRAM', 'EMBEDDED_OLE_OBJECT', 'FORM_CONTROL',\n",
    "        'FREEFORM', 'GROUP', 'IGX_GRAPHIC', 'INK', 'INK_COMMENT',\n",
    "        'LINE', 'LINKED_OLE_OBJECT', 'LINKED_PICTURE', 'MEDIA',\n",
    "        'OLE_CONTROL_OBJECT', 'PICTURE', 'PLACEHOLDER', 'SCRIPT_ANCHOR',\n",
    "        'TABLE', 'TEXT_BOX', 'TEXT_EFFECT', 'WEB_VIDEO', 'MIXED']\n",
    "\n",
    "mlb = MultiLabelBinarizer(classes=types)\n",
    "onehot = mlb.fit_transform(X_train['X_shape'])\n",
    "df_shapes = pd.DataFrame(onehot, columns=mlb.classes_, index=X_train['X_shape'].index)\n",
    "df_shapes"
   ]
  },
  {
   "attachments": {},
   "cell_type": "markdown",
   "metadata": {},
   "source": [
    "### Naive Bayes (Visual)"
   ]
  },
  {
   "cell_type": "code",
   "execution_count": 56,
   "metadata": {},
   "outputs": [],
   "source": [
    "from sklearn.base import BaseEstimator, TransformerMixin\n",
    "\n",
    "class MultiLabelBinarizerTransformer(BaseEstimator, TransformerMixin):\n",
    "    def __init__(self, classes):\n",
    "        self.mlb = MultiLabelBinarizer(classes=classes)\n",
    "    \n",
    "    def fit(self, X, y=None):\n",
    "        self.mlb.fit(X)\n",
    "        return self\n",
    "    \n",
    "    def transform(self, X):\n",
    "        return self.mlb.transform(X)\n",
    "\n",
    "pipeline_nb_v = Pipeline([\n",
    "    ('mlb_transformer', MultiLabelBinarizerTransformer(classes=types)),\n",
    "    ('model', MultinomialNB())\n",
    "])\n",
    "\n",
    "model_nb_v = pipeline_nb_v.fit(X_train['X_shape'], y_train)"
   ]
  },
  {
   "attachments": {},
   "cell_type": "markdown",
   "metadata": {},
   "source": [
    "### Evaluation Visual Results"
   ]
  },
  {
   "cell_type": "code",
   "execution_count": 57,
   "metadata": {},
   "outputs": [
    {
     "name": "stdout",
     "output_type": "stream",
     "text": [
      "(774,) (86,)\n",
      "Fold:  1, Class dist.: [ 31  77  44   9  65  61  98  30  13 136 145  65], Acc: 0.640\n",
      "(774,) (86,)\n",
      "Fold:  2, Class dist.: [ 31  77  44   9  65  61  98  30  13 136 145  65], Acc: 0.651\n",
      "(774,) (86,)\n",
      "Fold:  3, Class dist.: [ 30  77  43   9  65  61  99  31  13 137 144  65], Acc: 0.616\n",
      "(774,) (86,)\n",
      "Fold:  4, Class dist.: [ 30  76  43   9  66  61  98  31  13 137 145  65], Acc: 0.570\n",
      "(774,) (86,)\n",
      "Fold:  5, Class dist.: [ 30  76  43   9  66  61  98  31  13 137 145  65], Acc: 0.581\n",
      "(774,) (86,)\n",
      "Fold:  6, Class dist.: [ 30  76  43   9  66  61  98  31  13 137 145  65], Acc: 0.558\n",
      "(774,) (86,)\n",
      "Fold:  7, Class dist.: [ 31  76  43   9  66  61  98  31  12 137 145  65], Acc: 0.709\n",
      "(774,) (86,)\n",
      "Fold:  8, Class dist.: [ 31  76  43   9  66  61  98  31  12 137 145  65], Acc: 0.605\n",
      "(774,) (86,)\n",
      "Fold:  9, Class dist.: [ 31  77  43   9  66  62  98  30  12 137 145  64], Acc: 0.616\n",
      "(774,) (86,)\n",
      "Fold: 10, Class dist.: [ 31  77  43   9  66  62  98  30  12 137 145  64], Acc: 0.581\n",
      "\n",
      "CV accuracy: 0.613 +/- 0.043\n"
     ]
    }
   ],
   "source": [
    "stratifiedVD(X_train['X_shape'], y_train, model_nb_v)"
   ]
  },
  {
   "cell_type": "code",
   "execution_count": 58,
   "metadata": {},
   "outputs": [],
   "source": [
    "pred_nb_v = model_nb_v.predict(X_test['X_shape'])"
   ]
  },
  {
   "cell_type": "code",
   "execution_count": 59,
   "metadata": {},
   "outputs": [
    {
     "name": "stdout",
     "output_type": "stream",
     "text": [
      "Model report for: Naive Bayes (Visual)\n",
      "\n",
      "              precision    recall  f1-score   support\n",
      "\n",
      "           0     0.0000    0.0000    0.0000         8\n",
      "           1     1.0000    0.8571    0.9231        21\n",
      "           2     0.0000    0.0000    0.0000        12\n",
      "           3     0.0000    0.0000    0.0000         3\n",
      "           4     0.8667    0.7222    0.7879        18\n",
      "           5     1.0000    0.7059    0.8276        17\n",
      "           6     0.8571    0.8571    0.8571        28\n",
      "           7     0.0000    0.0000    0.0000         9\n",
      "           8     0.0000    0.0000    0.0000         3\n",
      "           9     0.4146    0.8947    0.5667        38\n",
      "          10     0.5082    0.7561    0.6078        41\n",
      "          11     0.0000    0.0000    0.0000        18\n",
      "\n",
      "    accuracy                         0.6111       216\n",
      "   macro avg     0.3872    0.3994    0.3808       216\n",
      "weighted avg     0.5287    0.6111    0.5467       216\n",
      "\n"
     ]
    },
    {
     "name": "stderr",
     "output_type": "stream",
     "text": [
      "c:\\Users\\Kun\\miniconda3\\envs\\UNITY39\\lib\\site-packages\\sklearn\\metrics\\_classification.py:1344: UndefinedMetricWarning: Precision and F-score are ill-defined and being set to 0.0 in labels with no predicted samples. Use `zero_division` parameter to control this behavior.\n",
      "  _warn_prf(average, modifier, msg_start, len(result))\n",
      "c:\\Users\\Kun\\miniconda3\\envs\\UNITY39\\lib\\site-packages\\sklearn\\metrics\\_classification.py:1344: UndefinedMetricWarning: Precision and F-score are ill-defined and being set to 0.0 in labels with no predicted samples. Use `zero_division` parameter to control this behavior.\n",
      "  _warn_prf(average, modifier, msg_start, len(result))\n",
      "c:\\Users\\Kun\\miniconda3\\envs\\UNITY39\\lib\\site-packages\\sklearn\\metrics\\_classification.py:1344: UndefinedMetricWarning: Precision and F-score are ill-defined and being set to 0.0 in labels with no predicted samples. Use `zero_division` parameter to control this behavior.\n",
      "  _warn_prf(average, modifier, msg_start, len(result))\n"
     ]
    },
    {
     "data": {
      "image/png": "[encoded data removed]",
      "text/plain": [
       "<Figure size 640x480 with 2 Axes>"
      ]
     },
     "metadata": {},
     "output_type": "display_data"
    },
    {
     "data": {
      "text/plain": [
       "{0: 0.5,\n",
       " 1: 0.9285714285714286,\n",
       " 2: 0.5,\n",
       " 3: 0.5,\n",
       " 4: 0.8560606060606061,\n",
       " 5: 0.8529411764705883,\n",
       " 6: 0.9179331306990882,\n",
       " 7: 0.5,\n",
       " 8: 0.5,\n",
       " 9: 0.8125369603784743,\n",
       " 10: 0.7923344947735191,\n",
       " 11: 0.5}"
      ]
     },
     "execution_count": 59,
     "metadata": {},
     "output_type": "execute_result"
    }
   ],
   "source": [
    "print_model_report(y_test, pred_nb_v, \"Naive Bayes (Visual)\")\n",
    "plot_confusion_matrix(y_test, pred_nb_v, \"Naive Bayes (Visual)\", plt.cm.Blues)\n",
    "roc_auc_score_multiclass(y_test, pred_nb_v)"
   ]
  },
  {
   "attachments": {},
   "cell_type": "markdown",
   "metadata": {},
   "source": [
    "## Multi-modal approach"
   ]
  },
  {
   "attachments": {},
   "cell_type": "markdown",
   "metadata": {},
   "source": [
    "### Naive Bayes (Multi-modal)"
   ]
  },
  {
   "cell_type": "code",
   "execution_count": 73,
   "metadata": {},
   "outputs": [],
   "source": [
    "from sklearn.base import BaseEstimator, TransformerMixin\n",
    "\n",
    "\n",
    "class TextSelector(BaseEstimator, TransformerMixin):\n",
    "    \"\"\"\n",
    "    Transformer to select a single column from the data frame to perform additional transformations on\n",
    "    Use on text columns in the data\n",
    "    \"\"\"\n",
    "    def __init__(self, key):\n",
    "        self.key = key\n",
    "\n",
    "    def fit(self, X, y=None):\n",
    "        return self\n",
    "\n",
    "    def transform(self, X):\n",
    "        return X[self.key]\n",
    "    \n",
    "class ShapeSelector(BaseEstimator, TransformerMixin):\n",
    "    \"\"\"\n",
    "    Transformer to select a single column from the data frame to perform additional transformations on\n",
    "    Use on shape columns in the data\n",
    "    \"\"\"\n",
    "    def __init__(self, key):\n",
    "        self.key = key\n",
    "\n",
    "    def fit(self, X, y=None):\n",
    "        return self\n",
    "\n",
    "    def transform(self, X):\n",
    "        return X[self.key]\n",
    "    \n",
    "class MultiLabelBinarizerTransformer(BaseEstimator, TransformerMixin):\n",
    "    def __init__(self, classes):\n",
    "        self.mlb = MultiLabelBinarizer(classes=classes)\n",
    "    \n",
    "    def fit(self, X, y=None):\n",
    "        self.mlb.fit(X)\n",
    "        return self\n",
    "    \n",
    "    def transform(self, X):\n",
    "        return self.mlb.transform(X)    \n",
    "\n",
    "types = ['AUTO_SHAPE', 'CALLOUT', 'CANVAS', 'CHART',\n",
    "        'COMMENT', 'DIAGRAM', 'EMBEDDED_OLE_OBJECT', 'FORM_CONTROL',\n",
    "        'FREEFORM', 'GROUP', 'IGX_GRAPHIC', 'INK', 'INK_COMMENT',\n",
    "        'LINE', 'LINKED_OLE_OBJECT', 'LINKED_PICTURE', 'MEDIA',\n",
    "        'OLE_CONTROL_OBJECT', 'PICTURE', 'PLACEHOLDER', 'SCRIPT_ANCHOR',\n",
    "        'TABLE', 'TEXT_BOX', 'TEXT_EFFECT', 'WEB_VIDEO', 'MIXED']\n",
    "    \n"
   ]
  },
  {
   "cell_type": "code",
   "execution_count": 74,
   "metadata": {},
   "outputs": [],
   "source": [
    "pipeline_text_sel=Pipeline([('selector', TextSelector(key='X_text')),\n",
    "                            ('vect', CountVectorizer()),\n",
    "                            ('chi', SelectKBest(score_func = chi2, k = 1000)),\n",
    "                            ('tfidf', TfidfTransformer()),\n",
    "                    ])\n",
    "\n",
    "text_base = pipeline_text_sel.fit_transform(X_train, y_train)\n",
    "\n",
    "pipeline_shape_sel=Pipeline([\n",
    "    ('selector', ShapeSelector(key='X_shape')),\n",
    "    ('mlb_transformer', MultiLabelBinarizerTransformer(classes=types)),\n",
    "])\n",
    "\n",
    "shape_type = pipeline_shape_sel.fit_transform(X_train, y_train)"
   ]
  },
  {
   "cell_type": "code",
   "execution_count": 75,
   "metadata": {},
   "outputs": [],
   "source": [
    "from sklearn.pipeline import FeatureUnion\n",
    "feats = FeatureUnion([\n",
    "    ('text', pipeline_text_sel),\n",
    "    ('shape', pipeline_shape_sel)\n",
    "])\n",
    "\n",
    "pipline_feature_processing = Pipeline([('feats', feats)])\n",
    "feature_processing=pipline_feature_processing.fit_transform(X_train, y_train)"
   ]
  },
  {
   "cell_type": "code",
   "execution_count": 76,
   "metadata": {},
   "outputs": [],
   "source": [
    "pipeline = Pipeline([\n",
    "    ('features',feats),\n",
    "    ('model', MultinomialNB()),\n",
    "])\n",
    "model_nb_mm = pipeline.fit(X_train, y_train)"
   ]
  },
  {
   "attachments": {},
   "cell_type": "markdown",
   "metadata": {},
   "source": [
    "### Evaluation Multi-modal Results"
   ]
  },
  {
   "cell_type": "code",
   "execution_count": 77,
   "metadata": {},
   "outputs": [
    {
     "name": "stdout",
     "output_type": "stream",
     "text": [
      "(774,) (86,)\n",
      "Fold:  1, Class dist.: [ 31  77  44   9  65  61  98  30  13 136 145  65], Acc: 0.663\n",
      "(774,) (86,)\n",
      "Fold:  2, Class dist.: [ 31  77  44   9  65  61  98  30  13 136 145  65], Acc: 0.663\n",
      "(774,) (86,)\n",
      "Fold:  3, Class dist.: [ 30  77  43   9  65  61  99  31  13 137 144  65], Acc: 0.686\n",
      "(774,) (86,)\n",
      "Fold:  4, Class dist.: [ 30  76  43   9  66  61  98  31  13 137 145  65], Acc: 0.605\n",
      "(774,) (86,)\n",
      "Fold:  5, Class dist.: [ 30  76  43   9  66  61  98  31  13 137 145  65], Acc: 0.616\n",
      "(774,) (86,)\n",
      "Fold:  6, Class dist.: [ 30  76  43   9  66  61  98  31  13 137 145  65], Acc: 0.674\n",
      "(774,) (86,)\n",
      "Fold:  7, Class dist.: [ 31  76  43   9  66  61  98  31  12 137 145  65], Acc: 0.721\n",
      "(774,) (86,)\n",
      "Fold:  8, Class dist.: [ 31  76  43   9  66  61  98  31  12 137 145  65], Acc: 0.616\n",
      "(774,) (86,)\n",
      "Fold:  9, Class dist.: [ 31  77  43   9  66  62  98  30  12 137 145  64], Acc: 0.651\n",
      "(774,) (86,)\n",
      "Fold: 10, Class dist.: [ 31  77  43   9  66  62  98  30  12 137 145  64], Acc: 0.605\n",
      "\n",
      "CV accuracy: 0.650 +/- 0.037\n"
     ]
    }
   ],
   "source": [
    "stratifiedVD(X_train, y_train, model_nb_mm)"
   ]
  },
  {
   "cell_type": "code",
   "execution_count": 78,
   "metadata": {},
   "outputs": [],
   "source": [
    "pred_nb_mm = model_nb_mm.predict(X_test)"
   ]
  },
  {
   "cell_type": "code",
   "execution_count": 79,
   "metadata": {},
   "outputs": [
    {
     "name": "stdout",
     "output_type": "stream",
     "text": [
      "Model report for: Naive Bayes (Multi-modal)\n",
      "\n",
      "              precision    recall  f1-score   support\n",
      "\n",
      "           0     0.0000    0.0000    0.0000         8\n",
      "           1     1.0000    0.9048    0.9500        21\n",
      "           2     0.0000    0.0000    0.0000        12\n",
      "           3     0.0000    0.0000    0.0000         3\n",
      "           4     1.0000    1.0000    1.0000        18\n",
      "           5     1.0000    0.7647    0.8667        17\n",
      "           6     0.9524    0.7143    0.8163        28\n",
      "           7     0.0000    0.0000    0.0000         9\n",
      "           8     0.0000    0.0000    0.0000         3\n",
      "           9     0.4861    0.9211    0.6364        38\n",
      "          10     0.4521    0.8049    0.5789        41\n",
      "          11     0.0000    0.0000    0.0000        18\n",
      "\n",
      "    accuracy                         0.6389       216\n",
      "   macro avg     0.4075    0.4258    0.4040       216\n",
      "weighted avg     0.5540    0.6389    0.5716       216\n",
      "\n"
     ]
    },
    {
     "name": "stderr",
     "output_type": "stream",
     "text": [
      "c:\\Users\\Kun\\miniconda3\\envs\\UNITY39\\lib\\site-packages\\sklearn\\metrics\\_classification.py:1344: UndefinedMetricWarning: Precision and F-score are ill-defined and being set to 0.0 in labels with no predicted samples. Use `zero_division` parameter to control this behavior.\n",
      "  _warn_prf(average, modifier, msg_start, len(result))\n",
      "c:\\Users\\Kun\\miniconda3\\envs\\UNITY39\\lib\\site-packages\\sklearn\\metrics\\_classification.py:1344: UndefinedMetricWarning: Precision and F-score are ill-defined and being set to 0.0 in labels with no predicted samples. Use `zero_division` parameter to control this behavior.\n",
      "  _warn_prf(average, modifier, msg_start, len(result))\n",
      "c:\\Users\\Kun\\miniconda3\\envs\\UNITY39\\lib\\site-packages\\sklearn\\metrics\\_classification.py:1344: UndefinedMetricWarning: Precision and F-score are ill-defined and being set to 0.0 in labels with no predicted samples. Use `zero_division` parameter to control this behavior.\n",
      "  _warn_prf(average, modifier, msg_start, len(result))\n"
     ]
    },
    {
     "data": {
      "image/png": "[encoded data removed]",
      "text/plain": [
       "<Figure size 640x480 with 2 Axes>"
      ]
     },
     "metadata": {},
     "output_type": "display_data"
    },
    {
     "data": {
      "text/plain": [
       "{0: 0.5,\n",
       " 1: 0.9523809523809523,\n",
       " 2: 0.5,\n",
       " 3: 0.5,\n",
       " 4: 1.0,\n",
       " 5: 0.8823529411764706,\n",
       " 6: 0.8544832826747721,\n",
       " 7: 0.5,\n",
       " 8: 0.5,\n",
       " 9: 0.8565937315198109,\n",
       " 10: 0.7881533101045296,\n",
       " 11: 0.5}"
      ]
     },
     "execution_count": 79,
     "metadata": {},
     "output_type": "execute_result"
    }
   ],
   "source": [
    "print_model_report(y_test, pred_nb_mm, \"Naive Bayes (Multi-modal)\")\n",
    "plot_confusion_matrix(y_test, pred_nb_mm, \"Naive Bayes (Multi-modal)\", plt.cm.Greens)\n",
    "roc_auc_score_multiclass(y_test, pred_nb_mm)"
   ]
  },
  {
   "cell_type": "code",
   "execution_count": null,
   "metadata": {},
   "outputs": [],
   "source": []
  }
 ],
 "metadata": {
  "kernelspec": {
   "display_name": "Python 3 (ipykernel)",
   "language": "python",
   "name": "python3"
  },
  "language_info": {
   "codemirror_mode": {
    "name": "ipython",
    "version": 3
   },
   "file_extension": ".py",
   "mimetype": "text/x-python",
   "name": "python",
   "nbconvert_exporter": "python",
   "pygments_lexer": "ipython3",
   "version": "3.9.16"
  },
  "toc": {
   "base_numbering": 1,
   "nav_menu": {},
   "number_sections": true,
   "sideBar": true,
   "skip_h1_title": false,
   "title_cell": "Table of Contents",
   "title_sidebar": "Contents",
   "toc_cell": true,
   "toc_position": {
    "height": "calc(100% - 180px)",
    "left": "10px",
    "top": "150px",
    "width": "258.391px"
   },
   "toc_section_display": true,
   "toc_window_display": true
  }
 },
 "nbformat": 4,
 "nbformat_minor": 2
}
