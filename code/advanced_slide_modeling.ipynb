{
 "cells": [
  {
   "cell_type": "markdown",
   "metadata": {
    "toc": true
   },
   "source": [
    "<h1>Table of Contents<span class=\"tocSkip\"></span></h1>\n",
    "<div class=\"toc\"><ul class=\"toc-item\"><li><span><a href=\"#Parameters\" data-toc-modified-id=\"Parameters-1\"><span class=\"toc-item-num\">1&nbsp;&nbsp;</span>Parameters</a></span></li><li><span><a href=\"#Directories-setting\" data-toc-modified-id=\"Directories-setting-2\"><span class=\"toc-item-num\">2&nbsp;&nbsp;</span>Directories setting</a></span></li><li><span><a href=\"#Corresponding-JSON-file-to-extract-labels\" data-toc-modified-id=\"Corresponding-JSON-file-to-extract-labels-3\"><span class=\"toc-item-num\">3&nbsp;&nbsp;</span>Corresponding JSON file to extract labels</a></span></li><li><span><a href=\"#Advanced-model-construction\" data-toc-modified-id=\"Advanced-model-construction-4\"><span class=\"toc-item-num\">4&nbsp;&nbsp;</span>Advanced model construction</a></span><ul class=\"toc-item\"><li><span><a href=\"#Tokenization\" data-toc-modified-id=\"Tokenization-4.1\"><span class=\"toc-item-num\">4.1&nbsp;&nbsp;</span>Tokenization</a></span></li><li><span><a href=\"#Split-data\" data-toc-modified-id=\"Split-data-4.2\"><span class=\"toc-item-num\">4.2&nbsp;&nbsp;</span>Split data</a></span></li><li><span><a href=\"#Train-Our-Classification-Model\" data-toc-modified-id=\"Train-Our-Classification-Model-4.3\"><span class=\"toc-item-num\">4.3&nbsp;&nbsp;</span>Train Our Classification Model</a></span></li><li><span><a href=\"#Models'-parameters\" data-toc-modified-id=\"Models'-parameters-4.4\"><span class=\"toc-item-num\">4.4&nbsp;&nbsp;</span>Models' parameters</a></span></li><li><span><a href=\"#Training-proecess\" data-toc-modified-id=\"Training-proecess-4.5\"><span class=\"toc-item-num\">4.5&nbsp;&nbsp;</span>Training proecess</a></span></li></ul></li><li><span><a href=\"#Validate-model\" data-toc-modified-id=\"Validate-model-5\"><span class=\"toc-item-num\">5&nbsp;&nbsp;</span>Validate model</a></span></li><li><span><a href=\"#Saving-model\" data-toc-modified-id=\"Saving-model-6\"><span class=\"toc-item-num\">6&nbsp;&nbsp;</span>Saving model</a></span></li><li><span><a href=\"#Load-trained-model-to-predict\" data-toc-modified-id=\"Load-trained-model-to-predict-7\"><span class=\"toc-item-num\">7&nbsp;&nbsp;</span>Load trained model to predict</a></span></li><li><span><a href=\"#Visualization-from-runs\" data-toc-modified-id=\"Visualization-from-runs-8\"><span class=\"toc-item-num\">8&nbsp;&nbsp;</span>Visualization from <code>runs</code></a></span></li><li><span><a href=\"#Befor-fine-tuning-model\" data-toc-modified-id=\"Befor-fine-tuning-model-9\"><span class=\"toc-item-num\">9&nbsp;&nbsp;</span>Befor fine-tuning model</a></span></li></ul></div>"
   ]
  },
  {
   "cell_type": "markdown",
   "metadata": {
    "id": "rcjlIqZp4cjS"
   },
   "source": [
    "Please check parameters first, then to run other cells"
   ]
  },
  {
   "cell_type": "markdown",
   "metadata": {
    "id": "v0TA4QzX41sp"
   },
   "source": [
    "# Parameters"
   ]
  },
  {
   "cell_type": "code",
   "execution_count": 1,
   "metadata": {
    "code_folding": [
     2
    ],
    "colab": {
     "base_uri": "https://localhost:8080/"
    },
    "id": "pVlhlrE_dFtK",
    "outputId": "d7e3c75f-d54d-4693-c566-4c604a499039"
   },
   "outputs": [
    {
     "name": "stdout",
     "output_type": "stream",
     "text": [
      "a_text_e6_s512_lr1.3e-5\n",
      "No GPU available, using the CPU instead.\n"
     ]
    }
   ],
   "source": [
    "import torch\n",
    "import os\n",
    "def sci_format(number_in_scientific_notation):\n",
    "  # Convert the number to a string in scientific notation\n",
    "  number_str = \"{:.1e}\".format(number_in_scientific_notation)\n",
    "\n",
    "  # Check if the exponent contains a leading zero\n",
    "  if \"e-0\" in number_str:\n",
    "      # Remove the leading zero from the exponent\n",
    "      formatted_exponent = number_str.replace(\"e-0\", \"e-\")\n",
    "  else:\n",
    "      formatted_exponent = number_str\n",
    "\n",
    "  # Check if the formatted exponent has a decimal point\n",
    "  if \".\" in formatted_exponent:\n",
    "      # Remove the decimal point and extra zeros from the exponent\n",
    "      formatted_number_str = formatted_exponent.replace(\".0e\", \"e\").replace(\"0e\", \"e\")\n",
    "  else:\n",
    "      formatted_number_str = formatted_exponent\n",
    "  return formatted_number_str\n",
    "\n",
    "# parameters for adjestment\n",
    "labels_json = 'backup_23148_4374.json'\n",
    "# maximun token sequence length\n",
    "MAX_LENGTH_SEQ = 512\n",
    "# The DataLoader needs to know our batch size for training, so we specify it\n",
    "# here. For fine-tuning BERT on a specific task, the authors recommend a batch\n",
    "# size of 16 or 32.\n",
    "batch_size = 16\n",
    "# Number of training epochs. The BERT authors recommend between 2 and 4.\n",
    "# Depends on training criterian\n",
    "epochs = 6\n",
    "\n",
    "learning_rate = 1.3e-5 # args.learning_rate - default is 5e-5, our notebook would adjust\n",
    "eps = 1e-7 # args.adam_epsilon  - default is 1e-8.\n",
    "lr_format = sci_format(learning_rate)\n",
    "# training records\n",
    "# a = advance, text = textual approachs, e = epoch, s = sequence length, lr = learning rate\n",
    "runs_name = f'a_text_e{epochs}_s{MAX_LENGTH_SEQ}_lr{lr_format}'\n",
    "print(runs_name)\n",
    "\n",
    "# Saving training process steps and validation process steps\n",
    "runs_output = f\"./output/runs/{runs_name}\"\n",
    "# Saving best-practices: if you use defaults names for the model, you can reload it using from_pretrained()\n",
    "output_dir = f'./output/checkpoints/{runs_name}'\n",
    "\n",
    "# If there's a GPU available...\n",
    "if torch.cuda.is_available():\n",
    "\n",
    "    # Tell PyTorch to use the GPU.\n",
    "    device = torch.device(\"cuda\")\n",
    "\n",
    "    print('There are %d GPU(s) available.' % torch.cuda.device_count())\n",
    "\n",
    "    print('We will use the GPU:', torch.cuda.get_device_name(0))\n",
    "\n",
    "# If not...\n",
    "else:\n",
    "    print('No GPU available, using the CPU instead.')\n",
    "    device = torch.device(\"cpu\")\n"
   ]
  },
  {
   "cell_type": "markdown",
   "metadata": {
    "id": "vQ2LHhe2454o"
   },
   "source": [
    "# Directories setting"
   ]
  },
  {
   "cell_type": "code",
   "execution_count": 2,
   "metadata": {
    "colab": {
     "base_uri": "https://localhost:8080/"
    },
    "id": "GWt_0Jmj4v8o",
    "outputId": "2f54ed7d-c4b1-40fa-cff3-1d10304b3585"
   },
   "outputs": [
    {
     "name": "stdout",
     "output_type": "stream",
     "text": [
      "<class 'pandas.core.frame.DataFrame'>\n",
      "Int64Index: 26468 entries, 0 to 26467\n",
      "Data columns (total 4 columns):\n",
      " #   Column      Non-Null Count  Dtype \n",
      "---  ------      --------------  ----- \n",
      " 0   file_name   26468 non-null  object\n",
      " 1   page_num    26468 non-null  int64 \n",
      " 2   shape_type  26468 non-null  object\n",
      " 3   contents    26468 non-null  object\n",
      "dtypes: int64(1), object(3)\n",
      "memory usage: 1.0+ MB\n"
     ]
    }
   ],
   "source": [
    "from typing import List\n",
    "import pandas as pd\n",
    "import numpy as np\n",
    "import ast\n",
    "import re\n",
    "\n",
    "source_dir = './output'\n",
    "labels_dir = os.path.join(source_dir, f\"LABELS\")\n",
    "text_path = './alignment_pptx_list.csv'\n",
    "def convert_to_list(data):\n",
    "    return ast.literal_eval(data)\n",
    "# Since it take too much time on traversal ppt files, Easily to import the dataframe from the csv file\n",
    "df_da = pd.read_csv(text_path, converters={'shape_type': convert_to_list})\n",
    "\n",
    "df_da = df_da[~df_da['contents'].isnull()]\n",
    "df_da.info()"
   ]
  },
  {
   "cell_type": "code",
   "execution_count": 3,
   "metadata": {
    "colab": {
     "base_uri": "https://localhost:8080/"
    },
    "id": "6xe9Kf5H40Yz",
    "outputId": "af8942a0-91db-4176-bb9a-6ff383490ab9"
   },
   "outputs": [
    {
     "name": "stdout",
     "output_type": "stream",
     "text": [
      "<class 'pandas.core.frame.DataFrame'>\n",
      "Int64Index: 23148 entries, 0 to 26467\n",
      "Data columns (total 5 columns):\n",
      " #   Column      Non-Null Count  Dtype \n",
      "---  ------      --------------  ----- \n",
      " 0   file_name   23148 non-null  object\n",
      " 1   page_num    23148 non-null  int64 \n",
      " 2   shape_type  23148 non-null  object\n",
      " 3   contents    23148 non-null  object\n",
      " 4   word_count  23148 non-null  int64 \n",
      "dtypes: int64(2), object(3)\n",
      "memory usage: 1.1+ MB\n"
     ]
    }
   ],
   "source": [
    "# filter out less than 4 words\n",
    "df_da['word_count'] = df_da['contents'].apply(lambda x: len(str(x).split()) if pd.notna(x) else 0)\n",
    "df_few_words = df_da[~(df_da['word_count'] <= 4)]\n",
    "df_few_words.info()"
   ]
  },
  {
   "cell_type": "markdown",
   "metadata": {
    "id": "jrkWVNfw3SQ2"
   },
   "source": [
    "# Corresponding JSON file to extract labels"
   ]
  },
  {
   "cell_type": "code",
   "execution_count": null,
   "metadata": {
    "colab": {
     "base_uri": "https://localhost:8080/"
    },
    "id": "hif5vEZg1-c6",
    "outputId": "1fd455d7-0aea-4f13-e0a7-4f03193b73dd",
    "scrolled": true
   },
   "outputs": [],
   "source": [
    "df_json = pd.read_json(os.path.join(labels_dir,'backup_23148_4374.json'))\n",
    "# have done for annotations\n",
    "df_json = df_json[df_json['annotations'].apply(lambda x: len(x) != 0)]\n",
    "# annotation results exist\n",
    "df_json = df_json[df_json['annotations'].apply(lambda x: len(x[0]['result']) != 0)]\n",
    "# 22348 for 13th slide\n",
    "count = 13\n",
    "\n",
    "df_few_words['label'] = ''\n",
    "\n",
    "for idx, row in enumerate(df_json.iterrows()):\n",
    "  slide = row[1]\n",
    "  image_path = slide['data']['image']\n",
    "  choice = slide['annotations'][0]['result'][0]['value']['choices'][0]\n",
    "  # print(image_path, choice)\n",
    "  if image_path.find('22348')!=-1:\n",
    "    # print(image_path, choice)\n",
    "    new_image_name = image_path.split('.')[0] + '_' + str(count) + '.PNG'\n",
    "    slide['data']['image'] = new_image_name\n",
    "    image_path = new_image_name\n",
    "    print(image_path)\n",
    "    count += 1\n",
    "\n",
    "  # get page number\n",
    "  if image_path.split('.')[0].split('_')[-1].isdigit():\n",
    "    page = int(image_path.split('.')[0].split('_')[-1])\n",
    "  else:\n",
    "    page = 0\n",
    "\n",
    "  # given 'Angebot\\ktr' as a condition\n",
    "  ktr = image_path.split('-')[1].split('_')[0]\n",
    "  ktr = 'Angebot\\\\'+ ktr\n",
    "  ktr = re.escape(ktr)\n",
    "\n",
    "  # some issues that it should modify manually\n",
    "  if (ktr == '22348' and page == 13):\n",
    "    df_few_words.loc[(df_few_words['file_name'].str.contains(ktr)) & (df_few_words['page_num'] == page), 'label'] = 'Initial Situation'\n",
    "    continue\n",
    "  elif (ktr == '22348' and page == 14):\n",
    "    df_few_words.loc[(df_few_words['file_name'].str.contains(ktr)) & (df_few_words['page_num'] == page), 'label'] = 'Target Situation'\n",
    "    continue\n",
    "\n",
    "  df_few_words.loc[(df_few_words['file_name'].str.contains(ktr)) & (df_few_words['page_num'] == page), 'label'] = choice\n",
    "\n",
    "df_few_words.info()"
   ]
  },
  {
   "cell_type": "code",
   "execution_count": 6,
   "metadata": {
    "colab": {
     "base_uri": "https://localhost:8080/"
    },
    "id": "OXi1suYIAl6L",
    "outputId": "4afff4ad-345a-4322-e959-10c634ed02e1"
   },
   "outputs": [
    {
     "data": {
      "text/plain": [
       "                               18778\n",
       "Working Package Examples         668\n",
       "Others                           607\n",
       "Working Package Description      564\n",
       "Reference Details                407\n",
       "Consultant Profile               370\n",
       "Offer Title                      365\n",
       "Project Calculation              304\n",
       "Initial & Target Situation       255\n",
       "Working Package Overview         237\n",
       "Reference Overview               215\n",
       "Competencies                     189\n",
       "Target Situation                 103\n",
       "Initial Situation                 86\n",
       "Name: label, dtype: int64"
      ]
     },
     "execution_count": 6,
     "metadata": {},
     "output_type": "execute_result"
    }
   ],
   "source": [
    "df_few_words['label'].value_counts()"
   ]
  },
  {
   "cell_type": "code",
   "execution_count": 7,
   "metadata": {
    "id": "B08yJ4GFxhUp"
   },
   "outputs": [],
   "source": [
    "df = df_few_words[(df_few_words['label']!='') & (df_few_words['label']!='Others')]"
   ]
  },
  {
   "cell_type": "code",
   "execution_count": 8,
   "metadata": {
    "id": "JWGFtwtlYT_4"
   },
   "outputs": [],
   "source": [
    "# split texts into several chunks\n",
    "def get_split(text1):\n",
    "  l_total = []\n",
    "  l_parcial = []\n",
    "  if len(text1.split())//150 >0:\n",
    "    n = len(text1.split())//150\n",
    "  else:\n",
    "    n = 1\n",
    "\n",
    "  for w in range(n):\n",
    "    if w == 0:\n",
    "      l_parcial = text1.split()[:128]\n",
    "      l_total.append(\" \".join(l_parcial))\n",
    "    else:\n",
    "      l_parcial = text1.split()[w*150:w*150 + 128]\n",
    "      l_total.append(\" \".join(l_parcial))\n",
    "  return l_total"
   ]
  },
  {
   "cell_type": "code",
   "execution_count": null,
   "metadata": {
    "colab": {
     "base_uri": "https://localhost:8080/"
    },
    "id": "mIhK45GmnL9g",
    "outputId": "2df55826-1116-4e9d-d6b9-ddae3fd82d72",
    "scrolled": true
   },
   "outputs": [],
   "source": [
    "labels = {'Competencies': 0,\n",
    "            'Consultant Profile':1,\n",
    "            'Initial & Target Situation':2,\n",
    "            'Initial Situation':3,\n",
    "            'Offer Title':4,\n",
    "            'Project Calculation':5,\n",
    "            'Reference Details':6,\n",
    "            'Reference Overview':7,\n",
    "            'Target Situation':8,\n",
    "            'Working Package Description':9,\n",
    "            'Working Package Examples':10,\n",
    "            'Working Package Overview':11,\n",
    "  }\n",
    "\n",
    "df['label_encode'] = df['label'].apply(lambda x : labels[x])\n",
    "df['split_contents'] = df['contents'].apply(lambda x :get_split(x))\n",
    "df = df.explode('split_contents', ignore_index = True)\n",
    "df.drop(columns = ['word_count'], inplace = True)"
   ]
  },
  {
   "cell_type": "markdown",
   "metadata": {
    "id": "V7fmU3f2DeRE"
   },
   "source": [
    "# Advanced model construction"
   ]
  },
  {
   "cell_type": "code",
   "execution_count": null,
   "metadata": {
    "id": "beRtphjcaq2h",
    "scrolled": true
   },
   "outputs": [],
   "source": [
    "from transformers import BertTokenizer, BertTokenizerFast\n",
    "\n",
    "\n",
    "tokenizer = BertTokenizerFast.from_pretrained('bert-base-multilingual-cased')\n",
    "\n",
    "# class Dataset(torch.utils.data.Dataset):\n",
    "\n",
    "#     def __init__(self, df):\n",
    "\n",
    "#         self.labels = [labels[label] for label in df_few_words['category']]\n",
    "#         self.texts = [tokenizer(text,\n",
    "#                                 padding='max_length', max_length = 128, truncation=True,\n",
    "#                                 return_tensors=\"pt\") for text in df_few_words['contents']]\n",
    "\n",
    "#     def classes(self):\n",
    "#         return self.labels\n",
    "\n",
    "#     def __len__(self):\n",
    "#         return len(self.labels)\n",
    "\n",
    "#     def get_batch_labels(self, idx):\n",
    "#         # Fetch a batch of labels\n",
    "#         return np.array(self.labels[idx])\n",
    "\n",
    "#     def get_batch_texts(self, idx):\n",
    "#         # Fetch a batch of inputs\n",
    "#         return self.texts[idx]\n",
    "\n",
    "#     def __getitem__(self, idx):\n",
    "\n",
    "#         batch_texts = self.get_batch_texts(idx)\n",
    "#         batch_y = self.get_batch_labels(idx)\n",
    "\n",
    "#         return batch_texts, batch_y"
   ]
  },
  {
   "cell_type": "code",
   "execution_count": 11,
   "metadata": {
    "colab": {
     "base_uri": "https://localhost:8080/",
     "height": 556
    },
    "id": "GW0HfU-To8vI",
    "outputId": "6feef11f-88c1-4c8f-be6e-4bcf8f810828"
   },
   "outputs": [
    {
     "data": {
      "text/html": [
       "<div>\n",
       "<style scoped>\n",
       "    .dataframe tbody tr th:only-of-type {\n",
       "        vertical-align: middle;\n",
       "    }\n",
       "\n",
       "    .dataframe tbody tr th {\n",
       "        vertical-align: top;\n",
       "    }\n",
       "\n",
       "    .dataframe thead th {\n",
       "        text-align: right;\n",
       "    }\n",
       "</style>\n",
       "<table border=\"1\" class=\"dataframe\">\n",
       "  <thead>\n",
       "    <tr style=\"text-align: right;\">\n",
       "      <th></th>\n",
       "      <th>file_name</th>\n",
       "      <th>page_num</th>\n",
       "      <th>shape_type</th>\n",
       "      <th>contents</th>\n",
       "      <th>label</th>\n",
       "      <th>label_encode</th>\n",
       "      <th>split_contents</th>\n",
       "    </tr>\n",
       "  </thead>\n",
       "  <tbody>\n",
       "    <tr>\n",
       "      <th>0</th>\n",
       "      <td>C:\\Users\\Kun\\Desktop\\Angebot\\10831\\Enclosure 1...</td>\n",
       "      <td>1</td>\n",
       "      <td>[PICTURE, FREEFORM, TEXT_BOX]</td>\n",
       "      <td>iCert 20 Change Management  Design Sprint  Sup...</td>\n",
       "      <td>Offer Title</td>\n",
       "      <td>4</td>\n",
       "      <td>iCert 20 Change Management Design Sprint Suppo...</td>\n",
       "    </tr>\n",
       "    <tr>\n",
       "      <th>1</th>\n",
       "      <td>C:\\Users\\Kun\\Desktop\\Angebot\\10831\\Enclosure 1...</td>\n",
       "      <td>2</td>\n",
       "      <td>[PLACEHOLDER, AUTO_SHAPE, FREEFORM, TABLE, GRO...</td>\n",
       "      <td>B  Intranet Create content and setup concept s...</td>\n",
       "      <td>Working Package Overview</td>\n",
       "      <td>11</td>\n",
       "      <td>B Intranet Create content and setup concept st...</td>\n",
       "    </tr>\n",
       "    <tr>\n",
       "      <th>2</th>\n",
       "      <td>C:\\Users\\Kun\\Desktop\\Angebot\\10831\\Enclosure 1...</td>\n",
       "      <td>4</td>\n",
       "      <td>[LINE, PICTURE, PLACEHOLDER, AUTO_SHAPE, TEXT_...</td>\n",
       "      <td>Thematic Focus Transformation change managemen...</td>\n",
       "      <td>Consultant Profile</td>\n",
       "      <td>1</td>\n",
       "      <td>Thematic Focus Transformation change managemen...</td>\n",
       "    </tr>\n",
       "    <tr>\n",
       "      <th>3</th>\n",
       "      <td>C:\\Users\\Kun\\Desktop\\Angebot\\11137\\Enclosure 1...</td>\n",
       "      <td>1</td>\n",
       "      <td>[PICTURE, PLACEHOLDER, AUTO_SHAPE, TEXT_BOX, E...</td>\n",
       "      <td>Secure Life Cycle Management LCM Process Enclo...</td>\n",
       "      <td>Offer Title</td>\n",
       "      <td>4</td>\n",
       "      <td>Secure Life Cycle Management LCM Process Enclo...</td>\n",
       "    </tr>\n",
       "    <tr>\n",
       "      <th>4</th>\n",
       "      <td>C:\\Users\\Kun\\Desktop\\Angebot\\11137\\Enclosure 1...</td>\n",
       "      <td>4</td>\n",
       "      <td>[LINE, PICTURE, PLACEHOLDER, AUTO_SHAPE, FREEF...</td>\n",
       "      <td>Hamilton provides intelligent ventilation prod...</td>\n",
       "      <td>Initial &amp; Target Situation</td>\n",
       "      <td>2</td>\n",
       "      <td>Hamilton provides intelligent ventilation prod...</td>\n",
       "    </tr>\n",
       "  </tbody>\n",
       "</table>\n",
       "</div>"
      ],
      "text/plain": [
       "                                           file_name  page_num  \\\n",
       "0  C:\\Users\\Kun\\Desktop\\Angebot\\10831\\Enclosure 1...         1   \n",
       "1  C:\\Users\\Kun\\Desktop\\Angebot\\10831\\Enclosure 1...         2   \n",
       "2  C:\\Users\\Kun\\Desktop\\Angebot\\10831\\Enclosure 1...         4   \n",
       "3  C:\\Users\\Kun\\Desktop\\Angebot\\11137\\Enclosure 1...         1   \n",
       "4  C:\\Users\\Kun\\Desktop\\Angebot\\11137\\Enclosure 1...         4   \n",
       "\n",
       "                                          shape_type  \\\n",
       "0                      [PICTURE, FREEFORM, TEXT_BOX]   \n",
       "1  [PLACEHOLDER, AUTO_SHAPE, FREEFORM, TABLE, GRO...   \n",
       "2  [LINE, PICTURE, PLACEHOLDER, AUTO_SHAPE, TEXT_...   \n",
       "3  [PICTURE, PLACEHOLDER, AUTO_SHAPE, TEXT_BOX, E...   \n",
       "4  [LINE, PICTURE, PLACEHOLDER, AUTO_SHAPE, FREEF...   \n",
       "\n",
       "                                            contents  \\\n",
       "0  iCert 20 Change Management  Design Sprint  Sup...   \n",
       "1  B  Intranet Create content and setup concept s...   \n",
       "2  Thematic Focus Transformation change managemen...   \n",
       "3  Secure Life Cycle Management LCM Process Enclo...   \n",
       "4  Hamilton provides intelligent ventilation prod...   \n",
       "\n",
       "                        label  label_encode  \\\n",
       "0                 Offer Title             4   \n",
       "1    Working Package Overview            11   \n",
       "2          Consultant Profile             1   \n",
       "3                 Offer Title             4   \n",
       "4  Initial & Target Situation             2   \n",
       "\n",
       "                                      split_contents  \n",
       "0  iCert 20 Change Management Design Sprint Suppo...  \n",
       "1  B Intranet Create content and setup concept st...  \n",
       "2  Thematic Focus Transformation change managemen...  \n",
       "3  Secure Life Cycle Management LCM Process Enclo...  \n",
       "4  Hamilton provides intelligent ventilation prod...  "
      ]
     },
     "execution_count": 11,
     "metadata": {},
     "output_type": "execute_result"
    }
   ],
   "source": [
    "df.head()"
   ]
  },
  {
   "cell_type": "code",
   "execution_count": null,
   "metadata": {
    "id": "1-mGNJOs2lXj"
   },
   "outputs": [],
   "source": [
    "contents = df.split_contents.values\n",
    "labels = df.label_encode.values"
   ]
  },
  {
   "cell_type": "code",
   "execution_count": null,
   "metadata": {
    "colab": {
     "base_uri": "https://localhost:8080/"
    },
    "id": "1QCwQIDFVCxD",
    "outputId": "67214352-7f3a-4a5d-c0fa-7957638b2cb3"
   },
   "outputs": [
    {
     "name": "stdout",
     "output_type": "stream",
     "text": [
      "Original:  iCert 20 Change Management Design Sprint Support Enclosure 1 Service Description to offer No 10831 Munich 20th June 2022 UNITY AG\n",
      "Tokenized:  ['i', '##C', '##ert', '20', 'Change', 'Management', 'Design', 'Sprint', 'Support', 'En', '##clo', '##sure', '1', 'Service', 'Description', 'to', 'offer', 'No', '108', '##31', 'Munich', '20th', 'June', '2022', 'UN', '##IT', '##Y', 'AG']\n",
      "Token IDs:  [177, 10858, 11605, 10197, 23305, 16485, 17732, 44565, 39007, 10243, 63143, 47394, 122, 13489, 52976, 10114, 24443, 10657, 15845, 81456, 27349, 18604, 11120, 75632, 26578, 37611, 14703, 17935]\n"
     ]
    }
   ],
   "source": [
    "# Print the original sentence.\n",
    "print('Original: ', contents[0])\n",
    "# Print the sentence split into tokens.\n",
    "print('Tokenized: ', tokenizer.tokenize(contents[0]))\n",
    "# Print the sentence mapped to token ids.\n",
    "print('Token IDs: ', tokenizer.convert_tokens_to_ids(tokenizer.tokenize(contents[0])))"
   ]
  },
  {
   "cell_type": "code",
   "execution_count": null,
   "metadata": {
    "colab": {
     "base_uri": "https://localhost:8080/"
    },
    "id": "CXkAawXuZrFy",
    "outputId": "6d027838-7b17-4dec-ccaf-ae662ae6f84e"
   },
   "outputs": [
    {
     "name": "stdout",
     "output_type": "stream",
     "text": [
      "Max sentence length:  365\n"
     ]
    }
   ],
   "source": [
    "# Measure the maximum sentence length.\n",
    "max_len = 0\n",
    "\n",
    "# For every sentence...\n",
    "for sent in contents:\n",
    "\n",
    "    # Tokenize the text and add `[CLS]` and `[SEP]` tokens.\n",
    "    input_ids = tokenizer.encode(sent, add_special_tokens=True)\n",
    "\n",
    "    # Update the maximum sentence length.\n",
    "    max_len = max(max_len, len(input_ids))\n",
    "\n",
    "print('Max sentence length: ', max_len)"
   ]
  },
  {
   "cell_type": "markdown",
   "metadata": {
    "id": "jISIHtneb6cP"
   },
   "source": [
    "## Tokenization"
   ]
  },
  {
   "cell_type": "code",
   "execution_count": null,
   "metadata": {
    "colab": {
     "base_uri": "https://localhost:8080/"
    },
    "id": "1ST35F7x2a8h",
    "outputId": "42eb99a5-0d24-4a33-c0ad-fbc0b6e8f36d"
   },
   "outputs": [],
   "source": [
    "# Tokenize all of the sentences and map the tokens to thier word IDs.\n",
    "input_ids = []\n",
    "attention_masks = []\n",
    "\n",
    "# For every sentence...\n",
    "for sent in contents:\n",
    "    # `encode_plus` will:\n",
    "    #   (1) Tokenize the sentence.\n",
    "    #   (2) Prepend the `[CLS]` token to the start.\n",
    "    #   (3) Append the `[SEP]` token to the end.\n",
    "    #   (4) Map tokens to their IDs.\n",
    "    #   (5) Pad or truncate the sentence to `max_length`\n",
    "    #   (6) Create attention masks for [PAD] tokens.\n",
    "    encoded_dict = tokenizer.encode_plus(\n",
    "                        sent,                           # Sentence to encode.\n",
    "                        add_special_tokens = True,      # Add '[CLS]' and '[SEP]'\n",
    "                        max_length = MAX_LENGTH_SEQ,    # Pad & truncate all sentences.\n",
    "                        pad_to_max_length = True,\n",
    "                        truncation = True,\n",
    "                        return_attention_mask = True,   # Construct attn. masks.\n",
    "                        return_tensors = 'pt',          # Return pytorch tensors.\n",
    "                    )\n",
    "\n",
    "    # Add the encoded sentence to the list.\n",
    "    input_ids.append(encoded_dict['input_ids'])\n",
    "\n",
    "    # And its attention mask (simply differentiates padding from non-padding).\n",
    "    attention_masks.append(encoded_dict['attention_mask'])\n",
    "\n",
    "\n",
    "# Convert the lists into tensors.\n",
    "input_ids = torch.cat(input_ids, dim=0)\n",
    "attention_masks = torch.cat(attention_masks, dim=0)\n",
    "labels = torch.tensor(labels)\n",
    "\n",
    "# Print sentence 0, now as a list of IDs.\n",
    "print('Original: ', contents[0])\n",
    "print('Token IDs: ', input_ids[0])\n",
    "print('attention maske: ', attention_masks[0])\n"
   ]
  },
  {
   "cell_type": "markdown",
   "metadata": {
    "id": "sHy4syGacDSZ"
   },
   "source": [
    "## Split data"
   ]
  },
  {
   "cell_type": "code",
   "execution_count": null,
   "metadata": {
    "colab": {
     "base_uri": "https://localhost:8080/"
    },
    "id": "uPOg7KhKrzHh",
    "outputId": "a84b9d7e-e738-458e-97d6-fc9eea687e6d"
   },
   "outputs": [
    {
     "name": "stdout",
     "output_type": "stream",
     "text": [
      "3,099 training samples\n",
      "  387 validation samples\n",
      "  388 testing samples\n"
     ]
    }
   ],
   "source": [
    "from torch.utils.data import TensorDataset, random_split\n",
    "torch.manual_seed(42)\n",
    "# Combine the training inputs into a TensorDataset.\n",
    "dataset = TensorDataset(input_ids, attention_masks, labels)\n",
    "\n",
    "# Create a 80-10 train-validation split as well as 10-testing split\n",
    "\n",
    "# Calculate the number of samples to include in each set.\n",
    "train_size = int(0.8 * len(dataset))\n",
    "val_size = int(0.1 * len(dataset))\n",
    "test_size = len(dataset) - train_size - val_size\n",
    "\n",
    "# Divide the dataset by randomly selecting samples.\n",
    "# train_dataset, val_dataset = random_split(dataset, [train_size, val_size])\n",
    "train_dataset, temp_dataset = random_split(dataset, [train_size, len(dataset) - train_size])\n",
    "val_dataset, test_dataset = random_split(temp_dataset, [val_size, test_size])\n",
    "\n",
    "print('{:>5,} training samples'.format(train_size))\n",
    "print('{:>5,} validation samples'.format(val_size))\n",
    "print('{:>5,} testing samples'.format(test_size))"
   ]
  },
  {
   "cell_type": "code",
   "execution_count": null,
   "metadata": {
    "id": "jpXWEDtE6hi8"
   },
   "outputs": [],
   "source": [
    "from torch.utils.data import DataLoader, RandomSampler, SequentialSampler\n",
    "\n",
    "# Create DataLoaders for training, validation, and testing\n",
    "# We'll take training samples in random order.\n",
    "train_dataloader = DataLoader(\n",
    "            train_dataset,  # The training samples.\n",
    "            sampler = RandomSampler(train_dataset), # Select batches randomly\n",
    "            batch_size = batch_size # Trains with this batch size.\n",
    "        )\n",
    "\n",
    "# For validation the order doesn't matter, so we'll just read them sequentially.\n",
    "validation_dataloader = DataLoader(\n",
    "            val_dataset, # The validation samples.\n",
    "            sampler = SequentialSampler(val_dataset), # Pull out batches sequentially.\n",
    "            batch_size = batch_size # Evaluate with this batch size.\n",
    ")\n",
    "\n",
    "testing_dataloader = DataLoader(\n",
    "    test_dataset,\n",
    "    sampler=SequentialSampler(test_dataset),\n",
    "    batch_size=batch_size\n",
    ")\n",
    "# save tensor for performance evaluation\n",
    "torch.save(testing_dataloader, './output/others/text_test_dataloader.pth')"
   ]
  },
  {
   "cell_type": "markdown",
   "metadata": {
    "id": "A_IfHMg36rFx"
   },
   "source": [
    "## Train Our Classification Model"
   ]
  },
  {
   "cell_type": "code",
   "execution_count": null,
   "metadata": {
    "colab": {
     "base_uri": "https://localhost:8080/"
    },
    "id": "MOR2Er1D6i5Z",
    "outputId": "05604d3e-762e-4412-ad2c-7cd1884c6795"
   },
   "outputs": [
    {
     "name": "stderr",
     "output_type": "stream",
     "text": [
      "Some weights of BertForSequenceClassification were not initialized from the model checkpoint at bert-base-multilingual-cased and are newly initialized: ['classifier.bias', 'classifier.weight']\n",
      "You should probably TRAIN this model on a down-stream task to be able to use it for predictions and inference.\n"
     ]
    },
    {
     "data": {
      "text/plain": [
       "BertForSequenceClassification(\n",
       "  (bert): BertModel(\n",
       "    (embeddings): BertEmbeddings(\n",
       "      (word_embeddings): Embedding(119547, 768, padding_idx=0)\n",
       "      (position_embeddings): Embedding(512, 768)\n",
       "      (token_type_embeddings): Embedding(2, 768)\n",
       "      (LayerNorm): LayerNorm((768,), eps=1e-12, elementwise_affine=True)\n",
       "      (dropout): Dropout(p=0.1, inplace=False)\n",
       "    )\n",
       "    (encoder): BertEncoder(\n",
       "      (layer): ModuleList(\n",
       "        (0-11): 12 x BertLayer(\n",
       "          (attention): BertAttention(\n",
       "            (self): BertSelfAttention(\n",
       "              (query): Linear(in_features=768, out_features=768, bias=True)\n",
       "              (key): Linear(in_features=768, out_features=768, bias=True)\n",
       "              (value): Linear(in_features=768, out_features=768, bias=True)\n",
       "              (dropout): Dropout(p=0.1, inplace=False)\n",
       "            )\n",
       "            (output): BertSelfOutput(\n",
       "              (dense): Linear(in_features=768, out_features=768, bias=True)\n",
       "              (LayerNorm): LayerNorm((768,), eps=1e-12, elementwise_affine=True)\n",
       "              (dropout): Dropout(p=0.1, inplace=False)\n",
       "            )\n",
       "          )\n",
       "          (intermediate): BertIntermediate(\n",
       "            (dense): Linear(in_features=768, out_features=3072, bias=True)\n",
       "            (intermediate_act_fn): GELUActivation()\n",
       "          )\n",
       "          (output): BertOutput(\n",
       "            (dense): Linear(in_features=3072, out_features=768, bias=True)\n",
       "            (LayerNorm): LayerNorm((768,), eps=1e-12, elementwise_affine=True)\n",
       "            (dropout): Dropout(p=0.1, inplace=False)\n",
       "          )\n",
       "        )\n",
       "      )\n",
       "    )\n",
       "    (pooler): BertPooler(\n",
       "      (dense): Linear(in_features=768, out_features=768, bias=True)\n",
       "      (activation): Tanh()\n",
       "    )\n",
       "  )\n",
       "  (dropout): Dropout(p=0.1, inplace=False)\n",
       "  (classifier): Linear(in_features=768, out_features=12, bias=True)\n",
       ")"
      ]
     },
     "execution_count": 19,
     "metadata": {},
     "output_type": "execute_result"
    }
   ],
   "source": [
    "from transformers import BertForSequenceClassification, AdamW, BertConfig\n",
    "\n",
    "# Load BertForSequenceClassification, the pretrained BERT model with a single\n",
    "# linear classification layer on top.\n",
    "model = BertForSequenceClassification.from_pretrained(\n",
    "        \"bert-base-multilingual-cased\", # Use the 12-layer BERT model, with an uncased vocab.\n",
    "        num_labels = 12, # The number of output labels--12 for multi-class classification.\n",
    "\n",
    "        output_attentions = False, # Whether the model returns attentions weights.\n",
    "        output_hidden_states = False, # Whether the model returns all hidden-states.\n",
    ")\n",
    "\n",
    "# Tell pytorch to run this model on the GPU.\n",
    "model.cuda()"
   ]
  },
  {
   "cell_type": "markdown",
   "metadata": {
    "id": "AXzFrzn6cQht"
   },
   "source": [
    "## Models' parameters"
   ]
  },
  {
   "cell_type": "code",
   "execution_count": null,
   "metadata": {
    "colab": {
     "base_uri": "https://localhost:8080/"
    },
    "id": "eVf1xLNK8q1g",
    "outputId": "9e17ab59-ce7d-4c38-9d9a-ad75a909c688"
   },
   "outputs": [
    {
     "name": "stdout",
     "output_type": "stream",
     "text": [
      "The BERT model has 201 different named parameters.\n",
      "\n",
      "==== Embedding Layer ====\n",
      "\n",
      "bert.embeddings.word_embeddings.weight                  (119547, 768)\n",
      "bert.embeddings.position_embeddings.weight                (512, 768)\n",
      "bert.embeddings.token_type_embeddings.weight                (2, 768)\n",
      "bert.embeddings.LayerNorm.weight                              (768,)\n",
      "bert.embeddings.LayerNorm.bias                                (768,)\n",
      "\n",
      "==== First Transformer ====\n",
      "\n",
      "bert.encoder.layer.0.attention.self.query.weight          (768, 768)\n",
      "bert.encoder.layer.0.attention.self.query.bias                (768,)\n",
      "bert.encoder.layer.0.attention.self.key.weight            (768, 768)\n",
      "bert.encoder.layer.0.attention.self.key.bias                  (768,)\n",
      "bert.encoder.layer.0.attention.self.value.weight          (768, 768)\n",
      "bert.encoder.layer.0.attention.self.value.bias                (768,)\n",
      "bert.encoder.layer.0.attention.output.dense.weight        (768, 768)\n",
      "bert.encoder.layer.0.attention.output.dense.bias              (768,)\n",
      "bert.encoder.layer.0.attention.output.LayerNorm.weight        (768,)\n",
      "bert.encoder.layer.0.attention.output.LayerNorm.bias          (768,)\n",
      "bert.encoder.layer.0.intermediate.dense.weight           (3072, 768)\n",
      "bert.encoder.layer.0.intermediate.dense.bias                 (3072,)\n",
      "bert.encoder.layer.0.output.dense.weight                 (768, 3072)\n",
      "bert.encoder.layer.0.output.dense.bias                        (768,)\n",
      "bert.encoder.layer.0.output.LayerNorm.weight                  (768,)\n",
      "bert.encoder.layer.0.output.LayerNorm.bias                    (768,)\n",
      "\n",
      "==== Output Layer ====\n",
      "\n",
      "bert.pooler.dense.weight                                  (768, 768)\n",
      "bert.pooler.dense.bias                                        (768,)\n",
      "classifier.weight                                          (12, 768)\n",
      "classifier.bias                                                (12,)\n"
     ]
    }
   ],
   "source": [
    "# Get all of the model's parameters as a list of tuples.\n",
    "params = list(model.named_parameters())\n",
    "\n",
    "print('The BERT model has {:} different named parameters.\\n'.format(len(params)))\n",
    "\n",
    "print('==== Embedding Layer ====\\n')\n",
    "\n",
    "for p in params[0:5]:\n",
    "    print(\"{:<55} {:>12}\".format(p[0], str(tuple(p[1].size()))))\n",
    "\n",
    "print('\\n==== First Transformer ====\\n')\n",
    "\n",
    "for p in params[5:21]:\n",
    "    print(\"{:<55} {:>12}\".format(p[0], str(tuple(p[1].size()))))\n",
    "\n",
    "print('\\n==== Output Layer ====\\n')\n",
    "\n",
    "for p in params[-4:]:\n",
    "    print(\"{:<55} {:>12}\".format(p[0], str(tuple(p[1].size()))))"
   ]
  },
  {
   "cell_type": "code",
   "execution_count": null,
   "metadata": {
    "colab": {
     "base_uri": "https://localhost:8080/"
    },
    "id": "Yos56f0S818o",
    "outputId": "2fe0bdc8-e03d-458d-cef3-2c8b08e5808b"
   },
   "outputs": [
    {
     "name": "stderr",
     "output_type": "stream",
     "text": [
      "/usr/local/lib/python3.10/dist-packages/transformers/optimization.py:411: FutureWarning: This implementation of AdamW is deprecated and will be removed in a future version. Use the PyTorch implementation torch.optim.AdamW instead, or set `no_deprecation_warning=True` to disable this warning\n",
      "  warnings.warn(\n"
     ]
    }
   ],
   "source": [
    "from transformers import get_linear_schedule_with_warmup\n",
    "# Note: AdamW is a class from the huggingface library (as opposed to pytorch)\n",
    "# I believe the 'W' stands for 'Weight Decay fix\"\n",
    "\n",
    "optimizer = AdamW(model.parameters(),\n",
    "                  lr = learning_rate[0], # args.learning_rate - default is 5e-5\n",
    "                  eps = eps # args.adam_epsilon  - default is 1e-8.\n",
    "                )\n",
    "\n",
    "# Total number of training steps is [number of batches] x [number of epochs].\n",
    "# (Note that this is not the same as the number of training samples).\n",
    "total_steps = len(train_dataloader) * epochs\n",
    "\n",
    "# Create the learning rate scheduler.\n",
    "scheduler = get_linear_schedule_with_warmup(optimizer,\n",
    "                                            num_warmup_steps = 0, # Default value in run_glue.py\n",
    "                                            num_training_steps = total_steps)"
   ]
  },
  {
   "cell_type": "code",
   "execution_count": null,
   "metadata": {
    "id": "4jupZ-Oo9FHz"
   },
   "outputs": [],
   "source": [
    "import time\n",
    "import datetime\n",
    "\n",
    "# Function to calculate the accuracy of our predictions vs labels\n",
    "def flat_accuracy(preds, labels):\n",
    "    pred_flat = np.argmax(preds, axis=1).flatten()\n",
    "    labels_flat = labels.flatten()\n",
    "    return np.sum(pred_flat == labels_flat) / len(labels_flat)\n",
    "\n",
    "def format_time(elapsed):\n",
    "    '''\n",
    "    Takes a time in seconds and returns a string hh:mm:ss\n",
    "    '''\n",
    "    # Round to the nearest second.\n",
    "    elapsed_rounded = int(round((elapsed)))\n",
    "\n",
    "    # Format as hh:mm:ss\n",
    "    return str(datetime.timedelta(seconds=elapsed_rounded))"
   ]
  },
  {
   "cell_type": "markdown",
   "metadata": {
    "id": "ZCqCcWWSduks"
   },
   "source": [
    "## Training proecess"
   ]
  },
  {
   "cell_type": "code",
   "execution_count": null,
   "metadata": {
    "colab": {
     "base_uri": "https://localhost:8080/"
    },
    "id": "liEmPB7qt5YG",
    "outputId": "c42e7d74-8892-4d1f-bbf5-79c5ac6fe092",
    "scrolled": false
   },
   "outputs": [],
   "source": [
    "import random\n",
    "import numpy as np\n",
    "from torch.utils.tensorboard import SummaryWriter\n",
    "\n",
    "writer = SummaryWriter(runs_output)\n",
    "\n",
    "# This training code is based on the `run_glue.py` script here:\n",
    "# https://github.com/huggingface/transformers/blob/5bfcd0485ece086ebcbed2d008813037968a9e58/examples/run_glue.py#L128\n",
    "\n",
    "# Define early stopping variables\n",
    "early_stop = False\n",
    "best_val_loss = float('inf')  # Initialize with a high value\n",
    "patience = 5  # Number of epochs to wait before stopping if no improvement\n",
    "no_improvement_count = 0  # Counter for epochs with no improvement\n",
    "\n",
    "# Set the seed value all over the place to make this reproducible.\n",
    "seed_val = 42\n",
    "\n",
    "random.seed(seed_val)\n",
    "np.random.seed(seed_val)\n",
    "torch.manual_seed(seed_val)\n",
    "torch.cuda.manual_seed_all(seed_val)\n",
    "\n",
    "# We'll store a number of quantities such as training and validation loss,\n",
    "# validation accuracy, and timings.\n",
    "training_stats = []\n",
    "\n",
    "# Measure the total training time for the whole run.\n",
    "total_t0 = time.time()\n",
    "\n",
    "# For each epoch...\n",
    "for epoch_i in range(0, epochs):\n",
    "\n",
    "    # ========================================\n",
    "    #               Training\n",
    "    # ========================================\n",
    "\n",
    "    # Perform one full pass over the training set.\n",
    "\n",
    "    print(\"\")\n",
    "    print('======== Epoch {:} / {:} ========'.format(epoch_i + 1, epochs))\n",
    "    print('Training...')\n",
    "\n",
    "    # Measure how long the training epoch takes.\n",
    "    t0 = time.time()\n",
    "\n",
    "    # Reset the total loss for this epoch.\n",
    "    total_train_loss = 0\n",
    "\n",
    "    # Put the model into training mode. Don't be mislead--the call to\n",
    "    # `train` just changes the *mode*, it doesn't *perform* the training.\n",
    "    # `dropout` and `batchnorm` layers behave differently during training\n",
    "    # vs. test (source: https://stackoverflow.com/questions/51433378/what-does-model-train-do-in-pytorch)\n",
    "    model.train()\n",
    "\n",
    "    for step, batch in enumerate(train_dataloader):\n",
    "\n",
    "        # Unpack this training batch from our dataloader.\n",
    "        #\n",
    "        # As we unpack the batch, we'll also copy each tensor to the GPU using the\n",
    "        # `to` method.\n",
    "        #\n",
    "        # `batch` contains three pytorch tensors:\n",
    "        #   [0]: input ids\n",
    "        #   [1]: attention masks\n",
    "        #   [2]: labels\n",
    "        b_input_ids = batch[0].to(device)\n",
    "        b_input_mask = batch[1].to(device)\n",
    "        b_labels = batch[2].to(device)\n",
    "\n",
    "        # Always clear any previously calculated gradients before performing a\n",
    "        # backward pass. PyTorch doesn't do this automatically because\n",
    "        # accumulating the gradients is \"convenient while training RNNs\".\n",
    "        # (source: https://stackoverflow.com/questions/48001598/why-do-we-need-to-call-zero-grad-in-pytorch)\n",
    "        model.zero_grad()\n",
    "\n",
    "        # Perform a forward pass (evaluate the model on this training batch).\n",
    "        # The documentation for this `model` function is here:\n",
    "        # https://huggingface.co/transformers/v2.2.0/model_doc/bert.html#transformers.BertForSequenceClassification\n",
    "        # It returns different numbers of parameters depending on what arguments\n",
    "        # arge given and what flags are set. For our useage here, it returns\n",
    "        # the loss (because we provided labels) and the \"logits\"--the model\n",
    "        # outputs prior to activation.\n",
    "        outputs = model(b_input_ids,\n",
    "                        token_type_ids=None,\n",
    "                        attention_mask=b_input_mask,\n",
    "                        labels=b_labels)\n",
    "\n",
    "        loss = outputs.loss\n",
    "        logits = outputs.logits\n",
    "\n",
    "        # Perform a backward pass to calculate the gradients.\n",
    "        loss.backward()\n",
    "\n",
    "        # Clip the norm of the gradients to 1.0.\n",
    "        # This is to help prevent the \"exploding gradients\" problem.\n",
    "        torch.nn.utils.clip_grad_norm_(model.parameters(), 1.0)\n",
    "\n",
    "        # Update parameters and take a step using the computed gradient.\n",
    "        # The optimizer dictates the \"update rule\"--how the parameters are\n",
    "        # modified based on their gradients, the learning rate, etc.\n",
    "        optimizer.step()\n",
    "\n",
    "        # Update the learning rate.\n",
    "        scheduler.step()\n",
    "\n",
    "        # Accumulate the training loss over all of the batches so that we can\n",
    "        # calculate the average loss at the end. `loss` is a Tensor containing a\n",
    "        # single value; the `.item()` function just returns the Python value\n",
    "        # from the tensor.\n",
    "        total_train_loss += loss.item()\n",
    "\n",
    "\n",
    "        # if step % 40 == 39: # every 40 mini-batches....\n",
    "        if step % 40 == 0 and not step == 0:\n",
    "          # Calculate elapsed time in minutes.\n",
    "          elapsed = format_time(time.time() - t0)\n",
    "          # Report progress.\n",
    "          print('  Batch {:>5,}  of  {:>5,}.    Elapsed: {:}.'.format(step, len(train_dataloader), elapsed))\n",
    "\n",
    "          # ========================================\n",
    "          #               Validation\n",
    "          # ========================================\n",
    "          # After the completion of each training epoch, measure our performance on\n",
    "          # our validation set.\n",
    "          print(\"\")\n",
    "          print(f\"Running Validation...({step // 40})\")\n",
    "\n",
    "          t1 = time.time()\n",
    "\n",
    "          # Put the model in evaluation mode--the dropout layers behave differently\n",
    "          # during evaluation.\n",
    "          model.eval()\n",
    "\n",
    "          # Tracking variables\n",
    "          total_eval_accuracy = 0\n",
    "          total_eval_loss = 0\n",
    "          predictions = []\n",
    "          true_labels = []\n",
    "\n",
    "          # Evaluate data for one epoch\n",
    "          for batch in validation_dataloader:\n",
    "\n",
    "              # Unpack this training batch from our dataloader.\n",
    "              #\n",
    "              # As we unpack the batch, we'll also copy each tensor to the GPU using\n",
    "              # the `to` method.\n",
    "              #\n",
    "              # `batch` contains three pytorch tensors:\n",
    "              #   [0]: input ids\n",
    "              #   [1]: attention masks\n",
    "              #   [2]: labels\n",
    "              b_input_ids = batch[0].to(device)\n",
    "              b_input_mask = batch[1].to(device)\n",
    "              b_labels = batch[2].to(device)\n",
    "\n",
    "              # Tell pytorch not to bother with constructing the compute graph during\n",
    "              # the forward pass, since this is only needed for backprop (training).\n",
    "              with torch.no_grad():\n",
    "\n",
    "                  # Forward pass, calculate logit predictions.\n",
    "                  # token_type_ids is the same as the \"segment ids\", which\n",
    "                  # differentiates sentence 1 and 2 in 2-sentence tasks.\n",
    "                  # The documentation for this `model` function is here:\n",
    "                  # https://huggingface.co/transformers/v2.2.0/model_doc/bert.html#transformers.BertForSequenceClassification\n",
    "                  # Get the \"logits\" output by the model. The \"logits\" are the output\n",
    "                  # values prior to applying an activation function like the softmax.\n",
    "\n",
    "                  outputs = model(b_input_ids,\n",
    "                                  token_type_ids=None,\n",
    "                                  attention_mask=b_input_mask,\n",
    "                                  labels=b_labels)\n",
    "\n",
    "                  loss = outputs.loss\n",
    "                  logits = outputs.logits\n",
    "\n",
    "              # Accumulate the validation loss.\n",
    "              total_eval_loss += loss.item()\n",
    "\n",
    "              # Move logits and labels to CPU\n",
    "              logits = logits.detach().cpu().numpy()\n",
    "              label_ids = b_labels.to('cpu').numpy()\n",
    "\n",
    "              # Accumulate the predictions and true labels\n",
    "              predictions.extend(np.argmax(logits, axis=1))\n",
    "              true_labels.extend(label_ids)\n",
    "\n",
    "              # Calculate the accuracy for this batch of test sentences, and\n",
    "              # accumulate it over all batches.\n",
    "              total_eval_accuracy += flat_accuracy(logits, label_ids)\n",
    "\n",
    "\n",
    "\n",
    "          # Calculate the average loss over mini-batches.\n",
    "          avg_train_loss = total_train_loss / 40\n",
    "\n",
    "          # Calculate the average loss over all of the batches.\n",
    "          avg_val_loss = total_eval_loss / len(validation_dataloader)\n",
    "\n",
    "\n",
    "          # Report the final accuracy for this validation run.\n",
    "          avg_val_accuracy = total_eval_accuracy / len(validation_dataloader)\n",
    "          print(\"  Accuracy: {0:.2f}\".format(avg_val_accuracy))\n",
    "\n",
    "          # Measure how long the validation run took.\n",
    "          validation_time = format_time(time.time() - t1)\n",
    "\n",
    "          print(\"  Validation Loss: {0:.2f}\".format(avg_val_loss))\n",
    "          print(\"  Validation took: {:}\".format(validation_time))\n",
    "\n",
    "          # Log the running loss averaged per batch\n",
    "          writer.add_scalars('Training vs. Validation Loss',\n",
    "                            { 'Training' : avg_train_loss, 'Validation' : avg_val_loss },\n",
    "                                epoch_i * len(train_dataloader) + step)\n",
    "\n",
    "          total_train_loss = 0.0\n",
    "\n",
    "\n",
    "          # Check if validation loss improved\n",
    "          if avg_val_loss < best_val_loss:\n",
    "              best_val_loss = avg_val_loss\n",
    "              no_improvement_count = 0\n",
    "          else:\n",
    "              no_improvement_count += 1\n",
    "\n",
    "          # Check if early stopping condition is met\n",
    "          if (no_improvement_count >= patience) and early_stop:\n",
    "              print(f\"Early stopping after {epoch_i + 1} epochs without improvement.\")\n",
    "              break  # Exit the training loop\n",
    "\n",
    "\n",
    "\n",
    "    # Measure how long this epoch took.\n",
    "    training_time = format_time(time.time() - t0)\n",
    "    print(\"\")\n",
    "    print(\"  Average training loss: {0:.2f}\".format(avg_train_loss))\n",
    "    print(\"  Training epcoh took: {:}\".format(training_time))\n",
    "\n",
    "\n",
    "    # Check if early stopping condition is met\n",
    "    if (no_improvement_count >= patience) and early_stop :\n",
    "      print(f\"Early stopping after {epoch_i + 1} epochs without improvement.\")\n",
    "      break  # Exit the training loop\n",
    "\n",
    "print('Finished Training')\n",
    "print(\"Total training took {:} (h:mm:ss)\".format(format_time(time.time()-total_t0)))\n",
    "writer.flush()"
   ]
  },
  {
   "cell_type": "markdown",
   "metadata": {
    "id": "cQpZkwkeeLId"
   },
   "source": [
    "# Validate model"
   ]
  },
  {
   "cell_type": "code",
   "execution_count": null,
   "metadata": {
    "colab": {
     "base_uri": "https://localhost:8080/"
    },
    "id": "SKdgGwVdDWZ1",
    "outputId": "347206d9-e92b-4e3e-eaa8-b8ffda63e61a"
   },
   "outputs": [
    {
     "name": "stdout",
     "output_type": "stream",
     "text": [
      "                                precision    recall  f1-score   support\n",
      "\n",
      "               Competencies[0]       0.93      1.00      0.96        13\n",
      "         Consultant Profile[1]       0.93      0.97      0.95        39\n",
      " Initial & Target Situation[2]       0.95      1.00      0.97        19\n",
      "          Initial Situation[3]       1.00      0.88      0.93         8\n",
      "                Offer Title[4]       1.00      1.00      1.00        37\n",
      "        Project Calculation[5]       1.00      0.97      0.99        39\n",
      "          Reference Details[6]       0.97      0.93      0.95        41\n",
      "         Reference Overview[7]       0.94      0.94      0.94        18\n",
      "           Target Situation[8]       0.91      0.91      0.91        11\n",
      "Working Package Description[9]       0.93      0.93      0.93        57\n",
      "  Working Package Examples[10]       0.94      0.93      0.93        67\n",
      "  Working Package Overview[11]       0.79      0.82      0.81        38\n",
      "\n",
      "                      accuracy                           0.94       387\n",
      "                     macro avg       0.94      0.94      0.94       387\n",
      "                  weighted avg       0.94      0.94      0.94       387\n",
      "\n"
     ]
    }
   ],
   "source": [
    "from sklearn.metrics import classification_report\n",
    "# Convert the predictions and true labels to numpy arrays\n",
    "predictions = np.array(predictions)\n",
    "true_labels = np.array(true_labels)\n",
    "\n",
    "# Generate the classification report\n",
    "report = classification_report(true_labels, predictions, target_names=['Competencies[0]',\n",
    "                                                                      'Consultant Profile[1]',\n",
    "                                                                      'Initial & Target Situation[2]',\n",
    "                                                                      'Initial Situation[3]',\n",
    "                                                                      'Offer Title[4]',\n",
    "                                                                      'Project Calculation[5]',\n",
    "                                                                      'Reference Details[6]',\n",
    "                                                                      'Reference Overview[7]',\n",
    "                                                                      'Target Situation[8]',\n",
    "                                                                      'Working Package Description[9]',\n",
    "                                                                      'Working Package Examples[10]',\n",
    "                                                                      'Working Package Overview[11]'])\n",
    "\n",
    "# Print the classification report\n",
    "print(report)"
   ]
  },
  {
   "cell_type": "markdown",
   "metadata": {
    "id": "WUwBP5xlmSrB"
   },
   "source": [
    "# Saving model"
   ]
  },
  {
   "cell_type": "code",
   "execution_count": null,
   "metadata": {
    "colab": {
     "base_uri": "https://localhost:8080/"
    },
    "id": "kVvHbO9WmEWO",
    "outputId": "d53cb125-af26-41d1-b82c-e8dff4971316",
    "scrolled": true
   },
   "outputs": [],
   "source": [
    "import os\n",
    "\n",
    "# Create output directory if needed\n",
    "if not os.path.exists(output_dir):\n",
    "    os.makedirs(output_dir)\n",
    "\n",
    "print(\"Saving model to %s\" % output_dir)\n",
    "\n",
    "# Save a trained model, configuration and tokenizer using `save_pretrained()`.\n",
    "# They can then be reloaded using `from_pretrained()`\n",
    "model_to_save = model.module if hasattr(model, 'module') else model  # Take care of distributed/parallel training\n",
    "model_to_save.save_pretrained(output_dir)\n",
    "tokenizer.save_pretrained(output_dir)\n",
    "\n",
    "# Good practice: save your training arguments together with the trained model\n",
    "# torch.save(args, os.path.join(output_dir, 'training_args.bin'))"
   ]
  },
  {
   "cell_type": "markdown",
   "metadata": {
    "id": "hF8DTczGcFQf"
   },
   "source": [
    "# Load trained model to predict"
   ]
  },
  {
   "cell_type": "code",
   "execution_count": null,
   "metadata": {
    "colab": {
     "base_uri": "https://localhost:8080/"
    },
    "id": "0pQsO00jcPHb",
    "outputId": "38bdacd3-249c-492a-fb62-57cf57447657"
   },
   "outputs": [
    {
     "data": {
      "text/plain": [
       "BertForSequenceClassification(\n",
       "  (bert): BertModel(\n",
       "    (embeddings): BertEmbeddings(\n",
       "      (word_embeddings): Embedding(119547, 768, padding_idx=0)\n",
       "      (position_embeddings): Embedding(512, 768)\n",
       "      (token_type_embeddings): Embedding(2, 768)\n",
       "      (LayerNorm): LayerNorm((768,), eps=1e-12, elementwise_affine=True)\n",
       "      (dropout): Dropout(p=0.1, inplace=False)\n",
       "    )\n",
       "    (encoder): BertEncoder(\n",
       "      (layer): ModuleList(\n",
       "        (0-11): 12 x BertLayer(\n",
       "          (attention): BertAttention(\n",
       "            (self): BertSelfAttention(\n",
       "              (query): Linear(in_features=768, out_features=768, bias=True)\n",
       "              (key): Linear(in_features=768, out_features=768, bias=True)\n",
       "              (value): Linear(in_features=768, out_features=768, bias=True)\n",
       "              (dropout): Dropout(p=0.1, inplace=False)\n",
       "            )\n",
       "            (output): BertSelfOutput(\n",
       "              (dense): Linear(in_features=768, out_features=768, bias=True)\n",
       "              (LayerNorm): LayerNorm((768,), eps=1e-12, elementwise_affine=True)\n",
       "              (dropout): Dropout(p=0.1, inplace=False)\n",
       "            )\n",
       "          )\n",
       "          (intermediate): BertIntermediate(\n",
       "            (dense): Linear(in_features=768, out_features=3072, bias=True)\n",
       "            (intermediate_act_fn): GELUActivation()\n",
       "          )\n",
       "          (output): BertOutput(\n",
       "            (dense): Linear(in_features=3072, out_features=768, bias=True)\n",
       "            (LayerNorm): LayerNorm((768,), eps=1e-12, elementwise_affine=True)\n",
       "            (dropout): Dropout(p=0.1, inplace=False)\n",
       "          )\n",
       "        )\n",
       "      )\n",
       "    )\n",
       "    (pooler): BertPooler(\n",
       "      (dense): Linear(in_features=768, out_features=768, bias=True)\n",
       "      (activation): Tanh()\n",
       "    )\n",
       "  )\n",
       "  (dropout): Dropout(p=0.1, inplace=False)\n",
       "  (classifier): Linear(in_features=768, out_features=12, bias=True)\n",
       ")"
      ]
     },
     "execution_count": 28,
     "metadata": {},
     "output_type": "execute_result"
    }
   ],
   "source": [
    "from transformers import BertForSequenceClassification, BertTokenizerFast\n",
    "\n",
    "# Load a trained model and vocabulary that you have fine-tuned\n",
    "model = BertForSequenceClassification.from_pretrained(output_dir)\n",
    "tokenizer = BertTokenizerFast.from_pretrained(output_dir)\n",
    "\n",
    "# Copy the model to the GPU.\n",
    "model.to(device)"
   ]
  },
  {
   "cell_type": "code",
   "execution_count": null,
   "metadata": {
    "colab": {
     "base_uri": "https://localhost:8080/"
    },
    "id": "JaaqRdyungPz",
    "outputId": "2faa5698-7a85-4865-971b-22f656d3708c",
    "scrolled": false
   },
   "outputs": [],
   "source": [
    "from sklearn.metrics import classification_report\n",
    "# Prediction on test set\n",
    "print('Predicting labels for {:,} test sentences...'.format(test_size))\n",
    "\n",
    "# Put model in evaluation mode\n",
    "model.eval()\n",
    "\n",
    "# Tracking variables\n",
    "predictions , true_labels = [], []\n",
    "\n",
    "# Predict\n",
    "for batch in testing_dataloader:\n",
    "  # Add batch to GPU\n",
    "  # batch = tuple(t.to(device) for t in batch)\n",
    "\n",
    "  # Unpack the inputs from our dataloader\n",
    "  # b_input_ids, b_input_mask, b_labels = batch\n",
    "  b_input_ids = batch[0].to(device)\n",
    "  b_input_mask = batch[1].to(device)\n",
    "  b_labels = batch[2].to(device)\n",
    "\n",
    "\n",
    "\n",
    "  # Telling the model not to compute or store gradients, saving memory and\n",
    "  # speeding up prediction\n",
    "  with torch.no_grad():\n",
    "      # Forward pass, calculate logit predictions\n",
    "      outputs = model(b_input_ids, token_type_ids=None,\n",
    "                      attention_mask=b_input_mask,\n",
    "                      labels=b_labels)\n",
    "\n",
    "\n",
    "  loss = outputs.loss\n",
    "  logits = outputs.logits\n",
    "\n",
    "\n",
    "  # Move logits and labels to CPU\n",
    "  logits = logits.detach().cpu().numpy()\n",
    "  label_ids = b_labels.to('cpu').numpy()\n",
    "\n",
    "  # Store predictions and true labels\n",
    "  # predictions.extend(np.argmax(logits, axis=1))\n",
    "  # true_labels.extend(label_ids)\n",
    "  predictions.append(logits)\n",
    "  true_labels.append(label_ids)\n",
    "\n",
    "print('    DONE.')\n",
    "\n",
    "# print('Positive samples: %d of %d (%.2f%%)' % (df.label.sum(), len(df.label), (df.label.sum() / len(df.label) * 100.0)))\n",
    "\n",
    "print(predictions)\n",
    "print(true_labels)\n",
    "\n",
    "\n"
   ]
  },
  {
   "cell_type": "code",
   "execution_count": null,
   "metadata": {
    "colab": {
     "base_uri": "https://localhost:8080/",
     "height": 564
    },
    "id": "aciwsinwhZ2h",
    "outputId": "c248af3d-56a6-4f75-bd5a-1091ee2cb6db"
   },
   "outputs": [
    {
     "data": {
      "image/png": "[encoded data removed]",
      "text/plain": [
       "<Figure size 600x600 with 1 Axes>"
      ]
     },
     "metadata": {},
     "output_type": "display_data"
    }
   ],
   "source": [
    "from sklearn.manifold import TSNE\n",
    "import matplotlib.pyplot as plt\n",
    "import seaborn as sns\n",
    "# Concatenate the embeddings and labels\n",
    "embeddings = np.concatenate(predictions)\n",
    "hue_labels = np.concatenate(true_labels)\n",
    "\n",
    "# Apply t-SNE for dimensionality reduction\n",
    "tsne = TSNE(n_components=2, random_state=42)\n",
    "embeddings_2d = tsne.fit_transform(embeddings)\n",
    "\n",
    "# Map true labels to corresponding class names\n",
    "class_names = ['Competencies[0]', 'Consultant Profile[1]', 'Initial & Target Situation[2]',\n",
    "               'Initial Situation[3]', 'Offer Title[4]', 'Project Calculation[5]',\n",
    "               'Reference Details[6]', 'Reference Overview[7]', 'Target Situation[8]',\n",
    "               'Working Package Description[9]', 'Working Package Examples[10]',\n",
    "               'Working Package Overview[11]']\n",
    "\n",
    "# Create a colormap for different classes\n",
    "cmap = sns.color_palette(\"husl\", n_colors=len(class_names))\n",
    "\n",
    "# Use Seaborn to visualize the embeddings\n",
    "plt.figure(figsize=(6, 6), facecolor='lightgray')  # 設定背景顏色為淺灰色\n",
    "sns.scatterplot(x=embeddings_2d[:, 0], y=embeddings_2d[:, 1], hue=hue_labels,\n",
    "                palette=cmap, legend='full',)\n",
    "plt.xlabel('t-SNE Dimension 1')\n",
    "plt.ylabel('t-SNE Dimension 2')\n",
    "plt.title('t-SNE Visualization of BERT Embeddings')\n",
    "plt.grid(True)\n",
    "sns.despine()  # Remove spines from plot\n",
    "\n",
    "# Move the legend to the bottom right corner\n",
    "plt.legend(title='True Labels', labels=class_names, fontsize='small', loc='lower right')\n",
    "\n",
    "plt.show()"
   ]
  },
  {
   "cell_type": "code",
   "execution_count": null,
   "metadata": {
    "colab": {
     "base_uri": "https://localhost:8080/",
     "height": 1000
    },
    "id": "23CVJ1zEty-3",
    "outputId": "fc560a2d-d1eb-41d2-f0b5-445400d71fc6",
    "scrolled": false
   },
   "outputs": [],
   "source": [
    "import matplotlib.pyplot as plt\n",
    "%matplotlib inline\n",
    "import seaborn as sns\n",
    "from sklearn.metrics import matthews_corrcoef\n",
    "\n",
    "matthews_set = []\n",
    "\n",
    "ground_true = []\n",
    "preds = []\n",
    "# Evaluate each test batch using Matthew's correlation coefficient\n",
    "print('Calculating Matthews Corr. Coef. for each batch...')\n",
    "\n",
    "# For each input BATCH...\n",
    "for i in range(len(true_labels)):\n",
    "\n",
    "  # The predictions for this batch are a 2-column ndarray (one column for \"0\"\n",
    "  # and one column for \"1\"). Pick the label with the highest value and turn this\n",
    "  # in to a list of 0s and 1s.\n",
    "  pred_labels_i = np.argmax(predictions[i], axis=1).flatten()\n",
    "\n",
    "  # Calculate and store the coef for this batch.\n",
    "  matthews = matthews_corrcoef(true_labels[i], pred_labels_i)\n",
    "  matthews_set.append(matthews)\n",
    "  print(pred_labels_i)\n",
    "  print(true_labels[i])\n",
    "  print('------')\n",
    "  # extend for checking every label\n",
    "  ground_true.extend(pred_labels_i)\n",
    "  preds.extend(true_labels[i])\n",
    "\n",
    "# Create a barplot showing the MCC score for each batch of test samples.\n",
    "ax = sns.barplot(x=list(range(len(matthews_set))), y=matthews_set, ci=None)\n",
    "\n",
    "plt.title('MCC Score per Batch')\n",
    "plt.ylabel('MCC Score (-1 to +1)')\n",
    "plt.xlabel('Batch #')\n",
    "\n",
    "plt.show()"
   ]
  },
  {
   "cell_type": "code",
   "execution_count": null,
   "metadata": {
    "colab": {
     "base_uri": "https://localhost:8080/"
    },
    "id": "H1WprC0X_xQL",
    "outputId": "903772ee-c29f-4b5a-8cc7-165c30d3ad3a"
   },
   "outputs": [
    {
     "name": "stdout",
     "output_type": "stream",
     "text": [
      "Total MCC: 0.931\n"
     ]
    }
   ],
   "source": [
    "# Combine the results across all batches.\n",
    "flat_predictions = np.concatenate(predictions, axis=0)\n",
    "\n",
    "# For each sample, pick the label (0 or 1) with the higher score.\n",
    "flat_predictions = np.argmax(flat_predictions, axis=1).flatten()\n",
    "\n",
    "# Combine the correct labels for each batch into a single list.\n",
    "flat_true_labels = np.concatenate(true_labels, axis=0)\n",
    "\n",
    "# Calculate the MCC\n",
    "mcc = matthews_corrcoef(flat_true_labels, flat_predictions)\n",
    "\n",
    "print('Total MCC: %.3f' % mcc)"
   ]
  },
  {
   "cell_type": "code",
   "execution_count": null,
   "metadata": {
    "colab": {
     "base_uri": "https://localhost:8080/"
    },
    "id": "Hec9mgrenmW0",
    "outputId": "b3de539d-503e-4891-d253-f559cb4b1a23"
   },
   "outputs": [
    {
     "name": "stdout",
     "output_type": "stream",
     "text": [
      "                                precision    recall  f1-score   support\n",
      "\n",
      "               Competencies[0]       0.96      1.00      0.98        26\n",
      "         Consultant Profile[1]       0.97      1.00      0.98        31\n",
      " Initial & Target Situation[2]       0.87      0.96      0.92        28\n",
      "          Initial Situation[3]       0.88      1.00      0.93         7\n",
      "                Offer Title[4]       0.97      1.00      0.99        33\n",
      "        Project Calculation[5]       1.00      0.97      0.98        29\n",
      "          Reference Details[6]       1.00      0.93      0.96        40\n",
      "         Reference Overview[7]       0.97      1.00      0.98        28\n",
      "           Target Situation[8]       1.00      0.73      0.84        11\n",
      "Working Package Description[9]       0.94      0.88      0.91        57\n",
      "  Working Package Examples[10]       0.93      0.99      0.96        72\n",
      "  Working Package Overview[11]       0.72      0.69      0.71        26\n",
      "\n",
      "                      accuracy                           0.94       388\n",
      "                     macro avg       0.93      0.93      0.93       388\n",
      "                  weighted avg       0.94      0.94      0.94       388\n",
      "\n"
     ]
    }
   ],
   "source": [
    "# Generate the classification report\n",
    "test_report = classification_report(ground_true, preds, target_names=['Competencies[0]',\n",
    "                                                                      'Consultant Profile[1]',\n",
    "                                                                      'Initial & Target Situation[2]',\n",
    "                                                                      'Initial Situation[3]',\n",
    "                                                                      'Offer Title[4]',\n",
    "                                                                      'Project Calculation[5]',\n",
    "                                                                      'Reference Details[6]',\n",
    "                                                                      'Reference Overview[7]',\n",
    "                                                                      'Target Situation[8]',\n",
    "                                                                      'Working Package Description[9]',\n",
    "                                                                      'Working Package Examples[10]',\n",
    "                                                                      'Working Package Overview[11]'])\n",
    "\n",
    "# Print the classification report\n",
    "print(test_report)"
   ]
  },
  {
   "cell_type": "markdown",
   "metadata": {
    "id": "A7Agm-4XoB1r"
   },
   "source": [
    "# Visualization from `runs`"
   ]
  },
  {
   "cell_type": "code",
   "execution_count": 12,
   "metadata": {
    "colab": {
     "base_uri": "https://localhost:8080/",
     "height": 821
    },
    "id": "BzBA4xD-cIGX",
    "outputId": "effa72fa-d213-4758-d4b4-ef114082db23",
    "scrolled": false
   },
   "outputs": [
    {
     "data": {
      "text/html": [
       "\n",
       "      <iframe id=\"tensorboard-frame-c7569a3ec05e6cd0\" width=\"100%\" height=\"800\" frameborder=\"0\">\n",
       "      </iframe>\n",
       "      <script>\n",
       "        (function() {\n",
       "          const frame = document.getElementById(\"tensorboard-frame-c7569a3ec05e6cd0\");\n",
       "          const url = new URL(\"/\", window.location);\n",
       "          const port = 1003;\n",
       "          if (port) {\n",
       "            url.port = port;\n",
       "          }\n",
       "          frame.src = url;\n",
       "        })();\n",
       "      </script>\n",
       "    "
      ],
      "text/plain": [
       "<IPython.core.display.HTML object>"
      ]
     },
     "metadata": {},
     "output_type": "display_data"
    }
   ],
   "source": [
    "%load_ext tensorboard\n",
    "%tensorboard --logdir=./output/runs --port=1003"
   ]
  },
  {
   "cell_type": "markdown",
   "metadata": {
    "id": "-LmVUxOCfOhB"
   },
   "source": [
    "# Befor fine-tuning model"
   ]
  },
  {
   "cell_type": "code",
   "execution_count": null,
   "metadata": {
    "colab": {
     "base_uri": "https://localhost:8080/"
    },
    "id": "Kha19h2vqzwN",
    "outputId": "3b11cb81-1e95-419b-ec1d-9066057ca26a"
   },
   "outputs": [
    {
     "name": "stderr",
     "output_type": "stream",
     "text": [
      "Some weights of BertForSequenceClassification were not initialized from the model checkpoint at bert-base-multilingual-cased and are newly initialized: ['classifier.bias', 'classifier.weight']\n",
      "You should probably TRAIN this model on a down-stream task to be able to use it for predictions and inference.\n"
     ]
    },
    {
     "data": {
      "text/plain": [
       "BertForSequenceClassification(\n",
       "  (bert): BertModel(\n",
       "    (embeddings): BertEmbeddings(\n",
       "      (word_embeddings): Embedding(119547, 768, padding_idx=0)\n",
       "      (position_embeddings): Embedding(512, 768)\n",
       "      (token_type_embeddings): Embedding(2, 768)\n",
       "      (LayerNorm): LayerNorm((768,), eps=1e-12, elementwise_affine=True)\n",
       "      (dropout): Dropout(p=0.1, inplace=False)\n",
       "    )\n",
       "    (encoder): BertEncoder(\n",
       "      (layer): ModuleList(\n",
       "        (0-11): 12 x BertLayer(\n",
       "          (attention): BertAttention(\n",
       "            (self): BertSelfAttention(\n",
       "              (query): Linear(in_features=768, out_features=768, bias=True)\n",
       "              (key): Linear(in_features=768, out_features=768, bias=True)\n",
       "              (value): Linear(in_features=768, out_features=768, bias=True)\n",
       "              (dropout): Dropout(p=0.1, inplace=False)\n",
       "            )\n",
       "            (output): BertSelfOutput(\n",
       "              (dense): Linear(in_features=768, out_features=768, bias=True)\n",
       "              (LayerNorm): LayerNorm((768,), eps=1e-12, elementwise_affine=True)\n",
       "              (dropout): Dropout(p=0.1, inplace=False)\n",
       "            )\n",
       "          )\n",
       "          (intermediate): BertIntermediate(\n",
       "            (dense): Linear(in_features=768, out_features=3072, bias=True)\n",
       "            (intermediate_act_fn): GELUActivation()\n",
       "          )\n",
       "          (output): BertOutput(\n",
       "            (dense): Linear(in_features=3072, out_features=768, bias=True)\n",
       "            (LayerNorm): LayerNorm((768,), eps=1e-12, elementwise_affine=True)\n",
       "            (dropout): Dropout(p=0.1, inplace=False)\n",
       "          )\n",
       "        )\n",
       "      )\n",
       "    )\n",
       "    (pooler): BertPooler(\n",
       "      (dense): Linear(in_features=768, out_features=768, bias=True)\n",
       "      (activation): Tanh()\n",
       "    )\n",
       "  )\n",
       "  (dropout): Dropout(p=0.1, inplace=False)\n",
       "  (classifier): Linear(in_features=768, out_features=12, bias=True)\n",
       ")"
      ]
     },
     "execution_count": 66,
     "metadata": {},
     "output_type": "execute_result"
    }
   ],
   "source": [
    "from transformers import BertTokenizer, BertModel, BertForSequenceClassification\n",
    "model = BertForSequenceClassification.from_pretrained('bert-base-multilingual-cased', num_labels = 12)\n",
    "# Copy the model to the GPU.\n",
    "model.to(device)"
   ]
  },
  {
   "cell_type": "code",
   "execution_count": null,
   "metadata": {
    "colab": {
     "base_uri": "https://localhost:8080/"
    },
    "id": "WgYsAgnGy8RR",
    "outputId": "79dd8e68-bbde-4d03-e584-7432d6a68b0a",
    "scrolled": false
   },
   "outputs": [],
   "source": [
    "from sklearn.metrics import classification_report\n",
    "# Prediction on test set\n",
    "print('Predicting labels for {:,} test sentences...'.format(test_size))\n",
    "\n",
    "# Put model in evaluation mode\n",
    "model.eval()\n",
    "\n",
    "# Tracking variables\n",
    "predictions , true_labels = [], []\n",
    "\n",
    "# Predict\n",
    "for batch in testing_dataloader:\n",
    "  # Add batch to GPU\n",
    "  # batch = tuple(t.to(device) for t in batch)\n",
    "\n",
    "  # Unpack the inputs from our dataloader\n",
    "  # b_input_ids, b_input_mask, b_labels = batch\n",
    "  b_input_ids = batch[0].to(device)\n",
    "  b_input_mask = batch[1].to(device)\n",
    "  b_labels = batch[2].to(device)\n",
    "\n",
    "  # Telling the model not to compute or store gradients, saving memory and\n",
    "  # speeding up prediction\n",
    "  with torch.no_grad():\n",
    "      # Forward pass, calculate logit predictions\n",
    "      outputs = model(b_input_ids, token_type_ids=None,\n",
    "                      attention_mask=b_input_mask,\n",
    "                      labels=b_labels)\n",
    "\n",
    "\n",
    "  loss = outputs.loss\n",
    "  logits = outputs.logits\n",
    "\n",
    "  # Move logits and labels to CPU\n",
    "  logits = logits.detach().cpu().numpy()\n",
    "  label_ids = b_labels.to('cpu').numpy()\n",
    "\n",
    "  # Store predictions and true labels\n",
    "  # predictions.extend(np.argmax(logits, axis=1))\n",
    "  # true_labels.extend(label_ids)\n",
    "  predictions.append(logits)\n",
    "  true_labels.append(label_ids)\n",
    "\n",
    "print('    DONE.')\n",
    "\n",
    "# print('Positive samples: %d of %d (%.2f%%)' % (df.label.sum(), len(df.label), (df.label.sum() / len(df.label) * 100.0)))\n",
    "\n",
    "print(predictions)\n",
    "print(true_labels)"
   ]
  },
  {
   "cell_type": "code",
   "execution_count": null,
   "metadata": {
    "colab": {
     "base_uri": "https://localhost:8080/",
     "height": 545
    },
    "id": "Ovx7WSsr2axA",
    "outputId": "4205d18d-d9ea-49f1-d25f-bb14741778f4"
   },
   "outputs": [
    {
     "data": {
      "image/png": "[encoded data removed]",
      "text/plain": [
       "<Figure size 600x600 with 1 Axes>"
      ]
     },
     "metadata": {},
     "output_type": "display_data"
    }
   ],
   "source": [
    "from sklearn.manifold import TSNE\n",
    "import matplotlib.pyplot as plt\n",
    "import seaborn as sns\n",
    "# Concatenate the embeddings and labels\n",
    "embeddings = np.concatenate(predictions)\n",
    "hue_labels = np.concatenate(true_labels)\n",
    "\n",
    "# Apply t-SNE for dimensionality reduction\n",
    "tsne = TSNE(n_components=2, random_state=42)\n",
    "embeddings_2d = tsne.fit_transform(embeddings)\n",
    "\n",
    "# Map true labels to corresponding class names\n",
    "class_names = ['Competencies[0]', 'Consultant Profile[1]', 'Initial & Target Situation[2]',\n",
    "               'Initial Situation[3]', 'Offer Title[4]', 'Project Calculation[5]',\n",
    "               'Reference Details[6]', 'Reference Overview[7]', 'Target Situation[8]',\n",
    "               'Working Package Description[9]', 'Working Package Examples[10]',\n",
    "               'Working Package Overview[11]']\n",
    "\n",
    "# Create a colormap for different classes\n",
    "cmap = sns.color_palette(\"husl\", n_colors=len(class_names))\n",
    "\n",
    "# Use Seaborn to visualize the embeddings\n",
    "plt.figure(figsize=(6, 6), facecolor='lightgray')\n",
    "sns.scatterplot(x=embeddings_2d[:, 0], y=embeddings_2d[:, 1], hue=hue_labels,\n",
    "                palette=cmap, legend='full',)\n",
    "# plt.xlabel('t-SNE Dimension 1')\n",
    "# plt.ylabel('t-SNE Dimension 2')\n",
    "plt.title('t-SNE Visualization of BERT Embeddings (pretraind)')\n",
    "plt.grid(True)\n",
    "sns.despine()  # Remove spines from plot\n",
    "\n",
    "# Move the legend to the bottom right corner\n",
    "plt.legend(title='True Labels', labels=class_names, fontsize='small', loc='lower right')\n",
    "\n",
    "plt.show()"
   ]
  }
 ],
 "metadata": {
  "colab": {
   "provenance": [],
   "toc_visible": true
  },
  "kernelspec": {
   "display_name": "Python 3 (ipykernel)",
   "language": "python",
   "name": "python3"
  },
  "language_info": {
   "codemirror_mode": {
    "name": "ipython",
    "version": 3
   },
   "file_extension": ".py",
   "mimetype": "text/x-python",
   "name": "python",
   "nbconvert_exporter": "python",
   "pygments_lexer": "ipython3",
   "version": "3.9.16"
  },
  "toc": {
   "base_numbering": 1,
   "nav_menu": {},
   "number_sections": true,
   "sideBar": true,
   "skip_h1_title": false,
   "title_cell": "Table of Contents",
   "title_sidebar": "Contents",
   "toc_cell": true,
   "toc_position": {
    "height": "calc(100% - 180px)",
    "left": "10px",
    "top": "150px",
    "width": "292.679px"
   },
   "toc_section_display": true,
   "toc_window_display": true
  }
 },
 "nbformat": 4,
 "nbformat_minor": 1
}
